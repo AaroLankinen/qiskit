{
 "cells": [
  {
   "cell_type": "code",
   "execution_count": 64,
   "metadata": {},
   "outputs": [
    {
     "name": "stdout",
     "output_type": "stream",
     "text": [
      "Requirement already satisfied: qiskit in c:\\users\\mike\\anaconda3\\lib\\site-packages (0.20.0)\n",
      "Requirement already satisfied: qiskit-terra==0.15.1 in c:\\users\\mike\\anaconda3\\lib\\site-packages (from qiskit) (0.15.1)\n",
      "Requirement already satisfied: qiskit-ibmq-provider==0.8.0 in c:\\users\\mike\\anaconda3\\lib\\site-packages (from qiskit) (0.8.0)\n",
      "Requirement already satisfied: qiskit-aqua==0.7.5 in c:\\users\\mike\\anaconda3\\lib\\site-packages (from qiskit) (0.7.5)\n",
      "Requirement already satisfied: qiskit-ignis==0.4.0 in c:\\users\\mike\\anaconda3\\lib\\site-packages (from qiskit) (0.4.0)\n",
      "Requirement already satisfied: qiskit-aer==0.6.1 in c:\\users\\mike\\anaconda3\\lib\\site-packages (from qiskit) (0.6.1)\n",
      "Requirement already satisfied: scipy>=1.4 in c:\\users\\mike\\anaconda3\\lib\\site-packages (from qiskit-terra==0.15.1->qiskit) (1.5.0)\n",
      "Requirement already satisfied: numpy>=1.17 in c:\\users\\mike\\anaconda3\\lib\\site-packages (from qiskit-terra==0.15.1->qiskit) (1.18.5)\n",
      "Requirement already satisfied: retworkx>=0.4.0 in c:\\users\\mike\\anaconda3\\lib\\site-packages (from qiskit-terra==0.15.1->qiskit) (0.4.0)\n",
      "Requirement already satisfied: dill>=0.3 in c:\\users\\mike\\anaconda3\\lib\\site-packages (from qiskit-terra==0.15.1->qiskit) (0.3.2)\n",
      "Requirement already satisfied: sympy>=1.3 in c:\\users\\mike\\anaconda3\\lib\\site-packages (from qiskit-terra==0.15.1->qiskit) (1.6.1)\n",
      "Requirement already satisfied: jsonschema>=2.6 in c:\\users\\mike\\anaconda3\\lib\\site-packages (from qiskit-terra==0.15.1->qiskit) (3.2.0)\n",
      "Requirement already satisfied: python-constraint>=1.4 in c:\\users\\mike\\anaconda3\\lib\\site-packages (from qiskit-terra==0.15.1->qiskit) (1.4.0)\n",
      "Requirement already satisfied: fastjsonschema>=2.10 in c:\\users\\mike\\anaconda3\\lib\\site-packages (from qiskit-terra==0.15.1->qiskit) (2.14.5)\n",
      "Requirement already satisfied: networkx>=2.2; python_version > \"3.5\" in c:\\users\\mike\\anaconda3\\lib\\site-packages (from qiskit-terra==0.15.1->qiskit) (2.4)\n",
      "Requirement already satisfied: python-dateutil>=2.8.0 in c:\\users\\mike\\anaconda3\\lib\\site-packages (from qiskit-terra==0.15.1->qiskit) (2.8.1)\n",
      "Requirement already satisfied: psutil>=5 in c:\\users\\mike\\anaconda3\\lib\\site-packages (from qiskit-terra==0.15.1->qiskit) (5.7.0)\n",
      "Requirement already satisfied: ply>=3.10 in c:\\users\\mike\\anaconda3\\lib\\site-packages (from qiskit-terra==0.15.1->qiskit) (3.11)\n",
      "Requirement already satisfied: requests>=2.19 in c:\\users\\mike\\anaconda3\\lib\\site-packages (from qiskit-ibmq-provider==0.8.0->qiskit) (2.24.0)\n",
      "Requirement already satisfied: websockets>=8; python_version > \"3.6\" in c:\\users\\mike\\anaconda3\\lib\\site-packages (from qiskit-ibmq-provider==0.8.0->qiskit) (8.1)\n",
      "Requirement already satisfied: nest-asyncio!=1.1.0,>=1.0.0 in c:\\users\\mike\\anaconda3\\lib\\site-packages (from qiskit-ibmq-provider==0.8.0->qiskit) (1.4.0)\n",
      "Requirement already satisfied: urllib3>=1.21.1 in c:\\users\\mike\\anaconda3\\lib\\site-packages (from qiskit-ibmq-provider==0.8.0->qiskit) (1.25.9)\n",
      "Requirement already satisfied: requests-ntlm>=1.1.0 in c:\\users\\mike\\anaconda3\\lib\\site-packages (from qiskit-ibmq-provider==0.8.0->qiskit) (1.1.0)\n",
      "Requirement already satisfied: dlx in c:\\users\\mike\\anaconda3\\lib\\site-packages (from qiskit-aqua==0.7.5->qiskit) (1.0.4)\n",
      "Requirement already satisfied: pandas in c:\\users\\mike\\anaconda3\\lib\\site-packages (from qiskit-aqua==0.7.5->qiskit) (1.0.5)\n",
      "Requirement already satisfied: docplex in c:\\users\\mike\\anaconda3\\lib\\site-packages (from qiskit-aqua==0.7.5->qiskit) (2.15.194)\n",
      "Requirement already satisfied: scikit-learn>=0.20.0 in c:\\users\\mike\\anaconda3\\lib\\site-packages (from qiskit-aqua==0.7.5->qiskit) (0.23.1)\n",
      "Requirement already satisfied: yfinance in c:\\users\\mike\\anaconda3\\lib\\site-packages (from qiskit-aqua==0.7.5->qiskit) (0.1.54)\n",
      "Requirement already satisfied: quandl in c:\\users\\mike\\anaconda3\\lib\\site-packages (from qiskit-aqua==0.7.5->qiskit) (3.5.2)\n",
      "Requirement already satisfied: fastdtw in c:\\users\\mike\\anaconda3\\lib\\site-packages (from qiskit-aqua==0.7.5->qiskit) (0.3.4)\n",
      "Requirement already satisfied: setuptools>=40.1.0 in c:\\users\\mike\\anaconda3\\lib\\site-packages (from qiskit-aqua==0.7.5->qiskit) (49.2.0.post20200714)\n",
      "Requirement already satisfied: h5py in c:\\users\\mike\\anaconda3\\lib\\site-packages (from qiskit-aqua==0.7.5->qiskit) (2.10.0)\n",
      "Requirement already satisfied: cython>=0.27.1 in c:\\users\\mike\\anaconda3\\lib\\site-packages (from qiskit-aer==0.6.1->qiskit) (0.29.21)\n",
      "Requirement already satisfied: pybind11>=2.4 in c:\\users\\mike\\anaconda3\\lib\\site-packages (from qiskit-aer==0.6.1->qiskit) (2.5.0)\n",
      "Requirement already satisfied: mpmath>=0.19 in c:\\users\\mike\\anaconda3\\lib\\site-packages (from sympy>=1.3->qiskit-terra==0.15.1->qiskit) (1.1.0)\n",
      "Requirement already satisfied: attrs>=17.4.0 in c:\\users\\mike\\anaconda3\\lib\\site-packages (from jsonschema>=2.6->qiskit-terra==0.15.1->qiskit) (19.3.0)\n",
      "Requirement already satisfied: six>=1.11.0 in c:\\users\\mike\\anaconda3\\lib\\site-packages (from jsonschema>=2.6->qiskit-terra==0.15.1->qiskit) (1.15.0)\n",
      "Requirement already satisfied: pyrsistent>=0.14.0 in c:\\users\\mike\\anaconda3\\lib\\site-packages (from jsonschema>=2.6->qiskit-terra==0.15.1->qiskit) (0.16.0)\n",
      "Requirement already satisfied: decorator>=4.3.0 in c:\\users\\mike\\anaconda3\\lib\\site-packages (from networkx>=2.2; python_version > \"3.5\"->qiskit-terra==0.15.1->qiskit) (4.4.2)\n",
      "Requirement already satisfied: idna<3,>=2.5 in c:\\users\\mike\\anaconda3\\lib\\site-packages (from requests>=2.19->qiskit-ibmq-provider==0.8.0->qiskit) (2.10)\n",
      "Requirement already satisfied: certifi>=2017.4.17 in c:\\users\\mike\\anaconda3\\lib\\site-packages (from requests>=2.19->qiskit-ibmq-provider==0.8.0->qiskit) (2020.6.20)\n",
      "Requirement already satisfied: chardet<4,>=3.0.2 in c:\\users\\mike\\anaconda3\\lib\\site-packages (from requests>=2.19->qiskit-ibmq-provider==0.8.0->qiskit) (3.0.4)\n",
      "Requirement already satisfied: ntlm-auth>=1.0.2 in c:\\users\\mike\\anaconda3\\lib\\site-packages (from requests-ntlm>=1.1.0->qiskit-ibmq-provider==0.8.0->qiskit) (1.5.0)\n",
      "Requirement already satisfied: cryptography>=1.3 in c:\\users\\mike\\anaconda3\\lib\\site-packages (from requests-ntlm>=1.1.0->qiskit-ibmq-provider==0.8.0->qiskit) (2.9.2)\n",
      "Requirement already satisfied: pytz>=2017.2 in c:\\users\\mike\\anaconda3\\lib\\site-packages (from pandas->qiskit-aqua==0.7.5->qiskit) (2020.1)\n",
      "Requirement already satisfied: joblib>=0.11 in c:\\users\\mike\\anaconda3\\lib\\site-packages (from scikit-learn>=0.20.0->qiskit-aqua==0.7.5->qiskit) (0.16.0)\n",
      "Requirement already satisfied: threadpoolctl>=2.0.0 in c:\\users\\mike\\anaconda3\\lib\\site-packages (from scikit-learn>=0.20.0->qiskit-aqua==0.7.5->qiskit) (2.1.0)\n",
      "Requirement already satisfied: multitasking>=0.0.7 in c:\\users\\mike\\anaconda3\\lib\\site-packages (from yfinance->qiskit-aqua==0.7.5->qiskit) (0.0.9)\n",
      "Requirement already satisfied: inflection>=0.3.1 in c:\\users\\mike\\anaconda3\\lib\\site-packages (from quandl->qiskit-aqua==0.7.5->qiskit) (0.5.1)\n",
      "Requirement already satisfied: more-itertools in c:\\users\\mike\\anaconda3\\lib\\site-packages (from quandl->qiskit-aqua==0.7.5->qiskit) (8.4.0)\n",
      "Requirement already satisfied: cffi!=1.11.3,>=1.8 in c:\\users\\mike\\anaconda3\\lib\\site-packages (from cryptography>=1.3->requests-ntlm>=1.1.0->qiskit-ibmq-provider==0.8.0->qiskit) (1.14.0)\n",
      "Requirement already satisfied: pycparser in c:\\users\\mike\\anaconda3\\lib\\site-packages (from cffi!=1.11.3,>=1.8->cryptography>=1.3->requests-ntlm>=1.1.0->qiskit-ibmq-provider==0.8.0->qiskit) (2.20)\n"
     ]
    }
   ],
   "source": [
    "!pip install qiskit\n",
    "import qiskit as qk\n",
    "#from qiskit import IBMQ,Aer\n",
    "\n",
    "%matplotlib inline\n",
    "# Importing standard Qiskit libraries and configuring account\n",
    "from qiskit import QuantumCircuit, execute, Aer, IBMQ\n",
    "from qiskit.compiler import transpile, assemble\n",
    "from qiskit.tools.jupyter import *\n",
    "from qiskit.visualization import *\n",
    "from numpy import pi\n",
    "# Loading your IBM Q account(s)\n",
    "#provider = IBMQ.load_account()"
   ]
  },
  {
   "cell_type": "code",
   "execution_count": 65,
   "metadata": {},
   "outputs": [
    {
     "name": "stderr",
     "output_type": "stream",
     "text": [
      "C:\\Users\\Mike\\anaconda3\\lib\\site-packages\\qiskit\\providers\\ibmq\\ibmqfactory.py:192: UserWarning: Timestamps in IBMQ backend properties, jobs, and job results are all now in local time instead of UTC.\n",
      "  warnings.warn('Timestamps in IBMQ backend properties, jobs, and job results '\n",
      "ibmqfactory.load_account:WARNING:2020-10-09 09:14:15,451: Credentials are already in use. The existing account in the session will be replaced.\n"
     ]
    },
    {
     "data": {
      "text/plain": [
       "<AccountProvider for IBMQ(hub='ibm-q', group='open', project='main')>"
      ]
     },
     "execution_count": 65,
     "metadata": {},
     "output_type": "execute_result"
    }
   ],
   "source": [
    "import Qconfig_IBMQ_experience\n",
    "IBMQ.save_account(Qconfig_IBMQ_experience.APItoken, overwrite=True)\n",
    "IBMQ.load_account()"
   ]
  },
  {
   "cell_type": "code",
   "execution_count": 39,
   "metadata": {},
   "outputs": [],
   "source": [
    "from qiskit import QuantumRegister, ClassicalRegister, QuantumCircuit\n",
    "from numpy import pi\n",
    "\n",
    "qreg_q = QuantumRegister(3, 'q')\n",
    "creg_c = ClassicalRegister(3, 'c')\n",
    "circuit = QuantumCircuit(qreg_q, creg_c)\n",
    "\n",
    "circuit.u3(2*pi/3, pi/3, -pi/3, qreg_q[0])\n",
    "\n",
    "measureX=qk.QuantumCircuit(qreg_q, creg_c)\n",
    "measureX.h(qreg_q)\n",
    "measureX.measure(qreg_q[0], creg_c[0])\n",
    "\n",
    "measureZ=qk.QuantumCircuit(qreg_q, creg_c)\n",
    "measureZ.measure(qreg_q[0], creg_c[0])\n",
    "\n",
    "testZ=circuit+measureZ\n",
    "testX=circuit+measureX\n"
   ]
  },
  {
   "cell_type": "code",
   "execution_count": 40,
   "metadata": {},
   "outputs": [
    {
     "data": {
      "image/png": "[encoded data removed]",
      "text/plain": [
       "<Figure size 261.177x264.88 with 1 Axes>"
      ]
     },
     "execution_count": 40,
     "metadata": {},
     "output_type": "execute_result"
    }
   ],
   "source": [
    "circuit.draw(output='mpl')"
   ]
  },
  {
   "cell_type": "code",
   "execution_count": 41,
   "metadata": {},
   "outputs": [],
   "source": [
    "backend=Aer.get_backend('qasm_simulator')\n",
    "#jobIBM=qk.execute(circuit,backend=backend,shots=1024)\n",
    "jobIBM=qk.execute([testZ,testX],backend=backend,shots=1024)\n",
    "resultSim=jobIBM.result()"
   ]
  },
  {
   "cell_type": "code",
   "execution_count": 44,
   "metadata": {},
   "outputs": [],
   "source": []
  },
  {
   "cell_type": "code",
   "execution_count": 43,
   "metadata": {},
   "outputs": [
    {
     "data": {
      "image/png": "[encoded data removed]",
      "text/plain": [
       "<Figure size 504x360 with 1 Axes>"
      ]
     },
     "execution_count": 43,
     "metadata": {},
     "output_type": "execute_result"
    }
   ],
   "source": [
    "from qiskit.tools.visualization import plot_histogram\n",
    "plot_histogram([resultSim.get_counts(testZ),resultSim.get_counts(testX)])"
   ]
  },
  {
   "cell_type": "markdown",
   "metadata": {},
   "source": [
    "By measuring in usual basis we determine $\\cos\\theta = 1/2$ so that $\\theta=\\pi/3$. By measuring in suparposition basis \n",
    "we get $\\sin(2\\theta)\\cos\\varphi = -  0.418 \\approx - \\sqrt 3/4$ which means $\\varphi = \\pi/3$ "
   ]
  },
  {
   "cell_type": "code",
   "execution_count": null,
   "metadata": {},
   "outputs": [],
   "source": [
    "my_provider = IBMQ.get_provider()\n",
    "backend  = my_provider.get_backend('ibmqx2')\n",
    "#jobIBM=qk.execute(circuit,backend=backend,shots=1024)\n",
    "jobIBM=qk.execute([testZ,testX],backend=backend,shots=1024)\n",
    "resultExp=jobIBM.result()"
   ]
  },
  {
   "cell_type": "code",
   "execution_count": 45,
   "metadata": {},
   "outputs": [
    {
     "data": {
      "image/png": "[encoded data removed]",
      "text/plain": [
       "<Figure size 504x360 with 1 Axes>"
      ]
     },
     "execution_count": 45,
     "metadata": {},
     "output_type": "execute_result"
    }
   ],
   "source": [
    "from qiskit.tools.visualization import plot_histogram\n",
    "plot_histogram([resultExp.get_counts(testZ),resultExp.get_counts(testX)])"
   ]
  },
  {
   "cell_type": "code",
   "execution_count": null,
   "metadata": {},
   "outputs": [],
   "source": []
  },
  {
   "cell_type": "code",
   "execution_count": 72,
   "metadata": {},
   "outputs": [],
   "source": [
    "qreg_q1 = QuantumRegister(3, 'q')\n",
    "creg_c1 = ClassicalRegister(3, 'c')\n",
    "circuit1 = QuantumCircuit(qreg_q1, creg_c1)\n",
    "\n",
    "circuit1.rz((pi/3+pi/2), qreg_q1[0])\n",
    "circuit1.h(qreg_q1[0])\n",
    "circuit1.rz(pi*2/3, qreg_q1[0])\n",
    "circuit1.h(qreg_q1[0])\n",
    "circuit1.rz(-(pi/3+pi/2), qreg_q1[0])\n",
    "#circuit1.measure(qreg_q1[0], creg_c1[0])\n",
    "\n",
    "measureX=qk.QuantumCircuit(qreg_q1, creg_c1)\n",
    "measureX.h(qreg_q1)\n",
    "measureX.measure(qreg_q1[0], creg_c1[0])\n",
    "\n",
    "measureZ=qk.QuantumCircuit(qreg_q1, creg_c1)\n",
    "measureZ.measure(qreg_q1[0], creg_c1[0])\n",
    "\n",
    "testZ1=circuit1+measureZ\n",
    "testX1=circuit1+measureX"
   ]
  },
  {
   "cell_type": "code",
   "execution_count": 73,
   "metadata": {},
   "outputs": [],
   "source": [
    "backend=Aer.get_backend('qasm_simulator')\n",
    "#jobIBM=qk.execute(circuit,backend=backend,shots=1024)\n",
    "jobIBM=qk.execute([testZ1,testX1],backend=backend,shots=1024)\n",
    "resultSim1=jobIBM.result()"
   ]
  },
  {
   "cell_type": "code",
   "execution_count": 74,
   "metadata": {},
   "outputs": [
    {
     "data": {
      "image/png": "[encoded data removed]",
      "text/plain": [
       "<Figure size 504x360 with 1 Axes>"
      ]
     },
     "execution_count": 74,
     "metadata": {},
     "output_type": "execute_result"
    }
   ],
   "source": [
    "from qiskit.tools.visualization import plot_histogram\n",
    "plot_histogram([resultSim1.get_counts(testZ1),resultSim1.get_counts(testX1)])"
   ]
  },
  {
   "cell_type": "code",
   "execution_count": null,
   "metadata": {},
   "outputs": [],
   "source": []
  },
  {
   "cell_type": "code",
   "execution_count": 17,
   "metadata": {},
   "outputs": [],
   "source": [
    "backend=Aer.get_backend('qasm_simulator')\n",
    "jobIBM1=qk.execute(circuit1,backend=backend,shots=1024)\n",
    "resultSim1=jobIBM1.result()"
   ]
  },
  {
   "cell_type": "code",
   "execution_count": 18,
   "metadata": {},
   "outputs": [],
   "source": [
    "my_provider = IBMQ.get_provider()\n",
    "backend  = my_provider.get_backend('ibmqx2')\n",
    "jobIBM=qk.execute(circuit1,backend=backend,shots=1024)\n",
    "resultExp1=jobIBM.result()"
   ]
  },
  {
   "cell_type": "code",
   "execution_count": null,
   "metadata": {},
   "outputs": [],
   "source": [
    "from qiskit.tools.visualization import plot_histogram\n",
    "plot_histogram([resultExp.get_counts(circuit),resultSim.get_counts(circuit)])"
   ]
  },
  {
   "cell_type": "code",
   "execution_count": null,
   "metadata": {},
   "outputs": [],
   "source": []
  },
  {
   "cell_type": "code",
   "execution_count": null,
   "metadata": {},
   "outputs": [],
   "source": []
  },
  {
   "cell_type": "code",
   "execution_count": null,
   "metadata": {},
   "outputs": [],
   "source": []
  },
  {
   "cell_type": "code",
   "execution_count": null,
   "metadata": {},
   "outputs": [],
   "source": []
  },
  {
   "cell_type": "code",
   "execution_count": null,
   "metadata": {},
   "outputs": [],
   "source": []
  },
  {
   "cell_type": "code",
   "execution_count": 8,
   "metadata": {
    "scrolled": true
   },
   "outputs": [
    {
     "data": {
      "text/plain": [
       "[<IBMQSimulator('ibmq_qasm_simulator') from IBMQ(hub='ibm-q', group='open', project='main')>,\n",
       " <IBMQBackend('ibmqx2') from IBMQ(hub='ibm-q', group='open', project='main')>,\n",
       " <IBMQBackend('ibmq_16_melbourne') from IBMQ(hub='ibm-q', group='open', project='main')>,\n",
       " <IBMQBackend('ibmq_vigo') from IBMQ(hub='ibm-q', group='open', project='main')>,\n",
       " <IBMQBackend('ibmq_ourense') from IBMQ(hub='ibm-q', group='open', project='main')>,\n",
       " <IBMQBackend('ibmq_valencia') from IBMQ(hub='ibm-q', group='open', project='main')>,\n",
       " <IBMQBackend('ibmq_armonk') from IBMQ(hub='ibm-q', group='open', project='main')>,\n",
       " <IBMQBackend('ibmq_santiago') from IBMQ(hub='ibm-q', group='open', project='main')>]"
      ]
     },
     "execution_count": 8,
     "metadata": {},
     "output_type": "execute_result"
    }
   ],
   "source": [
    "my_provider = IBMQ.get_provider()\n",
    "my_provider.backends()"
   ]
  },
  {
   "cell_type": "code",
   "execution_count": 39,
   "metadata": {},
   "outputs": [
    {
     "data": {
      "application/vnd.jupyter.widget-view+json": {
       "model_id": "778de09c8ad246258454a0707acbcb84",
       "version_major": 2,
       "version_minor": 0
      },
      "text/plain": [
       "VBox(children=(HTML(value=\"<h1 style='color:#ffffff;background-color:#000000;padding-top: 1%;padding-bottom: 1…"
      ]
     },
     "metadata": {},
     "output_type": "display_data"
    },
    {
     "data": {
      "text/plain": [
       "<IBMQBackend('ibmqx2') from IBMQ(hub='ibm-q', group='open', project='main')>"
      ]
     },
     "execution_count": 39,
     "metadata": {},
     "output_type": "execute_result"
    }
   ],
   "source": [
    "my_provider = IBMQ.get_provider(hub='ibm-q')\n",
    "my_provider.backends()\n",
    "\n",
    "from qiskit.providers.ibmq import least_busy\n",
    "\n",
    "small_devices = my_provider.backends(filters=lambda x: x.configuration().n_qubits == 5\n",
    "                                   and not x.configuration().simulator)\n",
    "least_busy(small_devices)"
   ]
  },
  {
   "cell_type": "code",
   "execution_count": 6,
   "metadata": {},
   "outputs": [],
   "source": [
    "my_provider = IBMQ.get_provider()\n",
    "#backend  = my_provider.get_backend('ibmq_ourense')\n",
    "#backend  = my_provider.get_backend('ibmq_qasm_simulator')\n",
    "#backend=Aer.get_backend('qasm_simulator')"
   ]
  },
  {
   "cell_type": "code",
   "execution_count": 33,
   "metadata": {},
   "outputs": [],
   "source": []
  },
  {
   "cell_type": "code",
   "execution_count": 36,
   "metadata": {},
   "outputs": [],
   "source": []
  },
  {
   "cell_type": "code",
   "execution_count": 37,
   "metadata": {},
   "outputs": [],
   "source": []
  },
  {
   "cell_type": "code",
   "execution_count": null,
   "metadata": {},
   "outputs": [],
   "source": []
  },
  {
   "cell_type": "code",
   "execution_count": 28,
   "metadata": {},
   "outputs": [],
   "source": []
  },
  {
   "cell_type": "code",
   "execution_count": null,
   "metadata": {},
   "outputs": [],
   "source": []
  },
  {
   "cell_type": "code",
   "execution_count": null,
   "metadata": {},
   "outputs": [],
   "source": []
  }
 ],
 "metadata": {
  "kernelspec": {
   "display_name": "Python 3",
   "language": "python",
   "name": "python3"
  },
  "language_info": {
   "codemirror_mode": {
    "name": "ipython",
    "version": 3
   },
   "file_extension": ".py",
   "mimetype": "text/x-python",
   "name": "python",
   "nbconvert_exporter": "python",
   "pygments_lexer": "ipython3",
   "version": "3.8.3"
  }
 },
 "nbformat": 4,
 "nbformat_minor": 4
}
