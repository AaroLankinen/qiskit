{
 "cells": [
  {
   "cell_type": "code",
   "execution_count": 1,
   "metadata": {},
   "outputs": [],
   "source": [
    "import matplotlib.pyplot as plt\n",
    "%matplotlib inline\n",
    "import numpy as np\n",
    "from math import pi\n",
    "\n",
    "from qiskit import QuantumCircuit, ClassicalRegister, QuantumRegister, execute\n",
    "from qiskit.tools.visualization import circuit_drawer\n",
    "from qiskit.quantum_info import state_fidelity\n",
    "from qiskit import BasicAer\n",
    "\n",
    "backend = BasicAer.get_backend('qasm_simulator')\n",
    "unitary_backend = BasicAer.get_backend('unitary_simulator')\n",
    "number_of_shots = 1024"
   ]
  },
  {
   "cell_type": "code",
   "execution_count": 2,
   "metadata": {},
   "outputs": [],
   "source": [
    "q00 = QuantumRegister(2)\n",
    "c00 = ClassicalRegister(2)\n",
    "qc00 = QuantumCircuit(q00, c00)\n",
    "q01 = QuantumRegister(2)\n",
    "c01 = ClassicalRegister(2)\n",
    "qc01 = QuantumCircuit(q01, c01)\n",
    "q10 = QuantumRegister(2)\n",
    "c10 = ClassicalRegister(2)\n",
    "qc10 = QuantumCircuit(q10, c10)\n",
    "q11 = QuantumRegister(2)\n",
    "c11 = ClassicalRegister(2)\n",
    "qc11 = QuantumCircuit(q11, c11)"
   ]
  },
  {
   "cell_type": "code",
   "execution_count": 3,
   "metadata": {},
   "outputs": [
    {
     "data": {
      "text/plain": [
       "<qiskit.circuit.instructionset.InstructionSet at 0x154eec10>"
      ]
     },
     "execution_count": 3,
     "metadata": {},
     "output_type": "execute_result"
    }
   ],
   "source": [
    "#setting up the starting state\n",
    "qc00.h(0)\n",
    "qc00.h(1)\n",
    "qc10.h(0)\n",
    "qc10.h(1)\n",
    "qc01.h(0)\n",
    "qc01.h(1)\n",
    "qc11.h(0)\n",
    "qc11.h(1)"
   ]
  },
  {
   "cell_type": "code",
   "execution_count": 4,
   "metadata": {},
   "outputs": [
    {
     "data": {
      "text/plain": [
       "<qiskit.circuit.instructionset.InstructionSet at 0x15506820>"
      ]
     },
     "execution_count": 4,
     "metadata": {},
     "output_type": "execute_result"
    }
   ],
   "source": [
    "#oracle inverts the sign of the state if the state is the correct one\n",
    "#we build it by inverting all supposedly zero qbits, applying H cNOT H that equals cZ which inverts the sign\n",
    "#for state |11> and then reversing the inversion\n",
    "qc00.x(0)\n",
    "qc00.x(1)\n",
    "qc01.x(1)\n",
    "qc10.x(0)\n",
    "\n",
    "qc00.h(0)\n",
    "qc00.cx(1,0)\n",
    "qc00.h(0)\n",
    "\n",
    "qc01.h(0)\n",
    "qc01.cx(1,0)\n",
    "qc01.h(0)\n",
    "\n",
    "qc10.h(0)\n",
    "qc10.cx(1,0)\n",
    "qc10.h(0)\n",
    "\n",
    "qc11.h(0)\n",
    "qc11.cx(1,0)\n",
    "qc11.h(0)\n",
    "\n",
    "qc00.x(0)\n",
    "qc00.x(1)\n",
    "qc01.x(1)\n",
    "qc10.x(0)"
   ]
  },
  {
   "cell_type": "code",
   "execution_count": 5,
   "metadata": {},
   "outputs": [
    {
     "data": {
      "text/plain": [
       "<qiskit.circuit.instructionset.InstructionSet at 0x1550bd60>"
      ]
     },
     "execution_count": 5,
     "metadata": {},
     "output_type": "execute_result"
    }
   ],
   "source": [
    "#another projection operator that behaves similiarly for each oracle\n",
    "#we create W operator by enveloping cZ in X's and then H's, transforming it from 1-2|11><11| to 1-2|00><00| and then\n",
    "#to minus desired operator 1- 2|psi><psi|\n",
    "\n",
    "qc00.h(0)\n",
    "qc00.h(1)\n",
    "qc00.x(0)\n",
    "qc00.x(1)\n",
    "\n",
    "#cZ\n",
    "qc00.h(0)\n",
    "qc00.cx(1,0)\n",
    "qc00.h(0)\n",
    "\n",
    "qc00.x(0)\n",
    "qc00.x(1)\n",
    "qc00.h(0)\n",
    "qc00.h(1)\n",
    "\n",
    "qc01.h(0)\n",
    "qc01.h(1)\n",
    "qc01.x(0)\n",
    "qc01.x(1)\n",
    "\n",
    "#cZ\n",
    "qc01.h(0)\n",
    "qc01.cx(1,0)\n",
    "qc01.h(0)\n",
    "\n",
    "qc01.x(0)\n",
    "qc01.x(1)\n",
    "qc01.h(0)\n",
    "qc01.h(1)\n",
    "\n",
    "qc10.h(0)\n",
    "qc10.h(1)\n",
    "qc10.x(0)\n",
    "qc10.x(1)\n",
    "\n",
    "#cZ\n",
    "qc10.h(0)\n",
    "qc10.cx(1,0)\n",
    "qc10.h(0)\n",
    "\n",
    "qc10.x(0)\n",
    "qc10.x(1)\n",
    "qc10.h(0)\n",
    "qc10.h(1)\n",
    "\n",
    "qc11.h(0)\n",
    "qc11.h(1)\n",
    "qc11.x(0)\n",
    "qc11.x(1)\n",
    "\n",
    "#cZ\n",
    "qc11.h(0)\n",
    "qc11.cx(1,0)\n",
    "qc11.h(0)\n",
    "\n",
    "qc11.x(0)\n",
    "qc11.x(1)\n",
    "qc11.h(0)\n",
    "qc11.h(1)"
   ]
  },
  {
   "cell_type": "code",
   "execution_count": 6,
   "metadata": {},
   "outputs": [
    {
     "data": {
      "text/html": [
       "<pre style=\"word-wrap: normal;white-space: pre;background: #fff0;line-height: 1.1;font-family: &quot;Courier New&quot;,Courier,monospace\">      ┌───┐┌───┐┌───┐┌───┐┌───┐┌───┐┌───┐┌───┐┌───┐┌───┐┌───┐┌───┐┌───┐┌─┐\n",
       "q0_0: ┤ H ├┤ X ├┤ H ├┤ X ├┤ H ├┤ X ├┤ H ├┤ X ├┤ H ├┤ X ├┤ H ├┤ X ├┤ H ├┤M├\n",
       "      ├───┤├───┤└───┘└─┬─┘├───┤├───┤├───┤└───┘└───┘└─┬─┘├───┤├───┤└┬─┬┘└╥┘\n",
       "q0_1: ┤ H ├┤ X ├───────■──┤ X ├┤ H ├┤ X ├────────────■──┤ X ├┤ H ├─┤M├──╫─\n",
       "      └───┘└───┘          └───┘└───┘└───┘               └───┘└───┘ └╥┘  ║ \n",
       "c0: 2/══════════════════════════════════════════════════════════════╩═══╩═\n",
       "                                                                    1   0 </pre>"
      ],
      "text/plain": [
       "      ┌───┐┌───┐┌───┐┌───┐┌───┐┌───┐┌───┐┌───┐┌───┐┌───┐┌───┐┌───┐┌───┐┌─┐\n",
       "q0_0: ┤ H ├┤ X ├┤ H ├┤ X ├┤ H ├┤ X ├┤ H ├┤ X ├┤ H ├┤ X ├┤ H ├┤ X ├┤ H ├┤M├\n",
       "      ├───┤├───┤└───┘└─┬─┘├───┤├───┤├───┤└───┘└───┘└─┬─┘├───┤├───┤└┬─┬┘└╥┘\n",
       "q0_1: ┤ H ├┤ X ├───────■──┤ X ├┤ H ├┤ X ├────────────■──┤ X ├┤ H ├─┤M├──╫─\n",
       "      └───┘└───┘          └───┘└───┘└───┘               └───┘└───┘ └╥┘  ║ \n",
       "c0: 2/══════════════════════════════════════════════════════════════╩═══╩═\n",
       "                                                                    1   0 "
      ]
     },
     "execution_count": 6,
     "metadata": {},
     "output_type": "execute_result"
    }
   ],
   "source": [
    "#measure & display\n",
    "qc00.measure(q00, c00)\n",
    "qc00.draw()"
   ]
  },
  {
   "cell_type": "code",
   "execution_count": 7,
   "metadata": {},
   "outputs": [
    {
     "data": {
      "text/html": [
       "<pre style=\"word-wrap: normal;white-space: pre;background: #fff0;line-height: 1.1;font-family: &quot;Courier New&quot;,Courier,monospace\">      ┌───┐┌───┐┌───┐┌───┐┌───┐┌───┐┌───┐┌───┐┌───┐┌───┐┌───┐┌─┐\n",
       "q1_0: ┤ H ├┤ H ├┤ X ├┤ H ├┤ H ├┤ X ├┤ H ├┤ X ├┤ H ├┤ X ├┤ H ├┤M├\n",
       "      ├───┤├───┤└─┬─┘├───┤├───┤├───┤└───┘└─┬─┘├───┤├───┤└┬─┬┘└╥┘\n",
       "q1_1: ┤ H ├┤ X ├──■──┤ X ├┤ H ├┤ X ├───────■──┤ X ├┤ H ├─┤M├──╫─\n",
       "      └───┘└───┘     └───┘└───┘└───┘          └───┘└───┘ └╥┘  ║ \n",
       "c1: 2/════════════════════════════════════════════════════╩═══╩═\n",
       "                                                          1   0 </pre>"
      ],
      "text/plain": [
       "      ┌───┐┌───┐┌───┐┌───┐┌───┐┌───┐┌───┐┌───┐┌───┐┌───┐┌───┐┌─┐\n",
       "q1_0: ┤ H ├┤ H ├┤ X ├┤ H ├┤ H ├┤ X ├┤ H ├┤ X ├┤ H ├┤ X ├┤ H ├┤M├\n",
       "      ├───┤├───┤└─┬─┘├───┤├───┤├───┤└───┘└─┬─┘├───┤├───┤└┬─┬┘└╥┘\n",
       "q1_1: ┤ H ├┤ X ├──■──┤ X ├┤ H ├┤ X ├───────■──┤ X ├┤ H ├─┤M├──╫─\n",
       "      └───┘└───┘     └───┘└───┘└───┘          └───┘└───┘ └╥┘  ║ \n",
       "c1: 2/════════════════════════════════════════════════════╩═══╩═\n",
       "                                                          1   0 "
      ]
     },
     "execution_count": 7,
     "metadata": {},
     "output_type": "execute_result"
    }
   ],
   "source": [
    "qc01.measure(q01, c01)\n",
    "qc01.draw()"
   ]
  },
  {
   "cell_type": "code",
   "execution_count": 8,
   "metadata": {},
   "outputs": [
    {
     "data": {
      "text/html": [
       "<pre style=\"word-wrap: normal;white-space: pre;background: #fff0;line-height: 1.1;font-family: &quot;Courier New&quot;,Courier,monospace\">      ┌───┐┌───┐┌───┐┌───┐┌───┐┌───┐┌───┐┌───┐┌───┐┌───┐┌───┐┌───┐┌───┐┌─┐\n",
       "q2_0: ┤ H ├┤ X ├┤ H ├┤ X ├┤ H ├┤ X ├┤ H ├┤ X ├┤ H ├┤ X ├┤ H ├┤ X ├┤ H ├┤M├\n",
       "      ├───┤└───┘└───┘└─┬─┘├───┤├───┤└───┘└───┘└───┘└─┬─┘├───┤├───┤└┬─┬┘└╥┘\n",
       "q2_1: ┤ H ├────────────■──┤ H ├┤ X ├─────────────────■──┤ X ├┤ H ├─┤M├──╫─\n",
       "      └───┘               └───┘└───┘                    └───┘└───┘ └╥┘  ║ \n",
       "c2: 2/══════════════════════════════════════════════════════════════╩═══╩═\n",
       "                                                                    1   0 </pre>"
      ],
      "text/plain": [
       "      ┌───┐┌───┐┌───┐┌───┐┌───┐┌───┐┌───┐┌───┐┌───┐┌───┐┌───┐┌───┐┌───┐┌─┐\n",
       "q2_0: ┤ H ├┤ X ├┤ H ├┤ X ├┤ H ├┤ X ├┤ H ├┤ X ├┤ H ├┤ X ├┤ H ├┤ X ├┤ H ├┤M├\n",
       "      ├───┤└───┘└───┘└─┬─┘├───┤├───┤└───┘└───┘└───┘└─┬─┘├───┤├───┤└┬─┬┘└╥┘\n",
       "q2_1: ┤ H ├────────────■──┤ H ├┤ X ├─────────────────■──┤ X ├┤ H ├─┤M├──╫─\n",
       "      └───┘               └───┘└───┘                    └───┘└───┘ └╥┘  ║ \n",
       "c2: 2/══════════════════════════════════════════════════════════════╩═══╩═\n",
       "                                                                    1   0 "
      ]
     },
     "execution_count": 8,
     "metadata": {},
     "output_type": "execute_result"
    }
   ],
   "source": [
    "qc10.measure(q10, c10)\n",
    "qc10.draw()"
   ]
  },
  {
   "cell_type": "code",
   "execution_count": 9,
   "metadata": {},
   "outputs": [
    {
     "data": {
      "text/html": [
       "<pre style=\"word-wrap: normal;white-space: pre;background: #fff0;line-height: 1.1;font-family: &quot;Courier New&quot;,Courier,monospace\">      ┌───┐┌───┐┌───┐┌───┐┌───┐┌───┐┌───┐┌───┐┌───┐┌───┐┌───┐┌─┐\n",
       "q3_0: ┤ H ├┤ H ├┤ X ├┤ H ├┤ H ├┤ X ├┤ H ├┤ X ├┤ H ├┤ X ├┤ H ├┤M├\n",
       "      ├───┤└───┘└─┬─┘├───┤├───┤└───┘└───┘└─┬─┘├───┤├───┤└┬─┬┘└╥┘\n",
       "q3_1: ┤ H ├───────■──┤ H ├┤ X ├────────────■──┤ X ├┤ H ├─┤M├──╫─\n",
       "      └───┘          └───┘└───┘               └───┘└───┘ └╥┘  ║ \n",
       "c3: 2/════════════════════════════════════════════════════╩═══╩═\n",
       "                                                          1   0 </pre>"
      ],
      "text/plain": [
       "      ┌───┐┌───┐┌───┐┌───┐┌───┐┌───┐┌───┐┌───┐┌───┐┌───┐┌───┐┌─┐\n",
       "q3_0: ┤ H ├┤ H ├┤ X ├┤ H ├┤ H ├┤ X ├┤ H ├┤ X ├┤ H ├┤ X ├┤ H ├┤M├\n",
       "      ├───┤└───┘└─┬─┘├───┤├───┤└───┘└───┘└─┬─┘├───┤├───┤└┬─┬┘└╥┘\n",
       "q3_1: ┤ H ├───────■──┤ H ├┤ X ├────────────■──┤ X ├┤ H ├─┤M├──╫─\n",
       "      └───┘          └───┘└───┘               └───┘└───┘ └╥┘  ║ \n",
       "c3: 2/════════════════════════════════════════════════════╩═══╩═\n",
       "                                                          1   0 "
      ]
     },
     "execution_count": 9,
     "metadata": {},
     "output_type": "execute_result"
    }
   ],
   "source": [
    "qc11.measure(q11, c11)\n",
    "qc11.draw()"
   ]
  },
  {
   "cell_type": "code",
   "execution_count": 10,
   "metadata": {},
   "outputs": [
    {
     "data": {
      "image/png": "[encoded data removed]",
      "text/plain": [
       "<Figure size 504x360 with 1 Axes>"
      ]
     },
     "execution_count": 10,
     "metadata": {},
     "output_type": "execute_result"
    }
   ],
   "source": [
    "from qiskit.tools.visualization import plot_histogram\n",
    "job = execute(qc00, backend, shots=number_of_shots)\n",
    "\n",
    "result = job.result()\n",
    "plot_histogram([result.get_counts(qc00)])"
   ]
  },
  {
   "cell_type": "code",
   "execution_count": 11,
   "metadata": {},
   "outputs": [
    {
     "data": {
      "image/png": "[encoded data removed]",
      "text/plain": [
       "<Figure size 504x360 with 1 Axes>"
      ]
     },
     "execution_count": 11,
     "metadata": {},
     "output_type": "execute_result"
    }
   ],
   "source": [
    "job = execute(qc01, backend, shots=number_of_shots)\n",
    "\n",
    "result = job.result()\n",
    "plot_histogram([result.get_counts(qc01)])"
   ]
  },
  {
   "cell_type": "code",
   "execution_count": 12,
   "metadata": {},
   "outputs": [
    {
     "data": {
      "image/png": "[encoded data removed]",
      "text/plain": [
       "<Figure size 504x360 with 1 Axes>"
      ]
     },
     "execution_count": 12,
     "metadata": {},
     "output_type": "execute_result"
    }
   ],
   "source": [
    "job = execute(qc10, backend, shots=number_of_shots)\n",
    "\n",
    "result = job.result()\n",
    "plot_histogram([result.get_counts(qc10)])"
   ]
  },
  {
   "cell_type": "code",
   "execution_count": 13,
   "metadata": {
    "scrolled": true
   },
   "outputs": [
    {
     "data": {
      "image/png": "[encoded data removed]",
      "text/plain": [
       "<Figure size 504x360 with 1 Axes>"
      ]
     },
     "execution_count": 13,
     "metadata": {},
     "output_type": "execute_result"
    }
   ],
   "source": [
    "job = execute(qc11, backend, shots=number_of_shots)\n",
    "\n",
    "result = job.result()\n",
    "plot_histogram([result.get_counts(qc11)])"
   ]
  },
  {
   "cell_type": "code",
   "execution_count": 14,
   "metadata": {},
   "outputs": [
    {
     "data": {
      "text/plain": [
       "<qiskit.circuit.instructionset.InstructionSet at 0x15b3e7c0>"
      ]
     },
     "execution_count": 14,
     "metadata": {},
     "output_type": "execute_result"
    }
   ],
   "source": [
    "#as we see, Grover search finds everything in one iteration\n",
    "#let's redo the same operations but apply the algorithm\n",
    "qc00.reset(q00[0])\n",
    "qc00.reset(q00[1])\n",
    "qc01.reset(q01[0])\n",
    "qc01.reset(q01[1])\n",
    "qc10.reset(q10[0])\n",
    "qc10.reset(q10[1])\n",
    "qc11.reset(q11[0])\n",
    "qc11.reset(q11[1])"
   ]
  },
  {
   "cell_type": "code",
   "execution_count": 15,
   "metadata": {},
   "outputs": [
    {
     "data": {
      "text/plain": [
       "<qiskit.circuit.instructionset.InstructionSet at 0x15adcbb0>"
      ]
     },
     "execution_count": 15,
     "metadata": {},
     "output_type": "execute_result"
    }
   ],
   "source": [
    "#setting up the starting state\n",
    "qc00.h(0)\n",
    "qc00.h(1)\n",
    "qc10.h(0)\n",
    "qc10.h(1)\n",
    "qc01.h(0)\n",
    "qc01.h(1)\n",
    "qc11.h(0)\n",
    "qc11.h(1)"
   ]
  },
  {
   "cell_type": "code",
   "execution_count": 16,
   "metadata": {},
   "outputs": [
    {
     "data": {
      "text/plain": [
       "<qiskit.circuit.instructionset.InstructionSet at 0x15b408e0>"
      ]
     },
     "execution_count": 16,
     "metadata": {},
     "output_type": "execute_result"
    }
   ],
   "source": [
    "#oracle inverts the sign of the state if the state is the correct one\n",
    "#we build it by inverting all supposedly zero qbits, applying H cNOT H that equals cZ and then reversing the inversion\n",
    "qc00.x(0)\n",
    "qc00.x(1)\n",
    "qc01.x(1)\n",
    "qc10.x(0)\n",
    "\n",
    "qc00.h(0)\n",
    "qc00.cx(1,0)\n",
    "qc00.h(0)\n",
    "\n",
    "qc01.h(0)\n",
    "qc01.cx(1,0)\n",
    "qc01.h(0)\n",
    "\n",
    "qc10.h(0)\n",
    "qc10.cx(1,0)\n",
    "qc10.h(0)\n",
    "\n",
    "qc11.h(0)\n",
    "qc11.cx(1,0)\n",
    "qc11.h(0)\n",
    "\n",
    "qc00.x(0)\n",
    "qc00.x(1)\n",
    "qc01.x(1)\n",
    "qc10.x(0)"
   ]
  },
  {
   "cell_type": "code",
   "execution_count": 17,
   "metadata": {},
   "outputs": [
    {
     "data": {
      "text/plain": [
       "<qiskit.circuit.instructionset.InstructionSet at 0x15b59130>"
      ]
     },
     "execution_count": 17,
     "metadata": {},
     "output_type": "execute_result"
    }
   ],
   "source": [
    "#another projection operator that behaves similiarly for each oracle\n",
    "#we create W operator by enveloping cZ in X's and then H's, transforming it from 1-2|11><11| to 1-2|00><00| and then\n",
    "#to minus desired operator 1- 2|psi><psi|\n",
    "\n",
    "qc00.h(0)\n",
    "qc00.h(1)\n",
    "qc00.x(0)\n",
    "qc00.x(1)\n",
    "\n",
    "#cZ\n",
    "qc00.h(0)\n",
    "qc00.cx(1,0)\n",
    "qc00.h(0)\n",
    "\n",
    "qc00.x(0)\n",
    "qc00.x(1)\n",
    "qc00.h(0)\n",
    "qc00.h(1)\n",
    "\n",
    "qc01.h(0)\n",
    "qc01.h(1)\n",
    "qc01.x(0)\n",
    "qc01.x(1)\n",
    "\n",
    "#cZ\n",
    "qc01.h(0)\n",
    "qc01.cx(1,0)\n",
    "qc01.h(0)\n",
    "\n",
    "qc01.x(0)\n",
    "qc01.x(1)\n",
    "qc01.h(0)\n",
    "qc01.h(1)\n",
    "\n",
    "qc10.h(0)\n",
    "qc10.h(1)\n",
    "qc10.x(0)\n",
    "qc10.x(1)\n",
    "\n",
    "#cZ\n",
    "qc10.h(0)\n",
    "qc10.cx(1,0)\n",
    "qc10.h(0)\n",
    "\n",
    "qc10.x(0)\n",
    "qc10.x(1)\n",
    "qc10.h(0)\n",
    "qc10.h(1)\n",
    "\n",
    "qc11.h(0)\n",
    "qc11.h(1)\n",
    "qc11.x(0)\n",
    "qc11.x(1)\n",
    "\n",
    "#cZ\n",
    "qc11.h(0)\n",
    "qc11.cx(1,0)\n",
    "qc11.h(0)\n",
    "\n",
    "qc11.x(0)\n",
    "qc11.x(1)\n",
    "qc11.h(0)\n",
    "qc11.h(1)"
   ]
  },
  {
   "cell_type": "code",
   "execution_count": 18,
   "metadata": {},
   "outputs": [
    {
     "data": {
      "text/plain": [
       "<qiskit.circuit.instructionset.InstructionSet at 0x15b6e3a0>"
      ]
     },
     "execution_count": 18,
     "metadata": {},
     "output_type": "execute_result"
    }
   ],
   "source": [
    "#oracle inverts the sign of the state if the state is the correct one\n",
    "#we build it by inverting all supposedly zero qbits, applying H cNOT H that equals cZ and then reversing the inversion\n",
    "qc00.x(0)\n",
    "qc00.x(1)\n",
    "qc01.x(1)\n",
    "qc10.x(0)\n",
    "\n",
    "qc00.h(0)\n",
    "qc00.cx(1,0)\n",
    "qc00.h(0)\n",
    "\n",
    "qc01.h(0)\n",
    "qc01.cx(1,0)\n",
    "qc01.h(0)\n",
    "\n",
    "qc10.h(0)\n",
    "qc10.cx(1,0)\n",
    "qc10.h(0)\n",
    "\n",
    "qc11.h(0)\n",
    "qc11.cx(1,0)\n",
    "qc11.h(0)\n",
    "\n",
    "qc00.x(0)\n",
    "qc00.x(1)\n",
    "qc01.x(1)\n",
    "qc10.x(0)"
   ]
  },
  {
   "cell_type": "code",
   "execution_count": 19,
   "metadata": {},
   "outputs": [
    {
     "data": {
      "text/plain": [
       "<qiskit.circuit.instructionset.InstructionSet at 0x15b6f220>"
      ]
     },
     "execution_count": 19,
     "metadata": {},
     "output_type": "execute_result"
    }
   ],
   "source": [
    "#another projection operator that behaves similiarly for each oracle\n",
    "#we create W operator by enveloping cZ in X's and then H's, transforming it from 1-2|11><11| to 1-2|00><00| and then\n",
    "#to minus desired operator 1- 2|psi><psi|\n",
    "\n",
    "qc00.h(0)\n",
    "qc00.h(1)\n",
    "qc00.x(0)\n",
    "qc00.x(1)\n",
    "\n",
    "#cZ\n",
    "qc00.h(0)\n",
    "qc00.cx(1,0)\n",
    "qc00.h(0)\n",
    "\n",
    "qc00.x(0)\n",
    "qc00.x(1)\n",
    "qc00.h(0)\n",
    "qc00.h(1)\n",
    "\n",
    "qc01.h(0)\n",
    "qc01.h(1)\n",
    "qc01.x(0)\n",
    "qc01.x(1)\n",
    "\n",
    "#cZ\n",
    "qc01.h(0)\n",
    "qc01.cx(1,0)\n",
    "qc01.h(0)\n",
    "\n",
    "qc01.x(0)\n",
    "qc01.x(1)\n",
    "qc01.h(0)\n",
    "qc01.h(1)\n",
    "\n",
    "qc10.h(0)\n",
    "qc10.h(1)\n",
    "qc10.x(0)\n",
    "qc10.x(1)\n",
    "\n",
    "#cZ\n",
    "qc10.h(0)\n",
    "qc10.cx(1,0)\n",
    "qc10.h(0)\n",
    "\n",
    "qc10.x(0)\n",
    "qc10.x(1)\n",
    "qc10.h(0)\n",
    "qc10.h(1)\n",
    "\n",
    "qc11.h(0)\n",
    "qc11.h(1)\n",
    "qc11.x(0)\n",
    "qc11.x(1)\n",
    "\n",
    "#cZ\n",
    "qc11.h(0)\n",
    "qc11.cx(1,0)\n",
    "qc11.h(0)\n",
    "\n",
    "qc11.x(0)\n",
    "qc11.x(1)\n",
    "qc11.h(0)\n",
    "qc11.h(1)"
   ]
  },
  {
   "cell_type": "code",
   "execution_count": 20,
   "metadata": {},
   "outputs": [
    {
     "data": {
      "text/html": [
       "<pre style=\"word-wrap: normal;white-space: pre;background: #fff0;line-height: 1.1;font-family: &quot;Courier New&quot;,Courier,monospace\">      ┌───┐┌───┐┌───┐┌───┐┌───┐┌───┐┌───┐┌───┐┌───┐┌───┐┌───┐┌───┐┌───┐┌─┐     »\n",
       "q0_0: ┤ H ├┤ X ├┤ H ├┤ X ├┤ H ├┤ X ├┤ H ├┤ X ├┤ H ├┤ X ├┤ H ├┤ X ├┤ H ├┤M├─|0>─»\n",
       "      ├───┤├───┤└───┘└─┬─┘├───┤├───┤├───┤└───┘└───┘└─┬─┘├───┤├───┤└┬─┬┘└╥┘     »\n",
       "q0_1: ┤ H ├┤ X ├───────■──┤ X ├┤ H ├┤ X ├────────────■──┤ X ├┤ H ├─┤M├──╫──|0>─»\n",
       "      └───┘└───┘          └───┘└───┘└───┘               └───┘└───┘ └╥┘  ║      »\n",
       "c0: 2/══════════════════════════════════════════════════════════════╩═══╩══════»\n",
       "                                                                    1   0      »\n",
       "«      ┌───┐┌───┐┌───┐┌───┐┌───┐┌───┐┌───┐┌───┐┌───┐┌───┐┌───┐┌───┐┌───┐┌───┐»\n",
       "«q0_0: ┤ H ├┤ X ├┤ H ├┤ X ├┤ H ├┤ X ├┤ H ├┤ X ├┤ H ├┤ X ├┤ H ├┤ X ├┤ H ├┤ X ├»\n",
       "«      ├───┤├───┤└───┘└─┬─┘├───┤├───┤├───┤└───┘└───┘└─┬─┘├───┤├───┤├───┤└───┘»\n",
       "«q0_1: ┤ H ├┤ X ├───────■──┤ X ├┤ H ├┤ X ├────────────■──┤ X ├┤ H ├┤ X ├─────»\n",
       "«      └───┘└───┘          └───┘└───┘└───┘               └───┘└───┘└───┘     »\n",
       "«c0: 2/══════════════════════════════════════════════════════════════════════»\n",
       "«                                                                            »\n",
       "«      ┌───┐┌───┐┌───┐┌───┐┌───┐┌───┐┌───┐┌───┐┌───┐┌───┐┌───┐┌─┐\n",
       "«q0_0: ┤ H ├┤ X ├┤ H ├┤ X ├┤ H ├┤ X ├┤ H ├┤ X ├┤ H ├┤ X ├┤ H ├┤M├\n",
       "«      └───┘└─┬─┘├───┤├───┤├───┤└───┘└───┘└─┬─┘├───┤├───┤└┬─┬┘└╥┘\n",
       "«q0_1: ───────■──┤ X ├┤ H ├┤ X ├────────────■──┤ X ├┤ H ├─┤M├──╫─\n",
       "«                └───┘└───┘└───┘               └───┘└───┘ └╥┘  ║ \n",
       "«c0: 2/════════════════════════════════════════════════════╩═══╩═\n",
       "«                                                          1   0 </pre>"
      ],
      "text/plain": [
       "      ┌───┐┌───┐┌───┐┌───┐┌───┐┌───┐┌───┐┌───┐┌───┐┌───┐┌───┐┌───┐┌───┐┌─┐     »\n",
       "q0_0: ┤ H ├┤ X ├┤ H ├┤ X ├┤ H ├┤ X ├┤ H ├┤ X ├┤ H ├┤ X ├┤ H ├┤ X ├┤ H ├┤M├─|0>─»\n",
       "      ├───┤├───┤└───┘└─┬─┘├───┤├───┤├───┤└───┘└───┘└─┬─┘├───┤├───┤└┬─┬┘└╥┘     »\n",
       "q0_1: ┤ H ├┤ X ├───────■──┤ X ├┤ H ├┤ X ├────────────■──┤ X ├┤ H ├─┤M├──╫──|0>─»\n",
       "      └───┘└───┘          └───┘└───┘└───┘               └───┘└───┘ └╥┘  ║      »\n",
       "c0: 2/══════════════════════════════════════════════════════════════╩═══╩══════»\n",
       "                                                                    1   0      »\n",
       "«      ┌───┐┌───┐┌───┐┌───┐┌───┐┌───┐┌───┐┌───┐┌───┐┌───┐┌───┐┌───┐┌───┐┌───┐»\n",
       "«q0_0: ┤ H ├┤ X ├┤ H ├┤ X ├┤ H ├┤ X ├┤ H ├┤ X ├┤ H ├┤ X ├┤ H ├┤ X ├┤ H ├┤ X ├»\n",
       "«      ├───┤├───┤└───┘└─┬─┘├───┤├───┤├───┤└───┘└───┘└─┬─┘├───┤├───┤├───┤└───┘»\n",
       "«q0_1: ┤ H ├┤ X ├───────■──┤ X ├┤ H ├┤ X ├────────────■──┤ X ├┤ H ├┤ X ├─────»\n",
       "«      └───┘└───┘          └───┘└───┘└───┘               └───┘└───┘└───┘     »\n",
       "«c0: 2/══════════════════════════════════════════════════════════════════════»\n",
       "«                                                                            »\n",
       "«      ┌───┐┌───┐┌───┐┌───┐┌───┐┌───┐┌───┐┌───┐┌───┐┌───┐┌───┐┌─┐\n",
       "«q0_0: ┤ H ├┤ X ├┤ H ├┤ X ├┤ H ├┤ X ├┤ H ├┤ X ├┤ H ├┤ X ├┤ H ├┤M├\n",
       "«      └───┘└─┬─┘├───┤├───┤├───┤└───┘└───┘└─┬─┘├───┤├───┤└┬─┬┘└╥┘\n",
       "«q0_1: ───────■──┤ X ├┤ H ├┤ X ├────────────■──┤ X ├┤ H ├─┤M├──╫─\n",
       "«                └───┘└───┘└───┘               └───┘└───┘ └╥┘  ║ \n",
       "«c0: 2/════════════════════════════════════════════════════╩═══╩═\n",
       "«                                                          1   0 "
      ]
     },
     "execution_count": 20,
     "metadata": {},
     "output_type": "execute_result"
    }
   ],
   "source": [
    "#measure & display\n",
    "qc00.measure(q00, c00)\n",
    "qc00.draw()"
   ]
  },
  {
   "cell_type": "code",
   "execution_count": 21,
   "metadata": {},
   "outputs": [
    {
     "data": {
      "text/html": [
       "<pre style=\"word-wrap: normal;white-space: pre;background: #fff0;line-height: 1.1;font-family: &quot;Courier New&quot;,Courier,monospace\">      ┌───┐┌───┐┌───┐┌───┐┌───┐┌───┐┌───┐┌───┐┌───┐┌───┐┌───┐┌─┐     ┌───┐┌───┐»\n",
       "q1_0: ┤ H ├┤ H ├┤ X ├┤ H ├┤ H ├┤ X ├┤ H ├┤ X ├┤ H ├┤ X ├┤ H ├┤M├─|0>─┤ H ├┤ H ├»\n",
       "      ├───┤├───┤└─┬─┘├───┤├───┤├───┤└───┘└─┬─┘├───┤├───┤└┬─┬┘└╥┘     ├───┤├───┤»\n",
       "q1_1: ┤ H ├┤ X ├──■──┤ X ├┤ H ├┤ X ├───────■──┤ X ├┤ H ├─┤M├──╫──|0>─┤ H ├┤ X ├»\n",
       "      └───┘└───┘     └───┘└───┘└───┘          └───┘└───┘ └╥┘  ║      └───┘└───┘»\n",
       "c1: 2/════════════════════════════════════════════════════╩═══╩════════════════»\n",
       "                                                          1   0                »\n",
       "«      ┌───┐┌───┐┌───┐┌───┐┌───┐┌───┐┌───┐┌───┐┌───┐┌───┐┌───┐┌───┐┌───┐┌───┐»\n",
       "«q1_0: ┤ X ├┤ H ├┤ H ├┤ X ├┤ H ├┤ X ├┤ H ├┤ X ├┤ H ├┤ H ├┤ X ├┤ H ├┤ H ├┤ X ├»\n",
       "«      └─┬─┘├───┤├───┤├───┤└───┘└─┬─┘├───┤├───┤├───┤└───┘└─┬─┘├───┤├───┤├───┤»\n",
       "«q1_1: ──■──┤ X ├┤ H ├┤ X ├───────■──┤ X ├┤ H ├┤ X ├───────■──┤ X ├┤ H ├┤ X ├»\n",
       "«           └───┘└───┘└───┘          └───┘└───┘└───┘          └───┘└───┘└───┘»\n",
       "«c1: 2/══════════════════════════════════════════════════════════════════════»\n",
       "«                                                                            »\n",
       "«      ┌───┐┌───┐┌───┐┌───┐┌───┐┌─┐\n",
       "«q1_0: ┤ H ├┤ X ├┤ H ├┤ X ├┤ H ├┤M├\n",
       "«      └───┘└─┬─┘├───┤├───┤└┬─┬┘└╥┘\n",
       "«q1_1: ───────■──┤ X ├┤ H ├─┤M├──╫─\n",
       "«                └───┘└───┘ └╥┘  ║ \n",
       "«c1: 2/══════════════════════╩═══╩═\n",
       "«                            1   0 </pre>"
      ],
      "text/plain": [
       "      ┌───┐┌───┐┌───┐┌───┐┌───┐┌───┐┌───┐┌───┐┌───┐┌───┐┌───┐┌─┐     ┌───┐┌───┐»\n",
       "q1_0: ┤ H ├┤ H ├┤ X ├┤ H ├┤ H ├┤ X ├┤ H ├┤ X ├┤ H ├┤ X ├┤ H ├┤M├─|0>─┤ H ├┤ H ├»\n",
       "      ├───┤├───┤└─┬─┘├───┤├───┤├───┤└───┘└─┬─┘├───┤├───┤└┬─┬┘└╥┘     ├───┤├───┤»\n",
       "q1_1: ┤ H ├┤ X ├──■──┤ X ├┤ H ├┤ X ├───────■──┤ X ├┤ H ├─┤M├──╫──|0>─┤ H ├┤ X ├»\n",
       "      └───┘└───┘     └───┘└───┘└───┘          └───┘└───┘ └╥┘  ║      └───┘└───┘»\n",
       "c1: 2/════════════════════════════════════════════════════╩═══╩════════════════»\n",
       "                                                          1   0                »\n",
       "«      ┌───┐┌───┐┌───┐┌───┐┌───┐┌───┐┌───┐┌───┐┌───┐┌───┐┌───┐┌───┐┌───┐┌───┐»\n",
       "«q1_0: ┤ X ├┤ H ├┤ H ├┤ X ├┤ H ├┤ X ├┤ H ├┤ X ├┤ H ├┤ H ├┤ X ├┤ H ├┤ H ├┤ X ├»\n",
       "«      └─┬─┘├───┤├───┤├───┤└───┘└─┬─┘├───┤├───┤├───┤└───┘└─┬─┘├───┤├───┤├───┤»\n",
       "«q1_1: ──■──┤ X ├┤ H ├┤ X ├───────■──┤ X ├┤ H ├┤ X ├───────■──┤ X ├┤ H ├┤ X ├»\n",
       "«           └───┘└───┘└───┘          └───┘└───┘└───┘          └───┘└───┘└───┘»\n",
       "«c1: 2/══════════════════════════════════════════════════════════════════════»\n",
       "«                                                                            »\n",
       "«      ┌───┐┌───┐┌───┐┌───┐┌───┐┌─┐\n",
       "«q1_0: ┤ H ├┤ X ├┤ H ├┤ X ├┤ H ├┤M├\n",
       "«      └───┘└─┬─┘├───┤├───┤└┬─┬┘└╥┘\n",
       "«q1_1: ───────■──┤ X ├┤ H ├─┤M├──╫─\n",
       "«                └───┘└───┘ └╥┘  ║ \n",
       "«c1: 2/══════════════════════╩═══╩═\n",
       "«                            1   0 "
      ]
     },
     "execution_count": 21,
     "metadata": {},
     "output_type": "execute_result"
    }
   ],
   "source": [
    "qc01.measure(q01, c01)\n",
    "qc01.draw()"
   ]
  },
  {
   "cell_type": "code",
   "execution_count": 22,
   "metadata": {},
   "outputs": [
    {
     "data": {
      "text/html": [
       "<pre style=\"word-wrap: normal;white-space: pre;background: #fff0;line-height: 1.1;font-family: &quot;Courier New&quot;,Courier,monospace\">      ┌───┐┌───┐┌───┐┌───┐┌───┐┌───┐┌───┐┌───┐┌───┐┌───┐┌───┐┌───┐┌───┐┌─┐     »\n",
       "q2_0: ┤ H ├┤ X ├┤ H ├┤ X ├┤ H ├┤ X ├┤ H ├┤ X ├┤ H ├┤ X ├┤ H ├┤ X ├┤ H ├┤M├─|0>─»\n",
       "      ├───┤└───┘└───┘└─┬─┘├───┤├───┤└───┘└───┘└───┘└─┬─┘├───┤├───┤└┬─┬┘└╥┘     »\n",
       "q2_1: ┤ H ├────────────■──┤ H ├┤ X ├─────────────────■──┤ X ├┤ H ├─┤M├──╫──|0>─»\n",
       "      └───┘               └───┘└───┘                    └───┘└───┘ └╥┘  ║      »\n",
       "c2: 2/══════════════════════════════════════════════════════════════╩═══╩══════»\n",
       "                                                                    1   0      »\n",
       "«      ┌───┐┌───┐┌───┐┌───┐┌───┐┌───┐┌───┐┌───┐┌───┐┌───┐┌───┐┌───┐┌───┐┌───┐»\n",
       "«q2_0: ┤ H ├┤ X ├┤ H ├┤ X ├┤ H ├┤ X ├┤ H ├┤ X ├┤ H ├┤ X ├┤ H ├┤ X ├┤ H ├┤ X ├»\n",
       "«      ├───┤└───┘└───┘└─┬─┘├───┤├───┤└───┘└───┘└───┘└─┬─┘├───┤├───┤└───┘└───┘»\n",
       "«q2_1: ┤ H ├────────────■──┤ H ├┤ X ├─────────────────■──┤ X ├┤ H ├──────────»\n",
       "«      └───┘               └───┘└───┘                    └───┘└───┘          »\n",
       "«c2: 2/══════════════════════════════════════════════════════════════════════»\n",
       "«                                                                            »\n",
       "«      ┌───┐┌───┐┌───┐┌───┐┌───┐┌───┐┌───┐┌───┐┌───┐┌───┐┌───┐┌─┐\n",
       "«q2_0: ┤ H ├┤ X ├┤ H ├┤ X ├┤ H ├┤ X ├┤ H ├┤ X ├┤ H ├┤ X ├┤ H ├┤M├\n",
       "«      └───┘└─┬─┘├───┤├───┤└───┘└───┘└───┘└─┬─┘├───┤├───┤└┬─┬┘└╥┘\n",
       "«q2_1: ───────■──┤ H ├┤ X ├─────────────────■──┤ X ├┤ H ├─┤M├──╫─\n",
       "«                └───┘└───┘                    └───┘└───┘ └╥┘  ║ \n",
       "«c2: 2/════════════════════════════════════════════════════╩═══╩═\n",
       "«                                                          1   0 </pre>"
      ],
      "text/plain": [
       "      ┌───┐┌───┐┌───┐┌───┐┌───┐┌───┐┌───┐┌───┐┌───┐┌───┐┌───┐┌───┐┌───┐┌─┐     »\n",
       "q2_0: ┤ H ├┤ X ├┤ H ├┤ X ├┤ H ├┤ X ├┤ H ├┤ X ├┤ H ├┤ X ├┤ H ├┤ X ├┤ H ├┤M├─|0>─»\n",
       "      ├───┤└───┘└───┘└─┬─┘├───┤├───┤└───┘└───┘└───┘└─┬─┘├───┤├───┤└┬─┬┘└╥┘     »\n",
       "q2_1: ┤ H ├────────────■──┤ H ├┤ X ├─────────────────■──┤ X ├┤ H ├─┤M├──╫──|0>─»\n",
       "      └───┘               └───┘└───┘                    └───┘└───┘ └╥┘  ║      »\n",
       "c2: 2/══════════════════════════════════════════════════════════════╩═══╩══════»\n",
       "                                                                    1   0      »\n",
       "«      ┌───┐┌───┐┌───┐┌───┐┌───┐┌───┐┌───┐┌───┐┌───┐┌───┐┌───┐┌───┐┌───┐┌───┐»\n",
       "«q2_0: ┤ H ├┤ X ├┤ H ├┤ X ├┤ H ├┤ X ├┤ H ├┤ X ├┤ H ├┤ X ├┤ H ├┤ X ├┤ H ├┤ X ├»\n",
       "«      ├───┤└───┘└───┘└─┬─┘├───┤├───┤└───┘└───┘└───┘└─┬─┘├───┤├───┤└───┘└───┘»\n",
       "«q2_1: ┤ H ├────────────■──┤ H ├┤ X ├─────────────────■──┤ X ├┤ H ├──────────»\n",
       "«      └───┘               └───┘└───┘                    └───┘└───┘          »\n",
       "«c2: 2/══════════════════════════════════════════════════════════════════════»\n",
       "«                                                                            »\n",
       "«      ┌───┐┌───┐┌───┐┌───┐┌───┐┌───┐┌───┐┌───┐┌───┐┌───┐┌───┐┌─┐\n",
       "«q2_0: ┤ H ├┤ X ├┤ H ├┤ X ├┤ H ├┤ X ├┤ H ├┤ X ├┤ H ├┤ X ├┤ H ├┤M├\n",
       "«      └───┘└─┬─┘├───┤├───┤└───┘└───┘└───┘└─┬─┘├───┤├───┤└┬─┬┘└╥┘\n",
       "«q2_1: ───────■──┤ H ├┤ X ├─────────────────■──┤ X ├┤ H ├─┤M├──╫─\n",
       "«                └───┘└───┘                    └───┘└───┘ └╥┘  ║ \n",
       "«c2: 2/════════════════════════════════════════════════════╩═══╩═\n",
       "«                                                          1   0 "
      ]
     },
     "execution_count": 22,
     "metadata": {},
     "output_type": "execute_result"
    }
   ],
   "source": [
    "qc10.measure(q10, c10)\n",
    "qc10.draw()"
   ]
  },
  {
   "cell_type": "code",
   "execution_count": 23,
   "metadata": {},
   "outputs": [
    {
     "data": {
      "text/html": [
       "<pre style=\"word-wrap: normal;white-space: pre;background: #fff0;line-height: 1.1;font-family: &quot;Courier New&quot;,Courier,monospace\">      ┌───┐┌───┐┌───┐┌───┐┌───┐┌───┐┌───┐┌───┐┌───┐┌───┐┌───┐┌─┐     ┌───┐┌───┐»\n",
       "q3_0: ┤ H ├┤ H ├┤ X ├┤ H ├┤ H ├┤ X ├┤ H ├┤ X ├┤ H ├┤ X ├┤ H ├┤M├─|0>─┤ H ├┤ H ├»\n",
       "      ├───┤└───┘└─┬─┘├───┤├───┤└───┘└───┘└─┬─┘├───┤├───┤└┬─┬┘└╥┘     ├───┤└───┘»\n",
       "q3_1: ┤ H ├───────■──┤ H ├┤ X ├────────────■──┤ X ├┤ H ├─┤M├──╫──|0>─┤ H ├─────»\n",
       "      └───┘          └───┘└───┘               └───┘└───┘ └╥┘  ║      └───┘     »\n",
       "c3: 2/════════════════════════════════════════════════════╩═══╩════════════════»\n",
       "                                                          1   0                »\n",
       "«      ┌───┐┌───┐┌───┐┌───┐┌───┐┌───┐┌───┐┌───┐┌───┐┌───┐┌───┐┌───┐┌───┐┌───┐»\n",
       "«q3_0: ┤ X ├┤ H ├┤ H ├┤ X ├┤ H ├┤ X ├┤ H ├┤ X ├┤ H ├┤ H ├┤ X ├┤ H ├┤ H ├┤ X ├»\n",
       "«      └─┬─┘├───┤├───┤└───┘└───┘└─┬─┘├───┤├───┤└───┘└───┘└─┬─┘├───┤├───┤└───┘»\n",
       "«q3_1: ──■──┤ H ├┤ X ├────────────■──┤ X ├┤ H ├────────────■──┤ H ├┤ X ├─────»\n",
       "«           └───┘└───┘               └───┘└───┘               └───┘└───┘     »\n",
       "«c3: 2/══════════════════════════════════════════════════════════════════════»\n",
       "«                                                                            »\n",
       "«      ┌───┐┌───┐┌───┐┌───┐┌───┐┌─┐\n",
       "«q3_0: ┤ H ├┤ X ├┤ H ├┤ X ├┤ H ├┤M├\n",
       "«      └───┘└─┬─┘├───┤├───┤└┬─┬┘└╥┘\n",
       "«q3_1: ───────■──┤ X ├┤ H ├─┤M├──╫─\n",
       "«                └───┘└───┘ └╥┘  ║ \n",
       "«c3: 2/══════════════════════╩═══╩═\n",
       "«                            1   0 </pre>"
      ],
      "text/plain": [
       "      ┌───┐┌───┐┌───┐┌───┐┌───┐┌───┐┌───┐┌───┐┌───┐┌───┐┌───┐┌─┐     ┌───┐┌───┐»\n",
       "q3_0: ┤ H ├┤ H ├┤ X ├┤ H ├┤ H ├┤ X ├┤ H ├┤ X ├┤ H ├┤ X ├┤ H ├┤M├─|0>─┤ H ├┤ H ├»\n",
       "      ├───┤└───┘└─┬─┘├───┤├───┤└───┘└───┘└─┬─┘├───┤├───┤└┬─┬┘└╥┘     ├───┤└───┘»\n",
       "q3_1: ┤ H ├───────■──┤ H ├┤ X ├────────────■──┤ X ├┤ H ├─┤M├──╫──|0>─┤ H ├─────»\n",
       "      └───┘          └───┘└───┘               └───┘└───┘ └╥┘  ║      └───┘     »\n",
       "c3: 2/════════════════════════════════════════════════════╩═══╩════════════════»\n",
       "                                                          1   0                »\n",
       "«      ┌───┐┌───┐┌───┐┌───┐┌───┐┌───┐┌───┐┌───┐┌───┐┌───┐┌───┐┌───┐┌───┐┌───┐»\n",
       "«q3_0: ┤ X ├┤ H ├┤ H ├┤ X ├┤ H ├┤ X ├┤ H ├┤ X ├┤ H ├┤ H ├┤ X ├┤ H ├┤ H ├┤ X ├»\n",
       "«      └─┬─┘├───┤├───┤└───┘└───┘└─┬─┘├───┤├───┤└───┘└───┘└─┬─┘├───┤├───┤└───┘»\n",
       "«q3_1: ──■──┤ H ├┤ X ├────────────■──┤ X ├┤ H ├────────────■──┤ H ├┤ X ├─────»\n",
       "«           └───┘└───┘               └───┘└───┘               └───┘└───┘     »\n",
       "«c3: 2/══════════════════════════════════════════════════════════════════════»\n",
       "«                                                                            »\n",
       "«      ┌───┐┌───┐┌───┐┌───┐┌───┐┌─┐\n",
       "«q3_0: ┤ H ├┤ X ├┤ H ├┤ X ├┤ H ├┤M├\n",
       "«      └───┘└─┬─┘├───┤├───┤└┬─┬┘└╥┘\n",
       "«q3_1: ───────■──┤ X ├┤ H ├─┤M├──╫─\n",
       "«                └───┘└───┘ └╥┘  ║ \n",
       "«c3: 2/══════════════════════╩═══╩═\n",
       "«                            1   0 "
      ]
     },
     "execution_count": 23,
     "metadata": {},
     "output_type": "execute_result"
    }
   ],
   "source": [
    "qc11.measure(q11, c11)\n",
    "qc11.draw()"
   ]
  },
  {
   "cell_type": "code",
   "execution_count": 24,
   "metadata": {},
   "outputs": [
    {
     "data": {
      "image/png": "[encoded data removed]",
      "text/plain": [
       "<Figure size 504x360 with 1 Axes>"
      ]
     },
     "execution_count": 24,
     "metadata": {},
     "output_type": "execute_result"
    }
   ],
   "source": [
    "from qiskit.tools.visualization import plot_histogram\n",
    "job = execute(qc00, backend, shots=number_of_shots)\n",
    "\n",
    "result = job.result()\n",
    "plot_histogram([result.get_counts(qc00)])"
   ]
  },
  {
   "cell_type": "code",
   "execution_count": 25,
   "metadata": {},
   "outputs": [
    {
     "data": {
      "image/png": "[encoded data removed]",
      "text/plain": [
       "<Figure size 504x360 with 1 Axes>"
      ]
     },
     "execution_count": 25,
     "metadata": {},
     "output_type": "execute_result"
    }
   ],
   "source": [
    "job = execute(qc01, backend, shots=number_of_shots)\n",
    "\n",
    "result = job.result()\n",
    "plot_histogram([result.get_counts(qc01)])"
   ]
  },
  {
   "cell_type": "code",
   "execution_count": 26,
   "metadata": {},
   "outputs": [
    {
     "data": {
      "image/png": "[encoded data removed]",
      "text/plain": [
       "<Figure size 504x360 with 1 Axes>"
      ]
     },
     "execution_count": 26,
     "metadata": {},
     "output_type": "execute_result"
    }
   ],
   "source": [
    "job = execute(qc10, backend, shots=number_of_shots)\n",
    "\n",
    "result = job.result()\n",
    "plot_histogram([result.get_counts(qc10)])"
   ]
  },
  {
   "cell_type": "code",
   "execution_count": 27,
   "metadata": {
    "scrolled": true
   },
   "outputs": [
    {
     "data": {
      "image/png": "[encoded data removed]",
      "text/plain": [
       "<Figure size 504x360 with 1 Axes>"
      ]
     },
     "execution_count": 27,
     "metadata": {},
     "output_type": "execute_result"
    }
   ],
   "source": [
    "job = execute(qc11, backend, shots=number_of_shots)\n",
    "\n",
    "result = job.result()\n",
    "plot_histogram([result.get_counts(qc11)])"
   ]
  },
  {
   "cell_type": "code",
   "execution_count": 28,
   "metadata": {},
   "outputs": [],
   "source": [
    "#as we can see. overapplying the algorithm makes it stop working"
   ]
  },
  {
   "cell_type": "code",
   "execution_count": null,
   "metadata": {},
   "outputs": [],
   "source": []
  }
 ],
 "metadata": {
  "kernelspec": {
   "display_name": "Python 3",
   "language": "python",
   "name": "python3"
  },
  "language_info": {
   "codemirror_mode": {
    "name": "ipython",
    "version": 3
   },
   "file_extension": ".py",
   "mimetype": "text/x-python",
   "name": "python",
   "nbconvert_exporter": "python",
   "pygments_lexer": "ipython3",
   "version": "3.8.3"
  }
 },
 "nbformat": 4,
 "nbformat_minor": 4
}
