{
 "cells": [
  {
   "cell_type": "code",
   "execution_count": 20,
   "metadata": {},
   "outputs": [
    {
     "data": {
      "text/plain": [
       "{'qiskit-terra': '0.15.2',\n",
       " 'qiskit-aer': '0.6.1',\n",
       " 'qiskit-ignis': '0.4.0',\n",
       " 'qiskit-ibmq-provider': '0.9.0',\n",
       " 'qiskit-aqua': '0.7.5',\n",
       " 'qiskit': '0.21.0'}"
      ]
     },
     "execution_count": 20,
     "metadata": {},
     "output_type": "execute_result"
    }
   ],
   "source": [
    "import qiskit as qk\n",
    "import math as m\n",
    "from qiskit import IBMQ,Aer\n",
    "qk.__qiskit_version__"
   ]
  },
  {
   "cell_type": "code",
   "execution_count": 6,
   "metadata": {
    "scrolled": true
   },
   "outputs": [
    {
     "name": "stderr",
     "output_type": "stream",
     "text": [
      "configrc.store_credentials:WARNING:2020-10-01 23:36:47,784: Credentials already present. Set overwrite=True to overwrite.\n"
     ]
    }
   ],
   "source": [
    "IBMQ.save_account('')"
   ]
  },
  {
   "cell_type": "code",
   "execution_count": 7,
   "metadata": {},
   "outputs": [
    {
     "name": "stderr",
     "output_type": "stream",
     "text": [
      "C:\\Users\\Василий\\AppData\\Roaming\\Python\\Python37\\site-packages\\qiskit\\providers\\ibmq\\ibmqfactory.py:192: UserWarning: Timestamps in IBMQ backend properties, jobs, and job results are all now in local time instead of UTC.\n",
      "  warnings.warn('Timestamps in IBMQ backend properties, jobs, and job results '\n"
     ]
    },
    {
     "data": {
      "text/plain": [
       "<AccountProvider for IBMQ(hub='ibm-q', group='open', project='main')>"
      ]
     },
     "execution_count": 7,
     "metadata": {},
     "output_type": "execute_result"
    }
   ],
   "source": [
    "IBMQ.load_account()\n",
    "\n"
   ]
  },
  {
   "cell_type": "code",
   "execution_count": 9,
   "metadata": {},
   "outputs": [
    {
     "data": {
      "text/plain": [
       "[<IBMQSimulator('ibmq_qasm_simulator') from IBMQ(hub='ibm-q', group='open', project='main')>,\n",
       " <IBMQBackend('ibmqx2') from IBMQ(hub='ibm-q', group='open', project='main')>,\n",
       " <IBMQBackend('ibmq_16_melbourne') from IBMQ(hub='ibm-q', group='open', project='main')>,\n",
       " <IBMQBackend('ibmq_vigo') from IBMQ(hub='ibm-q', group='open', project='main')>,\n",
       " <IBMQBackend('ibmq_ourense') from IBMQ(hub='ibm-q', group='open', project='main')>,\n",
       " <IBMQBackend('ibmq_valencia') from IBMQ(hub='ibm-q', group='open', project='main')>,\n",
       " <IBMQBackend('ibmq_london') from IBMQ(hub='ibm-q', group='open', project='main')>,\n",
       " <IBMQBackend('ibmq_burlington') from IBMQ(hub='ibm-q', group='open', project='main')>,\n",
       " <IBMQBackend('ibmq_essex') from IBMQ(hub='ibm-q', group='open', project='main')>,\n",
       " <IBMQBackend('ibmq_armonk') from IBMQ(hub='ibm-q', group='open', project='main')>,\n",
       " <IBMQBackend('ibmq_santiago') from IBMQ(hub='ibm-q', group='open', project='main')>]"
      ]
     },
     "execution_count": 9,
     "metadata": {},
     "output_type": "execute_result"
    }
   ],
   "source": [
    "my_provider = IBMQ.get_provider()\n",
    "my_provider.backends()"
   ]
  },
  {
   "cell_type": "code",
   "execution_count": 7,
   "metadata": {},
   "outputs": [],
   "source": [
    "\n",
    "my_provider = IBMQ.get_provider()\n",
    "backend  = my_provider.get_backend('ibmqx2')\n",
    "backend  = my_provider.get_backend('ibmq_qasm_simulator')"
   ]
  },
  {
   "cell_type": "markdown",
   "metadata": {},
   "source": [
    "$Задание~1:~измерить ~фазу~ \\phi ~состояния~ |\\psi>=sin\\frac{\\theta}{2}|0>+e^{i\\phi}cos\\frac{\\theta}{2}|1>$. Для этого применим преобразование Адамара к нашему состоянию. Получим:\n",
    "\n",
    "\\begin{equation}\n",
    "H|\\psi>=\\frac{1}{\\sqrt{2}}\n",
    "\\begin{pmatrix}\n",
    "1 & 1\\\\\n",
    "1 & -1\\\\\n",
    "\\end{pmatrix}\n",
    "\\begin{pmatrix}\n",
    "sin\\frac{\\theta}{2}\\\\\n",
    "e^{i\\phi}cos\\frac{\\theta}{2}\\\\\n",
    "\\end{pmatrix}=\\frac{1}{\\sqrt{2}}(sin\\frac{\\theta}{2}+e^{i\\phi}cos\\frac{\\theta}{2})|0>+\\frac{1}{\\sqrt{2}}(sin\\frac{\\theta}{2}-e^{i\\phi}cos\\frac{\\theta}{2})|1>\n",
    "\\end{equation}\n",
    "$Пусть~ мы~ измерили~ вероятность~ a^2 нахождения~ системы~ в~ состоянии~ |0> ~. Тогда:\n",
    "2a^2=|sin\\frac{\\theta}{2}+e^{i\\phi}cos\\frac{\\theta}{2}|^2=(cos\\phi cos\\frac{\\theta}{2}+sin\\frac{\\theta}{2})^2+(sin\\phi cos\\frac{\\theta}{2})^2=1+2cos\\frac{\\theta}{2} sin\\frac{\\theta}{2} cos\\phi=1+sin\\theta cos\\phi$\n",
    "Отсюда получаем $cos\\phi=\\frac{2a^2-1}{sin\\theta}$"
   ]
  },
  {
   "cell_type": "code",
   "execution_count": 117,
   "metadata": {
    "scrolled": true
   },
   "outputs": [
    {
     "data": {
      "image/png": "[encoded data removed]",
      "text/plain": [
       "<Figure size 504x360 with 1 Axes>"
      ]
     },
     "execution_count": 117,
     "metadata": {},
     "output_type": "execute_result"
    }
   ],
   "source": [
    "qreg_q = qk.QuantumRegister(1, 'q')\n",
    "creg_c = qk.ClassicalRegister(1, 'c')\n",
    "circuit = qk.QuantumCircuit(qreg_q, creg_c)\n",
    "\n",
    "#Preparation\n",
    "theta=0.92;\n",
    "phi=0.3514;\n",
    "circuit.sdg(qreg_q[0])\n",
    "circuit.h(qreg_q[0])\n",
    "circuit.rz(theta, qreg_q[0])\n",
    "circuit.h(qreg_q[0])\n",
    "circuit.s(qreg_q[0])\n",
    "circuit.rz(phi, qreg_q[0])\n",
    "circuit.h(qreg_q[0])\n",
    "\n",
    "#Measurement\n",
    "measureZ=qk.QuantumCircuit(qreg_q,creg_c)\n",
    "measureZ.measure(qreg_q,creg_c)\n",
    "testZ=circuit+measureZ\n",
    "\n",
    "backend  = my_provider.get_backend('ibmq_ourense')\n",
    "jobIBM=qk.execute([testZ],backend=backend,shots=1024)\n",
    "resultExpMulty=jobIBM.result()\n",
    "\n",
    "\n",
    "backend=Aer.get_backend('qasm_simulator')\n",
    "jobIBM=qk.execute([testZ],backend=backend,shots=1024)\n",
    "resultSimMulty=jobIBM.result()\n",
    "res=resultExpMulty.get_counts(testZ)\n",
    "\n",
    "from qiskit.tools.visualization import plot_histogram\n",
    "plot_histogram([res,resultSimMulty.get_counts(testZ)])"
   ]
  },
  {
   "cell_type": "code",
   "execution_count": 118,
   "metadata": {},
   "outputs": [
    {
     "data": {
      "text/plain": [
       "0.3616391482932495"
      ]
     },
     "execution_count": 118,
     "metadata": {},
     "output_type": "execute_result"
    }
   ],
   "source": [
    "#Измерение фазы:\n",
    "m.acos((2*res['0']/1024-1)/m.sin(theta))"
   ]
  },
  {
   "cell_type": "markdown",
   "metadata": {},
   "source": [
    "$Задание ~2:$ приготовить состояние $ |\\psi>=sin\\frac{\\theta}{2}|0>+e^{i\\phi}cos\\frac{\\theta}{2}|1>$\n",
    "Состояние удобно рассматривать как единичный вектор, конец которого лежит на сфере Блоха. Чтобы из состояния |0> получить произвольное, нужно осуществить два последовательных поворота: на азимутальный угол вокруг оси x или y и на полярный вокруг оси z. Чтобы в результате первого поворота получить состояние с нулевым полярным углом, осуществим поворот вокруг оси y на угол $\\theta/2$, осталось лишь выразить его через имеющиеся гейты. Через поворот покруг оси z, преобразование Адамара и корень из Z он выразится как: $Ry(\\theta)=S H Rz(\\theta) H S^\\dagger$, а итоговая схема запишется как: $CG(\\theta,\\phi)=Rz(\\phi)S H Rz(\\theta) H S^\\dagger$"
   ]
  },
  {
   "cell_type": "code",
   "execution_count": 113,
   "metadata": {},
   "outputs": [
    {
     "data": {
      "image/png": "[encoded data removed]",
      "text/plain": [
       "<Figure size 504x360 with 1 Axes>"
      ]
     },
     "execution_count": 113,
     "metadata": {},
     "output_type": "execute_result"
    }
   ],
   "source": [
    "qreg_q = qk.QuantumRegister(1, 'q')\n",
    "creg_c = qk.ClassicalRegister(1, 'c')\n",
    "circuit = qk.QuantumCircuit(qreg_q, creg_c)\n",
    "\n",
    "circuit.sdg(qreg_q[0])\n",
    "circuit.h(qreg_q[0])\n",
    "circuit.rz(2*math.pi/3, qreg_q[0])\n",
    "circuit.h(qreg_q[0])\n",
    "circuit.s(qreg_q[0])\n",
    "circuit.rz(2*math.pi/3, qreg_q[0])\n",
    "\n",
    "measureZ=qk.QuantumCircuit(qreg_q,creg_c)\n",
    "measureZ.measure(qreg_q,creg_c)\n",
    "testZ=circuit+measureZ\n",
    "\n",
    "#qc.x(qr[0])\n",
    "\n",
    "backend  = my_provider.get_backend('ibmq_ourense')\n",
    "jobIBM=qk.execute([testZ],backend=backend,shots=1024)\n",
    "resultExpMulty=jobIBM.result()\n",
    "\n",
    "\n",
    "backend=Aer.get_backend('qasm_simulator')\n",
    "jobIBM=qk.execute([testZ],backend=backend,shots=1024)\n",
    "resultSimMulty=jobIBM.result()\n",
    "\n",
    "from qiskit.tools.visualization import plot_histogram\n",
    "plot_histogram([resultExpMulty.get_counts(testZ),resultSimMulty.get_counts(testZ)])"
   ]
  },
  {
   "cell_type": "code",
   "execution_count": 116,
   "metadata": {},
   "outputs": [
    {
     "data": {
      "image/png": "[encoded data removed]",
      "text/plain": [
       "<Figure size 504x360 with 1 Axes>"
      ]
     },
     "execution_count": 116,
     "metadata": {},
     "output_type": "execute_result"
    }
   ],
   "source": [
    "qreg_q = qk.QuantumRegister(1, 'q')\n",
    "creg_c = qk.ClassicalRegister(1, 'c')\n",
    "circuit = qk.QuantumCircuit(qreg_q, creg_c)\n",
    "\n",
    "circuit.u3(2*math.pi/3, 2*math.pi/3, 0, qreg_q[0])\n",
    "\n",
    "measureZ=qk.QuantumCircuit(qreg_q,creg_c)\n",
    "measureZ.measure(qreg_q,creg_c)\n",
    "testZ=circuit+measureZ\n",
    "\n",
    "#qc.x(qr[0])\n",
    "\n",
    "backend  = my_provider.get_backend('ibmq_ourense')\n",
    "jobIBM=qk.execute([testZ],backend=backend,shots=1024)\n",
    "resultExpMulty=jobIBM.result()\n",
    "\n",
    "\n",
    "backend=Aer.get_backend('qasm_simulator')\n",
    "jobIBM=qk.execute([testZ],backend=backend,shots=1024)\n",
    "resultSimMulty=jobIBM.result()\n",
    "\n",
    "from qiskit.tools.visualization import plot_histogram\n",
    "plot_histogram([resultExpMulty.get_counts(testZ),resultSimMulty.get_counts(testZ)])"
   ]
  },
  {
   "cell_type": "markdown",
   "metadata": {},
   "source": [
    "Задание 3: доказать равенства\n",
    "а) H X H = Z\n",
    "\\begin{equation}\n",
    "\\frac{1}{2}\n",
    "\\begin{pmatrix}\n",
    "1 & 1\\\\\n",
    "1 & -1\\\\\n",
    "\\end{pmatrix}\\begin{pmatrix}\n",
    "0 & 1\\\\\n",
    "1 & 0\\\\\n",
    "\\end{pmatrix}\n",
    "\\begin{pmatrix}\n",
    "1 & 1\\\\\n",
    "1 & -1\\\\\n",
    "\\end{pmatrix}=\n",
    "\\frac{1}{2}\\begin{pmatrix}\n",
    "1 & 1\\\\\n",
    "-1 & 1\\\\\n",
    "\\end{pmatrix}\n",
    "\\begin{pmatrix}\n",
    "1 & 1\\\\\n",
    "1 & -1\\\\\n",
    "\\end{pmatrix}=\n",
    "\\begin{pmatrix}\n",
    "1 & 0\\\\\n",
    "0 & -1\\\\\n",
    "\\end{pmatrix}\n",
    "\\end{equation}\n",
    "б) СZ=SWAP CZ SWAP\n",
    "\\begin{equation}\n",
    "\\begin{pmatrix}\n",
    "1 & 0 & 0 & 0\\\\\n",
    "0 & 0 & 1 & 0\\\\\n",
    "0 & 1 & 0 & 0\\\\\n",
    "0 & 0 & 0 & 1\\\\\n",
    "\\end{pmatrix}\n",
    "\\begin{pmatrix}\n",
    "1 & 0 & 0 & 0\\\\\n",
    "0 & 1 & 0 & 0\\\\\n",
    "0 & 0 & 1 & 0\\\\\n",
    "0 & 0 & 0 & -1\\\\\n",
    "\\end{pmatrix}\n",
    "\\begin{pmatrix}\n",
    "1 & 0 & 0 & 0\\\\\n",
    "0 & 0 & 1 & 0\\\\\n",
    "0 & 1 & 0 & 0\\\\\n",
    "0 & 0 & 0 & 1\\\\\n",
    "\\end{pmatrix}=\n",
    "\\begin{pmatrix}\n",
    "1 & 0 & 0 & 0\\\\\n",
    "0 & 0 & 1 & 0\\\\\n",
    "0 & 1 & 0 & 0\\\\\n",
    "0 & 0 & 0 & -1\\\\\n",
    "\\end{pmatrix}\n",
    "\\begin{pmatrix}\n",
    "1 & 0 & 0 & 0\\\\\n",
    "0 & 0 & 1 & 0\\\\\n",
    "0 & 1 & 0 & 0\\\\\n",
    "0 & 0 & 0 & 1\\\\\n",
    "\\end{pmatrix}=\n",
    "\\begin{pmatrix}\n",
    "1 & 0 & 0 & 0\\\\\n",
    "0 & 1 & 0 & 0\\\\\n",
    "0 & 0 & 1 & 0\\\\\n",
    "0 & 0 & 0 & -1\\\\\n",
    "\\end{pmatrix}\n",
    "\\end{equation}\n",
    "с) $(H\\otimes H)CX(H\\otimes H)= SWAP\\cdot CX\\cdot SWAP$\n",
    "\\begin{equation}\n",
    "\\frac{1}{4}\\begin{pmatrix}\n",
    "1 & 1 & 1 & 1\\\\\n",
    "1 & -1 & 1 & -1\\\\\n",
    "1 & 1 & -1 & -1\\\\\n",
    "1 & -1 & -1 & 1\\\\\n",
    "\\end{pmatrix}\n",
    "\\begin{pmatrix}\n",
    "1 & 0 & 0 & 0\\\\\n",
    "0 & 1 & 0 & 0\\\\\n",
    "0 & 0 & 0 & 1\\\\\n",
    "0 & 0 & 1 & 0\\\\\n",
    "\\end{pmatrix}\n",
    "\\begin{pmatrix}\n",
    "1 & 1 & 1 & 1\\\\\n",
    "1 & -1 & 1 & -1\\\\\n",
    "1 & 1 & -1 & -1\\\\\n",
    "1 & -1 & -1 & 1\\\\\n",
    "\\end{pmatrix}=\n",
    "\\frac{1}{4}\\begin{pmatrix}\n",
    "1 & 1 & 1 & 1\\\\\n",
    "1 & -1 & -1 & 1\\\\\n",
    "1 & 1 & -1 & -1\\\\\n",
    "1 & -1 & 1 & -1\\\\\n",
    "\\end{pmatrix}\n",
    "\\begin{pmatrix}\n",
    "1 & 1 & 1 & 1\\\\\n",
    "1 & -1 & 1 & -1\\\\\n",
    "1 & 1 & -1 & -1\\\\\n",
    "1 & -1 & -1 & 1\\\\\n",
    "\\end{pmatrix}=\n",
    "\\begin{pmatrix}\n",
    "1 & 0 & 0 & 0\\\\\n",
    "0 & 0 & 0 & 1\\\\\n",
    "0 & 0 & 1 & 0\\\\\n",
    "0 & 1 & 0 & 0\\\\\n",
    "\\end{pmatrix}\n",
    "\\end{equation}\n",
    "\\begin{equation}\n",
    "\\begin{pmatrix}\n",
    "1 & 0 & 0 & 0\\\\\n",
    "0 & 0 & 1 & 0\\\\\n",
    "0 & 1 & 0 & 0\\\\\n",
    "0 & 0 & 0 & 1\\\\\n",
    "\\end{pmatrix}\n",
    "\\begin{pmatrix}\n",
    "1 & 0 & 0 & 0\\\\\n",
    "0 & 1 & 0 & 0\\\\\n",
    "0 & 0 & 0 & 1\\\\\n",
    "0 & 0 & 1 & 0\\\\\n",
    "\\end{pmatrix}\n",
    "\\begin{pmatrix}\n",
    "1 & 0 & 0 & 0\\\\\n",
    "0 & 0 & 1 & 0\\\\\n",
    "0 & 1 & 0 & 0\\\\\n",
    "0 & 0 & 0 & 1\\\\\n",
    "\\end{pmatrix}=\n",
    "\\begin{pmatrix}\n",
    "1 & 0 & 0 & 0\\\\\n",
    "0 & 0 & 0 & 1\\\\\n",
    "0 & 1 & 0 & 0\\\\\n",
    "0 & 0 & 1 & 0\\\\\n",
    "\\end{pmatrix}\n",
    "\\begin{pmatrix}\n",
    "1 & 0 & 0 & 0\\\\\n",
    "0 & 0 & 1 & 0\\\\\n",
    "0 & 1 & 0 & 0\\\\\n",
    "0 & 0 & 0 & 1\\\\\n",
    "\\end{pmatrix}\n",
    "\\end{equation}\n",
    "d) $C(e^{i\\alpha})=(U(\\alpha)\\otimes I)$\n",
    "\\begin{equation}\n",
    "\\begin{pmatrix}\n",
    "1 & 0\\\\\n",
    "0 & e^{i\\alpha}\\\\\n",
    "\\end{pmatrix}\\otimes\n",
    "\\begin{pmatrix}\n",
    "1 & 0\\\\\n",
    "0 & 1\\\\\n",
    "\\end{pmatrix}=\n",
    "\\begin{pmatrix}\n",
    "1 & 0 & 0 & 0\\\\\n",
    "0 & 1 & 0 & 0\\\\\n",
    "0 & 0 & e^{i\\alpha} & 0\\\\\n",
    "0 & 0 & 0 & e^{i\\alpha}\\\\\n",
    "\\end{pmatrix}\n",
    "\\end{equation}"
   ]
  },
  {
   "cell_type": "markdown",
   "metadata": {},
   "source": [
    "Задание 4: выяснить, спутанные ли состояния\n",
    "\n",
    "b) $\\frac{1}{2}(|00\\rangle-i|01\\rangle+i|10\\rangle+|11\\rangle)=\\frac{1}{2}(|0\\rangle(|0\\rangle-i|1\\rangle)+i|1\\rangle(|0\\rangle-i|1\\rangle)=\\frac{1}{\\sqrt{2}}(|0\\rangle+i|1\\rangle)\\frac{1}{\\sqrt{2}}(|0\\rangle-i|0\\rangle)$\n",
    "Введём новые ортогональные состояния для обоих кубитов: $|+\\rangle=\\frac{1}{\\sqrt{2}}(|0\\rangle+i|1\\rangle),~|-\\rangle=\\frac{1}{\\sqrt{2}}(|0\\rangle-i|1\\rangle)$\n",
    "Тогда исходное состояние запишется просто как $|+\\rangle|-\\rangle=|+-\\rangle$, отсюда видно, что оно сепарабельно.\n",
    "\n",
    "c) $\\frac{1}{2}(|00\\rangle-|01\\rangle+|10\\rangle+|11\\rangle)=\\frac{1}{2}(|0\\rangle(|0\\rangle-|1\\rangle)+|1\\rangle(|0\\rangle+|1\\rangle))$\n",
    "Введём новые ортогональные состояния для второго кубита: $|-\\rangle=\\frac{1}{\\sqrt{2}}(|0\\rangle-|1\\rangle),~|+\\rangle=\\frac{1}{\\sqrt{2}}(|0\\rangle+|1\\rangle)$.\n",
    "Тогда исходное состояние запишется как $\\frac{1}{\\sqrt{2}}(|0-\\rangle+|1+\\rangle)$, отсюда видно, что состояние спутанное, представить его в виде тензорного произведения состояний двух кубитов нельзя.\n",
    "\n",
    "a) $\\frac{2}{3}|00\\rangle+\\frac{1}{3}|01\\rangle-\\frac{2}{3}|11\\rangle$\n",
    "\n",
    "Рассмотрим задачу в более общем виде. Состояние 2 кубитов в общем виде можно представить в виде произведения вектора-строки на матрицу на вектор-столбец.\n",
    "\\begin{equation}\n",
    "\\begin{pmatrix}\n",
    "|0\\rangle & |1\\rangle\\\\\n",
    "\\end{pmatrix}\n",
    "\\begin{pmatrix}\n",
    "a & b\\\\\n",
    "c & d\\\\\n",
    "\\end{pmatrix}\n",
    "\\begin{pmatrix}\n",
    "|0\\rangle\\\\\n",
    "|1\\rangle\\\\\n",
    "\\end{pmatrix}=a|00\\rangle+b|01\\rangle+c|10\\rangle+d|11\\rangle\n",
    "\\end{equation}\n",
    "\n",
    "Введём новые состояния, переход к которым осуществим при помощи двух разных унитарных матриц U и V:\n",
    "\\begin{equation}\n",
    "Кубит~№1: \\begin{pmatrix}\n",
    "|0\\rangle\\\\\n",
    "|1\\rangle\\\\\n",
    "\\end{pmatrix}=V\n",
    "\\begin{pmatrix}\n",
    "|\\psi\\rangle\\\\\n",
    "|\\phi\\rangle\\\\\n",
    "\\end{pmatrix}=\n",
    "\\begin{pmatrix}\n",
    "cos\\alpha & -sin\\alpha\\\\\n",
    "sin\\alpha & cos\\alpha\\\\\n",
    "\\end{pmatrix}\n",
    "\\begin{pmatrix}\n",
    "|\\psi\\rangle\\\\\n",
    "|\\phi\\rangle\\\\\n",
    "\\end{pmatrix}~~\n",
    "Кубит~№2: \\begin{pmatrix}\n",
    "|0\\rangle\\\\\n",
    "|1\\rangle\\\\\n",
    "\\end{pmatrix}=U\n",
    "\\begin{pmatrix}\n",
    "|\\chi\\rangle\\\\\n",
    "|\\eta\\rangle\\\\\n",
    "\\end{pmatrix}=\n",
    "\\begin{pmatrix}\n",
    "cos\\beta & -sin\\beta\\\\\n",
    "sin\\beta & cos\\beta\\\\\n",
    "\\end{pmatrix}\n",
    "\\begin{pmatrix}\n",
    "|\\chi\\rangle\\\\\n",
    "|\\eta\\rangle\\\\\n",
    "\\end{pmatrix}\n",
    "\\end{equation}\n",
    "\n",
    "В новом базисе матрица A будет иметь вид $V^\\dagger A U$. Попробуем придать этой матрице диагональный вид, т.е. потребуем зануления недиагональных элементов. Если это удастся сделать -- наше состояние можно представить в виде суперпозиции двух двухкубитных состояний. Если в таком базисе занулится ещё и один диагональный элемент, останется только одно двухкубитное состояние, это значит, что состояние является сепарабельным. Имеем систему уравнений:\n",
    "\\begin{equation}\n",
    "\\begin{cases}\n",
    "asin\\beta cos\\alpha-bcos\\beta cos\\alpha+csin\\beta sin\\alpha-d cos\\beta sin\\alpha=0\\\\\n",
    "acos\\beta sin\\alpha+bsin\\beta sin\\alpha-ccos\\beta cos\\alpha-d sin\\beta cos\\alpha=0\n",
    "\\end{cases}\n",
    "\\end{equation}\n",
    "\n",
    "\\begin{equation}\n",
    "\\begin{cases}\n",
    "2tg\\beta-1+2tg\\alpha=0\\\\\n",
    "2tg\\alpha+tg\\beta tg\\alpha+2tg\\beta=0\n",
    "\\end{cases}\n",
    "\\end{equation}\n",
    "\n",
    "Решая уравнения относительно $x=tg\\alpha,~y=tg\\beta$, получим $x=\\frac{1}{4}(-1+\\sqrt{17}),~y=\\frac{1}{4}(-1-\\sqrt{17})$ и углы поворота базиса. Матрица A в новом базисе имеет вид:\n",
    "\n",
    "\\begin{equation}\n",
    "\\begin{pmatrix}\n",
    "-\\frac{1}{6}+\\frac{\\sqrt{17}}{6} & 0\\\\\n",
    "0 & -\\frac{1}{6}-\\frac{\\sqrt{17}}{6}\\\\\n",
    "\\end{pmatrix}\n",
    "\\end{equation}\n",
    "\n",
    "Как можно видеть, диагональные элементы ненулевые, состояние несепарабельное."
   ]
  },
  {
   "cell_type": "markdown",
   "metadata": {},
   "source": [
    "Задание 5: написать схему для приготовления произвольного состояния двух кубитов.\n",
    "\n",
    "Исходим из того, что система изначально находится в состоянии |00>. Матрицу перехода хотим представить в виде последовательности уже известных гейтов. Конечное состояние задаётся при помощи матрицы A, как в задаче 5а. Допустим, что при помощи сингулярного разложения мы смогли привести матрицу к диагональному виду, тогда можем представить матрицу перехода в следующем виде:\n",
    "\n",
    "\\begin{equation}\n",
    "T=(B\\otimes I)CNOT_2^1(U\\otimes V)\n",
    "\\end{equation}\n",
    "\n",
    "Остался лишь вопрос, как составить матрицу B. Она должна быть такой, что $B|0\\rangle=b_1|0\\rangle+b_2|1\\rangle$, где $b_1,b_2$ -- сингулярные числа матрицы A. Это даст нам два элемента матрицы B, остальные допишем из условия унитарности B. Что касается сингулярного разложения, один из вариантов его реализации был представлен в задаче 5а.\n",
    "\n",
    "a) \\begin{equation}\n",
    "A=\\frac{1}{\\sqrt{2}}\\begin{pmatrix}\n",
    "1 & 0\\\\\n",
    "0 & \\pm 1\\\\\n",
    "\\end{pmatrix}\n",
    "\\end{equation}\n",
    "\n",
    "Матрица уже приведена к диагональному виду, поэтому U=V=I. Матрицу B составляем в соответствии с соображениями, приведенными выше.\n",
    "\n",
    "\\begin{equation}\n",
    "B=\\frac{1}{\\sqrt{2}}\\begin{pmatrix}\n",
    "1 & \\mp 1\\\\\n",
    "\\pm 1 & 1\\\\\n",
    "\\end{pmatrix}=Ry(\\pi/2)\n",
    "\\end{equation}\n"
   ]
  },
  {
   "cell_type": "code",
   "execution_count": 24,
   "metadata": {},
   "outputs": [
    {
     "data": {
      "image/png": "[encoded data removed]",
      "text/plain": [
       "<Figure size 504x360 with 1 Axes>"
      ]
     },
     "execution_count": 24,
     "metadata": {},
     "output_type": "execute_result"
    }
   ],
   "source": [
    "qreg_q = qk.QuantumRegister(2, 'q')\n",
    "creg_c = qk.ClassicalRegister(2, 'c')\n",
    "circuit = qk.QuantumCircuit(qreg_q, creg_c)\n",
    "\n",
    "circuit.ry(m.pi/2, qreg_q[0])\n",
    "#for -state\n",
    "#circuit.ry(-m.pi/2, qreg_q[0])\n",
    "circuit.cx(qreg_q[0], qreg_q[1])\n",
    "\n",
    "measureZ=qk.QuantumCircuit(qreg_q,creg_c)\n",
    "measureZ.measure(qreg_q,creg_c)\n",
    "testZ=circuit+measureZ\n",
    "\n",
    "#qc.x(qr[0])\n",
    "\n",
    "backend  = my_provider.get_backend('ibmq_ourense')\n",
    "jobIBM=qk.execute([testZ],backend=backend,shots=1024)\n",
    "resultExpMulty=jobIBM.result()\n",
    "\n",
    "\n",
    "backend=Aer.get_backend('qasm_simulator')\n",
    "jobIBM=qk.execute([testZ],backend=backend,shots=1024)\n",
    "resultSimMulty=jobIBM.result()\n",
    "\n",
    "from qiskit.tools.visualization import plot_histogram\n",
    "plot_histogram([resultExpMulty.get_counts(testZ),resultSimMulty.get_counts(testZ)])"
   ]
  },
  {
   "cell_type": "markdown",
   "metadata": {},
   "source": [
    "5b)\n",
    "\n",
    "\\begin{equation}\n",
    "A=\\frac{1}{\\sqrt{2}}\\begin{pmatrix}\n",
    "0 & 1\\\\\n",
    "\\pm 1 & 0\\\\\n",
    "\\end{pmatrix}\n",
    "\\end{equation}\n",
    "\n",
    "Диагонализуется эта матрица в базисе, соответствующему $U=\\begin{pmatrix}\n",
    "0 & 1\\\\\n",
    "1 & 0\\\\\n",
    "\\end{pmatrix}=NOT$, V=I и имеет вид $A'=\\begin{pmatrix}\n",
    "1 & 0\\\\\n",
    "0 & \\pm 1 \\\\\n",
    "\\end{pmatrix}$\n",
    "\n",
    "Т.е. после применения $U\\otimes V$ задача становится идентичной задаче 6a.\n",
    "\n"
   ]
  },
  {
   "cell_type": "code",
   "execution_count": 25,
   "metadata": {},
   "outputs": [
    {
     "data": {
      "image/png": "[encoded data removed]",
      "text/plain": [
       "<Figure size 504x360 with 1 Axes>"
      ]
     },
     "execution_count": 25,
     "metadata": {},
     "output_type": "execute_result"
    }
   ],
   "source": [
    "qreg_q = qk.QuantumRegister(2, 'q')\n",
    "creg_c = qk.ClassicalRegister(2, 'c')\n",
    "circuit = qk.QuantumCircuit(qreg_q, creg_c)\n",
    "\n",
    "circuit.ry(m.pi/2, qreg_q[0])\n",
    "#for -state\n",
    "#circuit.ry(-m.pi/2, qreg_q[0])\n",
    "circuit.cx(qreg_q[0], qreg_q[1])\n",
    "circuit.x(qreg_q[0])\n",
    "\n",
    "measureZ=qk.QuantumCircuit(qreg_q,creg_c)\n",
    "measureZ.measure(qreg_q,creg_c)\n",
    "testZ=circuit+measureZ\n",
    "\n",
    "#qc.x(qr[0])\n",
    "\n",
    "backend  = my_provider.get_backend('ibmq_ourense')\n",
    "jobIBM=qk.execute([testZ],backend=backend,shots=1024)\n",
    "resultExpMulty=jobIBM.result()\n",
    "\n",
    "\n",
    "backend=Aer.get_backend('qasm_simulator')\n",
    "jobIBM=qk.execute([testZ],backend=backend,shots=1024)\n",
    "resultSimMulty=jobIBM.result()\n",
    "\n",
    "from qiskit.tools.visualization import plot_histogram\n",
    "plot_histogram([resultExpMulty.get_counts(testZ),resultSimMulty.get_counts(testZ)])"
   ]
  },
  {
   "cell_type": "markdown",
   "metadata": {},
   "source": [
    "5c)\n",
    "\n",
    "\\begin{equation}\n",
    "A=\\frac{1}{\\sqrt{12}}\\begin{pmatrix}\n",
    "3 & 1\\\\\n",
    "1 & -1\\\\\n",
    "\\end{pmatrix}\n",
    "\\end{equation}\n",
    "\n",
    "Здесь придётся действовать в лоб, как в задаче 4a. Однако, всё-таки можно немного упростить решение. Заметим, что если b=c, то система допускает решение x=y, то есть сингулярное разложение выродится в простую диагонализацию, т.е. U=V. Получаем U=V=$R_y(\\theta),~\\theta=atan(\\sqrt{5}-2)$\n",
    "\n",
    "Что касается матрицы B, то первые её элементы можно найти, отыскав собственные значения матрицы A: $b_{11}=\\frac{1+\\sqrt{5}}{\\sqrt{12}}, b_{21}=\\frac{1-\\sqrt{5}}{\\sqrt{12}}$. Введём угол $\\theta_1=-acos(\\frac{1+\\sqrt{5}}{\\sqrt{12}})$, тогда $B=R_y(\\theta_1)$."
   ]
  },
  {
   "cell_type": "code",
   "execution_count": 22,
   "metadata": {},
   "outputs": [
    {
     "data": {
      "image/png": "[encoded data removed]",
      "text/plain": [
       "<Figure size 504x360 with 1 Axes>"
      ]
     },
     "execution_count": 22,
     "metadata": {},
     "output_type": "execute_result"
    }
   ],
   "source": [
    "qreg_q = qk.QuantumRegister(2, 'q')\n",
    "creg_c = qk.ClassicalRegister(2, 'c')\n",
    "circuit = qk.QuantumCircuit(qreg_q, creg_c)\n",
    "\n",
    "circuit.ry(-m.acos((1+m.sqrt(5))/m.sqrt(12))*2, qreg_q[0])\n",
    "circuit.cx(qreg_q[0], qreg_q[1])\n",
    "circuit.ry(m.atan(m.sqrt(5)-2)*2, qreg_q[0])\n",
    "circuit.ry(m.atan(m.sqrt(5)-2)*2, qreg_q[1])\n",
    "\n",
    "measureZ=qk.QuantumCircuit(qreg_q,creg_c)\n",
    "measureZ.measure(qreg_q,creg_c)\n",
    "testZ=circuit+measureZ\n",
    "\n",
    "#qc.x(qr[0])\n",
    "\n",
    "backend  = my_provider.get_backend('ibmq_ourense')\n",
    "jobIBM=qk.execute([testZ],backend=backend,shots=1024)\n",
    "resultExpMulty=jobIBM.result()\n",
    "\n",
    "\n",
    "backend=Aer.get_backend('qasm_simulator')\n",
    "jobIBM=qk.execute([testZ],backend=backend,shots=1024)\n",
    "resultSimMulty=jobIBM.result()\n",
    "\n",
    "from qiskit.tools.visualization import plot_histogram\n",
    "plot_histogram([resultExpMulty.get_counts(testZ),resultSimMulty.get_counts(testZ)])"
   ]
  },
  {
   "cell_type": "markdown",
   "metadata": {},
   "source": [
    "Задание 6:\n",
    "\n",
    "\\begin{equation}\n",
    "|\\Psi \\rangle_n=\\sum_x \\alpha_x |x\\rangle_m |\\Phi_x\\rangle_{n-m}\n",
    "\\end{equation}\n",
    "\n",
    "После измерения первых m кубитов с вероятностью $|\\alpha_x|^2$ получим состояние $|x\\rangle_m |\\Phi_x\\rangle_{n-m}$.\n",
    "\n",
    "\\begin{equation}\n",
    "|\\Phi_x\\rangle_{n-m}=\\sum_y \\beta_y |y\\rangle_k |\\chi_{xy}\\rangle_{n-m-k}\n",
    "\\end{equation}\n",
    "\n",
    "После измерения {m+1,...,m+k} кубитов с вероятностью $|\\beta_y|^2$ получим состояние $|x\\rangle_m |y\\rangle_k |\\chi_{xy}\\rangle_{n-m-k}$. По итогам двух измерений вероятность получить состояние равна $|\\alpha_x|^2|\\beta_y|^2$.\n",
    "\n",
    "b) Пусть теперь измеряется состояние сразу первых m+k кубитов, раскладываем исходное состояние по состояниям $|xy\\rangle$.\n",
    "\n",
    "\\begin{equation}\n",
    "|\\Psi \\rangle_n=\\sum_{xy} \\gamma_{xy} |xy\\rangle_{m+k} |\\chi_{xy}\\rangle_{n-m-k}\n",
    "\\end{equation}\n",
    "\n",
    "После измерения с вероятностью $|\\gamma_{xy}|^2$ получим состояние $|xy\\rangle_{m+k} |\\chi_{xy}\\rangle_{n-m-k}=|x\\rangle_m |y\\rangle_k |\\chi_{xy}\\rangle_{n-m-k}$. Поскольку выражение для условной вероятности имеет вид: $p(xy)=p(y|x)p(x)$, имеем, что $|\\gamma_{xy}|^2=|\\alpha_{x}|^2|\\beta_{y}|^2$, т.е. два измерения m и k кубитов дают такой же результат, что и одно измерение первых m+k кубитов.\n"
   ]
  },
  {
   "cell_type": "code",
   "execution_count": 32,
   "metadata": {
    "collapsed": true
   },
   "outputs": [
    {
     "ename": "AttributeError",
     "evalue": "Attribute get_сounts is not defined",
     "output_type": "error",
     "traceback": [
      "\u001b[1;31m---------------------------------------------------------------------------\u001b[0m",
      "\u001b[1;31mKeyError\u001b[0m                                  Traceback (most recent call last)",
      "\u001b[1;32m~\\AppData\\Roaming\\Python\\Python37\\site-packages\\qiskit\\result\\result.py\u001b[0m in \u001b[0;36m__getattr__\u001b[1;34m(self, name)\u001b[0m\n\u001b[0;32m     87\u001b[0m         \u001b[1;32mtry\u001b[0m\u001b[1;33m:\u001b[0m\u001b[1;33m\u001b[0m\u001b[1;33m\u001b[0m\u001b[0m\n\u001b[1;32m---> 88\u001b[1;33m             \u001b[1;32mreturn\u001b[0m \u001b[0mself\u001b[0m\u001b[1;33m.\u001b[0m\u001b[0m_metadata\u001b[0m\u001b[1;33m[\u001b[0m\u001b[0mname\u001b[0m\u001b[1;33m]\u001b[0m\u001b[1;33m\u001b[0m\u001b[1;33m\u001b[0m\u001b[0m\n\u001b[0m\u001b[0;32m     89\u001b[0m         \u001b[1;32mexcept\u001b[0m \u001b[0mKeyError\u001b[0m\u001b[1;33m:\u001b[0m\u001b[1;33m\u001b[0m\u001b[1;33m\u001b[0m\u001b[0m\n",
      "\u001b[1;31mKeyError\u001b[0m: 'get_сounts'",
      "\nDuring handling of the above exception, another exception occurred:\n",
      "\u001b[1;31mAttributeError\u001b[0m                            Traceback (most recent call last)",
      "\u001b[1;32m<ipython-input-32-17e6a7d2cea7>\u001b[0m in \u001b[0;36m<module>\u001b[1;34m\u001b[0m\n\u001b[1;32m----> 1\u001b[1;33m \u001b[0mresultExpMulty\u001b[0m\u001b[1;33m.\u001b[0m\u001b[0mget_сounts\u001b[0m\u001b[1;33m(\u001b[0m\u001b[0mtestZ\u001b[0m\u001b[1;33m)\u001b[0m\u001b[1;33m\u001b[0m\u001b[1;33m\u001b[0m\u001b[0m\n\u001b[0m",
      "\u001b[1;32m~\\AppData\\Roaming\\Python\\Python37\\site-packages\\qiskit\\result\\result.py\u001b[0m in \u001b[0;36m__getattr__\u001b[1;34m(self, name)\u001b[0m\n\u001b[0;32m     88\u001b[0m             \u001b[1;32mreturn\u001b[0m \u001b[0mself\u001b[0m\u001b[1;33m.\u001b[0m\u001b[0m_metadata\u001b[0m\u001b[1;33m[\u001b[0m\u001b[0mname\u001b[0m\u001b[1;33m]\u001b[0m\u001b[1;33m\u001b[0m\u001b[1;33m\u001b[0m\u001b[0m\n\u001b[0;32m     89\u001b[0m         \u001b[1;32mexcept\u001b[0m \u001b[0mKeyError\u001b[0m\u001b[1;33m:\u001b[0m\u001b[1;33m\u001b[0m\u001b[1;33m\u001b[0m\u001b[0m\n\u001b[1;32m---> 90\u001b[1;33m             \u001b[1;32mraise\u001b[0m \u001b[0mAttributeError\u001b[0m\u001b[1;33m(\u001b[0m\u001b[1;34m'Attribute %s is not defined'\u001b[0m \u001b[1;33m%\u001b[0m \u001b[0mname\u001b[0m\u001b[1;33m)\u001b[0m\u001b[1;33m\u001b[0m\u001b[1;33m\u001b[0m\u001b[0m\n\u001b[0m\u001b[0;32m     91\u001b[0m \u001b[1;33m\u001b[0m\u001b[0m\n\u001b[0;32m     92\u001b[0m     \u001b[1;33m@\u001b[0m\u001b[0mclassmethod\u001b[0m\u001b[1;33m\u001b[0m\u001b[1;33m\u001b[0m\u001b[0m\n",
      "\u001b[1;31mAttributeError\u001b[0m: Attribute get_сounts is not defined"
     ]
    }
   ],
   "source": []
  },
  {
   "cell_type": "code",
   "execution_count": null,
   "metadata": {},
   "outputs": [],
   "source": []
  }
 ],
 "metadata": {
  "kernelspec": {
   "display_name": "Python 3",
   "language": "python",
   "name": "python3"
  },
  "language_info": {
   "codemirror_mode": {
    "name": "ipython",
    "version": 3
   },
   "file_extension": ".py",
   "mimetype": "text/x-python",
   "name": "python",
   "nbconvert_exporter": "python",
   "pygments_lexer": "ipython3",
   "version": "3.7.1"
  }
 },
 "nbformat": 4,
 "nbformat_minor": 2
}
