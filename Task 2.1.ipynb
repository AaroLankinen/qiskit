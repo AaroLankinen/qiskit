{
 "cells": [
  {
   "cell_type": "code",
   "execution_count": 20,
   "metadata": {},
   "outputs": [],
   "source": [
    "import matplotlib.pyplot as plt\n",
    "%matplotlib inline\n",
    "import numpy as np\n",
    "from math import pi\n",
    "\n",
    "from qiskit import QuantumCircuit, ClassicalRegister, QuantumRegister, execute\n",
    "from qiskit.tools.visualization import circuit_drawer\n",
    "from qiskit.quantum_info import state_fidelity\n",
    "from qiskit import BasicAer\n",
    "\n",
    "backend = BasicAer.get_backend('unitary_simulator')"
   ]
  },
  {
   "cell_type": "code",
   "execution_count": 21,
   "metadata": {},
   "outputs": [],
   "source": [
    "q = QuantumRegister(1)\n",
    "c = ClassicalRegister(1)\n",
    "qc = QuantumCircuit(q, c) #this one checks the that the system works on a simulation"
   ]
  },
  {
   "cell_type": "code",
   "execution_count": 22,
   "metadata": {},
   "outputs": [
    {
     "data": {
      "text/plain": [
       "<qiskit.circuit.instructionset.InstructionSet at 0x1578a460>"
      ]
     },
     "execution_count": 22,
     "metadata": {},
     "output_type": "execute_result"
    }
   ],
   "source": [
    "theta = pi/2-pi/3\n",
    "phi = pi/3\n",
    "qc.h(0)\n",
    "qc.u1(-2*theta,0)\n",
    "qc.h(0)\n",
    "qc.u1(phi-pi/2,0) #the setup"
   ]
  },
  {
   "cell_type": "code",
   "execution_count": 23,
   "metadata": {},
   "outputs": [
    {
     "data": {
      "text/html": [
       "<pre style=\"word-wrap: normal;white-space: pre;background: #fff0;line-height: 1.1;font-family: &quot;Courier New&quot;,Courier,monospace\">       ┌───┐┌───────────┐┌───┐┌───────────┐┌─┐\n",
       "q12_0: ┤ H ├┤ U1(-pi/3) ├┤ H ├┤ U1(-pi/6) ├┤M├\n",
       "       └───┘└───────────┘└───┘└───────────┘└╥┘\n",
       " c1: 1/═════════════════════════════════════╩═\n",
       "                                            0 </pre>"
      ],
      "text/plain": [
       "       ┌───┐┌───────────┐┌───┐┌───────────┐┌─┐\n",
       "q12_0: ┤ H ├┤ U1(-pi/3) ├┤ H ├┤ U1(-pi/6) ├┤M├\n",
       "       └───┘└───────────┘└───┘└───────────┘└╥┘\n",
       " c1: 1/═════════════════════════════════════╩═\n",
       "                                            0 "
      ]
     },
     "execution_count": 23,
     "metadata": {},
     "output_type": "execute_result"
    }
   ],
   "source": [
    "qc.measure(q, c)\n",
    "qc.draw()"
   ]
  },
  {
   "cell_type": "code",
   "execution_count": 24,
   "metadata": {},
   "outputs": [],
   "source": [
    "backend = BasicAer.get_backend('qasm_simulator')\n",
    "number_of_shots = 1024\n",
    "job = execute(qc, backend, shots=number_of_shots)\n",
    "\n",
    "result = job.result()\n",
    "counts = result.get_counts(qc)"
   ]
  },
  {
   "cell_type": "code",
   "execution_count": 25,
   "metadata": {},
   "outputs": [],
   "source": [
    "zeros = counts['0']/number_of_shots\n",
    "theta_new = np.arcsin(np.sqrt(zeros)) #theta"
   ]
  },
  {
   "cell_type": "code",
   "execution_count": 26,
   "metadata": {},
   "outputs": [
    {
     "name": "stdout",
     "output_type": "stream",
     "text": [
      "0.3395059268036409\n"
     ]
    }
   ],
   "source": [
    "print(theta_new/np.pi)"
   ]
  },
  {
   "cell_type": "code",
   "execution_count": 27,
   "metadata": {},
   "outputs": [
    {
     "data": {
      "text/plain": [
       "<qiskit.circuit.instructionset.InstructionSet at 0x1578a160>"
      ]
     },
     "execution_count": 27,
     "metadata": {},
     "output_type": "execute_result"
    }
   ],
   "source": [
    "qc.reset(q[0])\n",
    "qc.h(0)\n",
    "qc.u1(-2*theta,0)\n",
    "qc.h(0)\n",
    "qc.u1(phi-pi/2,0)\n"
   ]
  },
  {
   "cell_type": "code",
   "execution_count": 28,
   "metadata": {},
   "outputs": [
    {
     "data": {
      "text/html": [
       "<pre style=\"word-wrap: normal;white-space: pre;background: #fff0;line-height: 1.1;font-family: &quot;Courier New&quot;,Courier,monospace\">       ┌───┐┌───────────┐┌───┐┌───────────┐┌─┐     ┌───┐┌───────────┐┌───┐»\n",
       "q12_0: ┤ H ├┤ U1(-pi/3) ├┤ H ├┤ U1(-pi/6) ├┤M├─|0>─┤ H ├┤ U1(-pi/3) ├┤ H ├»\n",
       "       └───┘└───────────┘└───┘└───────────┘└╥┘     └───┘└───────────┘└───┘»\n",
       " c1: 1/═════════════════════════════════════╩═════════════════════════════»\n",
       "                                            0                             »\n",
       "«       ┌───────────┐┌───┐┌─┐\n",
       "«q12_0: ┤ U1(-pi/6) ├┤ H ├┤M├\n",
       "«       └───────────┘└───┘└╥┘\n",
       "« c1: 1/═══════════════════╩═\n",
       "«                          0 </pre>"
      ],
      "text/plain": [
       "       ┌───┐┌───────────┐┌───┐┌───────────┐┌─┐     ┌───┐┌───────────┐┌───┐»\n",
       "q12_0: ┤ H ├┤ U1(-pi/3) ├┤ H ├┤ U1(-pi/6) ├┤M├─|0>─┤ H ├┤ U1(-pi/3) ├┤ H ├»\n",
       "       └───┘└───────────┘└───┘└───────────┘└╥┘     └───┘└───────────┘└───┘»\n",
       " c1: 1/═════════════════════════════════════╩═════════════════════════════»\n",
       "                                            0                             »\n",
       "«       ┌───────────┐┌───┐┌─┐\n",
       "«q12_0: ┤ U1(-pi/6) ├┤ H ├┤M├\n",
       "«       └───────────┘└───┘└╥┘\n",
       "« c1: 1/═══════════════════╩═\n",
       "«                          0 "
      ]
     },
     "execution_count": 28,
     "metadata": {},
     "output_type": "execute_result"
    }
   ],
   "source": [
    "qc.h(0)\n",
    "qc.measure(q, c)\n",
    "qc.draw()"
   ]
  },
  {
   "cell_type": "code",
   "execution_count": 29,
   "metadata": {},
   "outputs": [],
   "source": [
    "backend = BasicAer.get_backend('qasm_simulator')\n",
    "number_of_shots = 1024\n",
    "job = execute(qc, backend, shots=number_of_shots)\n",
    "\n",
    "result = job.result()\n",
    "counts = result.get_counts(qc)"
   ]
  },
  {
   "cell_type": "code",
   "execution_count": 30,
   "metadata": {},
   "outputs": [
    {
     "name": "stdout",
     "output_type": "stream",
     "text": [
      "0.4487996233153731\n"
     ]
    }
   ],
   "source": [
    "zeros = counts['0']/number_of_shots # the result\n",
    "cosine = (zeros * 2 - 1) / np.sin(2*theta)\n",
    "print (cosine)"
   ]
  },
  {
   "cell_type": "code",
   "execution_count": 31,
   "metadata": {},
   "outputs": [
    {
     "name": "stdout",
     "output_type": "stream",
     "text": [
      "0.35185169401532257\n"
     ]
    }
   ],
   "source": [
    "angle = np.arccos(cosine) \n",
    "print (angle/np.pi) #phi"
   ]
  },
  {
   "cell_type": "code",
   "execution_count": null,
   "metadata": {},
   "outputs": [],
   "source": []
  },
  {
   "cell_type": "code",
   "execution_count": null,
   "metadata": {},
   "outputs": [],
   "source": []
  },
  {
   "cell_type": "code",
   "execution_count": null,
   "metadata": {},
   "outputs": [],
   "source": []
  },
  {
   "cell_type": "code",
   "execution_count": null,
   "metadata": {},
   "outputs": [],
   "source": []
  }
 ],
 "metadata": {
  "kernelspec": {
   "display_name": "Python 3",
   "language": "python",
   "name": "python3"
  },
  "language_info": {
   "codemirror_mode": {
    "name": "ipython",
    "version": 3
   },
   "file_extension": ".py",
   "mimetype": "text/x-python",
   "name": "python",
   "nbconvert_exporter": "python",
   "pygments_lexer": "ipython3",
   "version": "3.8.3"
  }
 },
 "nbformat": 4,
 "nbformat_minor": 4
}
