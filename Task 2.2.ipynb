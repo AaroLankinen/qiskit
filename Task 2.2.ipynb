{
 "cells": [
  {
   "cell_type": "code",
   "execution_count": 1,
   "metadata": {},
   "outputs": [
    {
     "name": "stderr",
     "output_type": "stream",
     "text": [
      "C:\\Users\\Arseny\\anaconda3\\lib\\site-packages\\qiskit\\providers\\ibmq\\ibmqfactory.py:192: UserWarning: Timestamps in IBMQ backend properties, jobs, and job results are all now in local time instead of UTC.\n",
      "  warnings.warn('Timestamps in IBMQ backend properties, jobs, and job results '\n"
     ]
    },
    {
     "data": {
      "text/plain": [
       "[<IBMQSimulator('ibmq_qasm_simulator') from IBMQ(hub='ibm-q', group='open', project='main')>,\n",
       " <IBMQBackend('ibmqx2') from IBMQ(hub='ibm-q', group='open', project='main')>,\n",
       " <IBMQBackend('ibmq_16_melbourne') from IBMQ(hub='ibm-q', group='open', project='main')>,\n",
       " <IBMQBackend('ibmq_vigo') from IBMQ(hub='ibm-q', group='open', project='main')>,\n",
       " <IBMQBackend('ibmq_ourense') from IBMQ(hub='ibm-q', group='open', project='main')>,\n",
       " <IBMQBackend('ibmq_valencia') from IBMQ(hub='ibm-q', group='open', project='main')>,\n",
       " <IBMQBackend('ibmq_london') from IBMQ(hub='ibm-q', group='open', project='main')>,\n",
       " <IBMQBackend('ibmq_burlington') from IBMQ(hub='ibm-q', group='open', project='main')>,\n",
       " <IBMQBackend('ibmq_essex') from IBMQ(hub='ibm-q', group='open', project='main')>,\n",
       " <IBMQBackend('ibmq_armonk') from IBMQ(hub='ibm-q', group='open', project='main')>,\n",
       " <IBMQBackend('ibmq_santiago') from IBMQ(hub='ibm-q', group='open', project='main')>]"
      ]
     },
     "execution_count": 1,
     "metadata": {},
     "output_type": "execute_result"
    }
   ],
   "source": [
    "import matplotlib.pyplot as plt\n",
    "%matplotlib inline\n",
    "import numpy as np\n",
    "from math import pi\n",
    "import time \n",
    "from qiskit import QuantumCircuit, ClassicalRegister, QuantumRegister, execute\n",
    "from qiskit.tools.visualization import circuit_drawer\n",
    "from qiskit.quantum_info import state_fidelity\n",
    "from qiskit import IBMQ,Aer\n",
    "\n",
    "import Qconfig_IBMQ_experience\n",
    "IBMQ.save_account(Qconfig_IBMQ_experience.APItoken, overwrite=True)\n",
    "IBMQ.load_account()\n",
    "my_provider = IBMQ.get_provider()\n",
    "my_provider.backends()\n"
   ]
  },
  {
   "cell_type": "code",
   "execution_count": 2,
   "metadata": {},
   "outputs": [],
   "source": [
    "my_provider = IBMQ.get_provider()\n",
    "backend  = my_provider.get_backend('ibmqx2')\n",
    "#this one compares accuracy for real quantum computers"
   ]
  },
  {
   "cell_type": "code",
   "execution_count": 3,
   "metadata": {},
   "outputs": [],
   "source": [
    "q = QuantumRegister(1)\n",
    "c = ClassicalRegister(1)\n",
    "qc = QuantumCircuit(q, c)\n",
    "qh = QuantumRegister(1)\n",
    "ch = ClassicalRegister(1)\n",
    "qch = QuantumCircuit(qh, ch)#double up for measurement of both theta and phi"
   ]
  },
  {
   "cell_type": "code",
   "execution_count": 4,
   "metadata": {},
   "outputs": [
    {
     "data": {
      "text/html": [
       "<pre style=\"word-wrap: normal;white-space: pre;background: #fff0;line-height: 1.1;font-family: &quot;Courier New&quot;,Courier,monospace\">      ┌───┐┌───────────┐┌───┐┌───────────┐┌─┐\n",
       "q0_0: ┤ H ├┤ U1(-pi/3) ├┤ H ├┤ U1(-pi/6) ├┤M├\n",
       "      └───┘└───────────┘└───┘└───────────┘└╥┘\n",
       "c0: 1/═════════════════════════════════════╩═\n",
       "                                           0 </pre>"
      ],
      "text/plain": [
       "      ┌───┐┌───────────┐┌───┐┌───────────┐┌─┐\n",
       "q0_0: ┤ H ├┤ U1(-pi/3) ├┤ H ├┤ U1(-pi/6) ├┤M├\n",
       "      └───┘└───────────┘└───┘└───────────┘└╥┘\n",
       "c0: 1/═════════════════════════════════════╩═\n",
       "                                           0 "
      ]
     },
     "execution_count": 4,
     "metadata": {},
     "output_type": "execute_result"
    }
   ],
   "source": [
    "theta = pi/2-pi/3\n",
    "phi = pi/3\n",
    "qc.h(0)\n",
    "qc.u1(-2*theta,0)\n",
    "qc.h(0)\n",
    "qc.u1(phi-pi/2,0)\n",
    "qch.h(0)\n",
    "qch.u1(-2*theta,0)\n",
    "qch.h(0)\n",
    "qch.u1(phi-pi/2,0)\n",
    "qch.h(0)\n",
    "qc.measure(q, c)\n",
    "qc.draw()"
   ]
  },
  {
   "cell_type": "code",
   "execution_count": 5,
   "metadata": {},
   "outputs": [
    {
     "name": "stdout",
     "output_type": "stream",
     "text": [
      "0.3248454393902103\n"
     ]
    }
   ],
   "source": [
    "number_of_shots = 1024\n",
    "job = execute(qc, backend, shots=number_of_shots)\n",
    "\n",
    "result = job.result()\n",
    "counts = result.get_counts(qc)\n",
    "zeros = counts['0']/number_of_shots\n",
    "theta_new = np.arcsin(np.sqrt(zeros)) #theta from our method\n",
    "print(theta_new/np.pi) "
   ]
  },
  {
   "cell_type": "code",
   "execution_count": 6,
   "metadata": {},
   "outputs": [
    {
     "data": {
      "text/html": [
       "<pre style=\"word-wrap: normal;white-space: pre;background: #fff0;line-height: 1.1;font-family: &quot;Courier New&quot;,Courier,monospace\">      ┌───┐┌───────────┐┌───┐┌───────────┐┌───┐┌─┐\n",
       "q1_0: ┤ H ├┤ U1(-pi/3) ├┤ H ├┤ U1(-pi/6) ├┤ H ├┤M├\n",
       "      └───┘└───────────┘└───┘└───────────┘└───┘└╥┘\n",
       "c1: 1/══════════════════════════════════════════╩═\n",
       "                                                0 </pre>"
      ],
      "text/plain": [
       "      ┌───┐┌───────────┐┌───┐┌───────────┐┌───┐┌─┐\n",
       "q1_0: ┤ H ├┤ U1(-pi/3) ├┤ H ├┤ U1(-pi/6) ├┤ H ├┤M├\n",
       "      └───┘└───────────┘└───┘└───────────┘└───┘└╥┘\n",
       "c1: 1/══════════════════════════════════════════╩═\n",
       "                                                0 "
      ]
     },
     "execution_count": 6,
     "metadata": {},
     "output_type": "execute_result"
    }
   ],
   "source": [
    "qch.measure(qh, ch)\n",
    "qch.draw()"
   ]
  },
  {
   "cell_type": "code",
   "execution_count": 7,
   "metadata": {},
   "outputs": [
    {
     "name": "stdout",
     "output_type": "stream",
     "text": [
      "0.3305930892136006\n"
     ]
    }
   ],
   "source": [
    "number_of_shots = 1024\n",
    "job = execute(qch, backend, shots=number_of_shots)\n",
    "\n",
    "result = job.result()\n",
    "counts = result.get_counts(qch)\n",
    "zeros = counts['0']/number_of_shots # the result\n",
    "cosine = (zeros * 2 - 1) / np.sin(2*theta)\n",
    "angle = np.arccos(cosine) #phi from our method\n",
    "print (angle/np.pi) "
   ]
  },
  {
   "cell_type": "code",
   "execution_count": 8,
   "metadata": {},
   "outputs": [
    {
     "name": "stdout",
     "output_type": "stream",
     "text": [
      "0.32870533200649266\n"
     ]
    }
   ],
   "source": [
    "q2 = QuantumRegister(1)\n",
    "c2 = ClassicalRegister(1)\n",
    "qc2 = QuantumCircuit(q2, c2)\n",
    "qc2.u3(pi-2*pi/3, pi/3, 0, 0)\n",
    "qc2.measure(q2, c2)\n",
    "q2h = QuantumRegister(1)\n",
    "c2h = ClassicalRegister(1)\n",
    "qc2h = QuantumCircuit(q2h, c2h)\n",
    "qc2h.u3(pi-2*pi/3, pi/3, 0, 0)\n",
    "qc2h.h(0)\n",
    "qc2h.measure(q2h, c2h)#double up for measurement of both theta and phi\n",
    "number_of_shots = 1024\n",
    "job = execute(qc2, backend, shots=number_of_shots)\n",
    "\n",
    "result = job.result()\n",
    "counts = result.get_counts(qc2)\n",
    "zeros = counts['0']/number_of_shots\n",
    "theta_new_u3 = np.arcsin(np.sqrt(zeros))\n",
    "print(theta_new_u3/np.pi) #theta from u3"
   ]
  },
  {
   "cell_type": "code",
   "execution_count": 9,
   "metadata": {},
   "outputs": [
    {
     "name": "stdout",
     "output_type": "stream",
     "text": [
      "0.32557092908970076\n"
     ]
    }
   ],
   "source": [
    "number_of_shots = 1024\n",
    "job = execute(qc2h, backend, shots=number_of_shots)\n",
    "\n",
    "result = job.result()\n",
    "counts = result.get_counts(qc2h)\n",
    "zeros = counts['0']/number_of_shots # the result\n",
    "cosine = (zeros * 2 - 1) / np.sin(2*theta)\n",
    "angle_u3 = np.arccos(cosine) \n",
    "print (angle_u3/np.pi) #phi from u3"
   ]
  },
  {
   "cell_type": "code",
   "execution_count": 10,
   "metadata": {},
   "outputs": [
    {
     "name": "stdout",
     "output_type": "stream",
     "text": [
      "0.02546368182936889   0.01388400398052202\n"
     ]
    }
   ],
   "source": [
    "theta_custom_error = np.abs(theta_new - pi/3)/(pi/3)\n",
    "theta_u3_error = np.abs(theta_new_u3 - pi/3)/(pi/3)\n",
    "print(theta_custom_error,' ',theta_u3_error) #comparision between relative errors for theta"
   ]
  },
  {
   "cell_type": "code",
   "execution_count": 11,
   "metadata": {},
   "outputs": [
    {
     "name": "stdout",
     "output_type": "stream",
     "text": [
      "0.008220732359198098   0.023287212730897587\n"
     ]
    }
   ],
   "source": [
    "phi_custom_error = np.abs(angle - pi/3)/(pi/3)\n",
    "phi_u3_error = np.abs(angle_u3 - pi/3)/(pi/3)\n",
    "print(phi_custom_error,' ',phi_u3_error) #comparision between relative errors for phi"
   ]
  },
  {
   "cell_type": "code",
   "execution_count": null,
   "metadata": {},
   "outputs": [],
   "source": []
  }
 ],
 "metadata": {
  "kernelspec": {
   "display_name": "Python 3",
   "language": "python",
   "name": "python3"
  },
  "language_info": {
   "codemirror_mode": {
    "name": "ipython",
    "version": 3
   },
   "file_extension": ".py",
   "mimetype": "text/x-python",
   "name": "python",
   "nbconvert_exporter": "python",
   "pygments_lexer": "ipython3",
   "version": "3.8.3"
  }
 },
 "nbformat": 4,
 "nbformat_minor": 4
}
