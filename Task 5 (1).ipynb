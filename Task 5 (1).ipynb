{
 "cells": [
  {
   "cell_type": "code",
   "execution_count": 37,
   "metadata": {},
   "outputs": [],
   "source": [
    "import matplotlib.pyplot as plt\n",
    "%matplotlib inline\n",
    "import numpy as np\n",
    "from math import pi\n",
    "\n",
    "from qiskit import QuantumCircuit, ClassicalRegister, QuantumRegister, execute\n",
    "from qiskit.tools.visualization import circuit_drawer\n",
    "from qiskit.quantum_info import state_fidelity\n",
    "from qiskit import BasicAer, Aer\n",
    "\n",
    "backend = BasicAer.get_backend('qasm_simulator')\n",
    "unitary_backend = BasicAer.get_backend('unitary_simulator')\n",
    "number_of_shots = 1024"
   ]
  },
  {
   "cell_type": "code",
   "execution_count": 38,
   "metadata": {},
   "outputs": [],
   "source": [
    "q = QuantumRegister(2)\n",
    "c = ClassicalRegister(2)\n",
    "qc = QuantumCircuit(q, c)\n",
    "#we create the states by taking U and V matrixes from singular decomposition and then making a matrix B\n",
    "#with first column being singular values"
   ]
  },
  {
   "cell_type": "code",
   "execution_count": 39,
   "metadata": {},
   "outputs": [
    {
     "data": {
      "text/plain": [
       "<qiskit.circuit.instructionset.InstructionSet at 0x15bc3790>"
      ]
     },
     "execution_count": 39,
     "metadata": {},
     "output_type": "execute_result"
    }
   ],
   "source": [
    "qc.h(0) \n",
    "qc.cx(0,1)#b\n"
   ]
  },
  {
   "cell_type": "code",
   "execution_count": 40,
   "metadata": {},
   "outputs": [
    {
     "data": {
      "text/plain": [
       "array([[ 0.70710678-1.73191211e-16j, -0.70710678+2.59786817e-16j,\n",
       "         0.        +0.00000000e+00j,  0.        +0.00000000e+00j],\n",
       "       [ 0.        +0.00000000e+00j,  0.        +0.00000000e+00j,\n",
       "         0.70710678-8.65956056e-17j,  0.70710678-1.73191211e-16j],\n",
       "       [ 0.        +0.00000000e+00j,  0.        +0.00000000e+00j,\n",
       "         0.70710678-8.65956056e-17j, -0.70710678+1.73191211e-16j],\n",
       "       [ 0.70710678-6.49363033e-49j,  0.70710678-8.65956056e-17j,\n",
       "         0.        +0.00000000e+00j,  0.        +0.00000000e+00j]])"
      ]
     },
     "execution_count": 40,
     "metadata": {},
     "output_type": "execute_result"
    }
   ],
   "source": [
    "qc.x(0)\n",
    "qc.x(1)\n",
    "\n",
    "job = execute(qc, unitary_backend)\n",
    "job.result().get_unitary(qc, decimals=3) #first column is the resulting state"
   ]
  },
  {
   "cell_type": "code",
   "execution_count": 41,
   "metadata": {},
   "outputs": [
    {
     "data": {
      "text/html": [
       "<pre style=\"word-wrap: normal;white-space: pre;background: #fff0;line-height: 1.1;font-family: &quot;Courier New&quot;,Courier,monospace\">       ┌───┐     ┌───┐┌─┐   \n",
       "q62_0: ┤ H ├──■──┤ X ├┤M├───\n",
       "       └───┘┌─┴─┐├───┤└╥┘┌─┐\n",
       "q62_1: ─────┤ X ├┤ X ├─╫─┤M├\n",
       "            └───┘└───┘ ║ └╥┘\n",
       " c4: 2/════════════════╩══╩═\n",
       "                       0  1 </pre>"
      ],
      "text/plain": [
       "       ┌───┐     ┌───┐┌─┐   \n",
       "q62_0: ┤ H ├──■──┤ X ├┤M├───\n",
       "       └───┘┌─┴─┐├───┤└╥┘┌─┐\n",
       "q62_1: ─────┤ X ├┤ X ├─╫─┤M├\n",
       "            └───┘└───┘ ║ └╥┘\n",
       " c4: 2/════════════════╩══╩═\n",
       "                       0  1 "
      ]
     },
     "execution_count": 41,
     "metadata": {},
     "output_type": "execute_result"
    }
   ],
   "source": [
    "qc.measure(q, c)\n",
    "qc.draw()"
   ]
  },
  {
   "cell_type": "code",
   "execution_count": 42,
   "metadata": {},
   "outputs": [],
   "source": [
    "\n",
    "\n",
    "job = execute(qc, backend, shots=number_of_shots)\n",
    "\n",
    "result = job.result()"
   ]
  },
  {
   "cell_type": "code",
   "execution_count": 43,
   "metadata": {},
   "outputs": [
    {
     "data": {
      "image/png": "[encoded data removed]",
      "text/plain": [
       "<Figure size 504x360 with 1 Axes>"
      ]
     },
     "execution_count": 43,
     "metadata": {},
     "output_type": "execute_result"
    }
   ],
   "source": [
    "from qiskit.tools.visualization import plot_histogram\n",
    "plot_histogram([result.get_counts(qc)]) #00+11"
   ]
  },
  {
   "cell_type": "code",
   "execution_count": 44,
   "metadata": {},
   "outputs": [],
   "source": [
    "q2 = QuantumRegister(2)\n",
    "c2 = ClassicalRegister(2)\n",
    "qc2 = QuantumCircuit(q2, c2)"
   ]
  },
  {
   "cell_type": "code",
   "execution_count": 45,
   "metadata": {},
   "outputs": [
    {
     "data": {
      "text/plain": [
       "<qiskit.circuit.instructionset.InstructionSet at 0x15cddf70>"
      ]
     },
     "execution_count": 45,
     "metadata": {},
     "output_type": "execute_result"
    }
   ],
   "source": [
    "qc2.h(0) \n",
    "qc2.cx(0,1)#b"
   ]
  },
  {
   "cell_type": "code",
   "execution_count": 46,
   "metadata": {},
   "outputs": [
    {
     "data": {
      "text/plain": [
       "array([[-1.29893408e-16-0.70710678j,  2.16489014e-16+0.70710678j,\n",
       "         0.00000000e+00+0.j        ,  0.00000000e+00+0.j        ],\n",
       "       [ 0.00000000e+00+0.j        ,  0.00000000e+00+0.j        ,\n",
       "         1.29893408e-16+0.70710678j,  2.16489014e-16+0.70710678j],\n",
       "       [ 0.00000000e+00+0.j        ,  0.00000000e+00+0.j        ,\n",
       "        -4.32978028e-17-0.70710678j,  1.29893408e-16+0.70710678j],\n",
       "       [ 4.32978028e-17+0.70710678j,  1.29893408e-16+0.70710678j,\n",
       "         0.00000000e+00+0.j        ,  0.00000000e+00+0.j        ]])"
      ]
     },
     "execution_count": 46,
     "metadata": {},
     "output_type": "execute_result"
    }
   ],
   "source": [
    "qc2.y(0)\n",
    "qc2.x(1)\n",
    "job = execute(qc2, unitary_backend)\n",
    "job.result().get_unitary(qc2, decimals=3)#first column is the resulting state"
   ]
  },
  {
   "cell_type": "code",
   "execution_count": 47,
   "metadata": {},
   "outputs": [
    {
     "data": {
      "text/html": [
       "<pre style=\"word-wrap: normal;white-space: pre;background: #fff0;line-height: 1.1;font-family: &quot;Courier New&quot;,Courier,monospace\">       ┌───┐     ┌───┐┌─┐   \n",
       "q70_0: ┤ H ├──■──┤ Y ├┤M├───\n",
       "       └───┘┌─┴─┐├───┤└╥┘┌─┐\n",
       "q70_1: ─────┤ X ├┤ X ├─╫─┤M├\n",
       "            └───┘└───┘ ║ └╥┘\n",
       " c5: 2/════════════════╩══╩═\n",
       "                       0  1 </pre>"
      ],
      "text/plain": [
       "       ┌───┐     ┌───┐┌─┐   \n",
       "q70_0: ┤ H ├──■──┤ Y ├┤M├───\n",
       "       └───┘┌─┴─┐├───┤└╥┘┌─┐\n",
       "q70_1: ─────┤ X ├┤ X ├─╫─┤M├\n",
       "            └───┘└───┘ ║ └╥┘\n",
       " c5: 2/════════════════╩══╩═\n",
       "                       0  1 "
      ]
     },
     "execution_count": 47,
     "metadata": {},
     "output_type": "execute_result"
    }
   ],
   "source": [
    "qc2.measure(q2, c2)\n",
    "qc2.draw()"
   ]
  },
  {
   "cell_type": "code",
   "execution_count": 48,
   "metadata": {},
   "outputs": [
    {
     "data": {
      "image/png": "[encoded data removed]",
      "text/plain": [
       "<Figure size 504x360 with 1 Axes>"
      ]
     },
     "execution_count": 48,
     "metadata": {},
     "output_type": "execute_result"
    }
   ],
   "source": [
    "job = execute(qc2, backend, shots=number_of_shots)\n",
    "\n",
    "result = job.result()\n",
    "plot_histogram([result.get_counts(qc2)])"
   ]
  },
  {
   "cell_type": "code",
   "execution_count": 58,
   "metadata": {},
   "outputs": [
    {
     "data": {
      "text/plain": [
       "<qiskit.circuit.instructionset.InstructionSet at 0x15b69e20>"
      ]
     },
     "execution_count": 58,
     "metadata": {},
     "output_type": "execute_result"
    }
   ],
   "source": [
    "q3 = QuantumRegister(2)\n",
    "c3 = ClassicalRegister(2)\n",
    "qc3 = QuantumCircuit(q3, c3)\n",
    "qc3.h(0) \n",
    "qc3.cx(0,1)#b"
   ]
  },
  {
   "cell_type": "code",
   "execution_count": 59,
   "metadata": {},
   "outputs": [
    {
     "data": {
      "text/plain": [
       "array([[ 0.        +0.00000000e+00j,  0.        +0.00000000e+00j,\n",
       "         0.70710678-8.65956056e-17j,  0.70710678-1.73191211e-16j],\n",
       "       [ 0.70710678-8.65956056e-17j, -0.70710678+1.73191211e-16j,\n",
       "         0.        +0.00000000e+00j,  0.        +0.00000000e+00j],\n",
       "       [ 0.70710678+0.00000000e+00j,  0.70710678-8.65956056e-17j,\n",
       "         0.        +0.00000000e+00j,  0.        +0.00000000e+00j],\n",
       "       [ 0.        +0.00000000e+00j,  0.        +0.00000000e+00j,\n",
       "         0.70710678+0.00000000e+00j, -0.70710678+8.65956056e-17j]])"
      ]
     },
     "execution_count": 59,
     "metadata": {},
     "output_type": "execute_result"
    }
   ],
   "source": [
    "qc3.id(0)\n",
    "qc3.x(1)\n",
    "job = execute(qc3, unitary_backend)\n",
    "job.result().get_unitary(qc3, decimals=3)#first column is the resulting state"
   ]
  },
  {
   "cell_type": "code",
   "execution_count": 60,
   "metadata": {},
   "outputs": [
    {
     "data": {
      "text/html": [
       "<pre style=\"word-wrap: normal;white-space: pre;background: #fff0;line-height: 1.1;font-family: &quot;Courier New&quot;,Courier,monospace\">        ┌───┐     ┌───┐┌─┐   \n",
       "q103_0: ┤ H ├──■──┤ I ├┤M├───\n",
       "        └───┘┌─┴─┐├───┤└╥┘┌─┐\n",
       "q103_1: ─────┤ X ├┤ X ├─╫─┤M├\n",
       "             └───┘└───┘ ║ └╥┘\n",
       "  c7: 2/════════════════╩══╩═\n",
       "                        0  1 </pre>"
      ],
      "text/plain": [
       "        ┌───┐     ┌───┐┌─┐   \n",
       "q103_0: ┤ H ├──■──┤ I ├┤M├───\n",
       "        └───┘┌─┴─┐├───┤└╥┘┌─┐\n",
       "q103_1: ─────┤ X ├┤ X ├─╫─┤M├\n",
       "             └───┘└───┘ ║ └╥┘\n",
       "  c7: 2/════════════════╩══╩═\n",
       "                        0  1 "
      ]
     },
     "execution_count": 60,
     "metadata": {},
     "output_type": "execute_result"
    }
   ],
   "source": [
    "qc3.measure(q3, c3)\n",
    "qc3.draw()"
   ]
  },
  {
   "cell_type": "code",
   "execution_count": 61,
   "metadata": {},
   "outputs": [
    {
     "data": {
      "image/png": "[encoded data removed]",
      "text/plain": [
       "<Figure size 504x360 with 1 Axes>"
      ]
     },
     "execution_count": 61,
     "metadata": {},
     "output_type": "execute_result"
    }
   ],
   "source": [
    "job = execute(qc3, backend, shots=number_of_shots)\n",
    "\n",
    "result = job.result()\n",
    "plot_histogram([result.get_counts(qc3)])"
   ]
  },
  {
   "cell_type": "code",
   "execution_count": 64,
   "metadata": {},
   "outputs": [
    {
     "data": {
      "text/plain": [
       "array([[ 0.        +0.00000000e+00j,  0.        +0.00000000e+00j,\n",
       "         0.70710678-8.65956056e-17j,  0.70710678-1.73191211e-16j],\n",
       "       [-0.70710678+1.73191211e-16j,  0.70710678-2.59786817e-16j,\n",
       "         0.        +0.00000000e+00j,  0.        +0.00000000e+00j],\n",
       "       [ 0.70710678+0.00000000e+00j,  0.70710678-8.65956056e-17j,\n",
       "         0.        +0.00000000e+00j,  0.        +0.00000000e+00j],\n",
       "       [ 0.        +0.00000000e+00j,  0.        +0.00000000e+00j,\n",
       "        -0.70710678+8.65956056e-17j,  0.70710678-1.73191211e-16j]])"
      ]
     },
     "execution_count": 64,
     "metadata": {},
     "output_type": "execute_result"
    }
   ],
   "source": [
    "q4 = QuantumRegister(2)\n",
    "c4 = ClassicalRegister(2)\n",
    "qc4 = QuantumCircuit(q4, c4)\n",
    "qc4.h(0) \n",
    "qc4.cx(0,1)#b\n",
    "qc4.z(0)\n",
    "qc4.x(1)\n",
    "job = execute(qc4, unitary_backend)\n",
    "job.result().get_unitary(qc4, decimals=3)#first column is the resulting state"
   ]
  },
  {
   "cell_type": "code",
   "execution_count": 65,
   "metadata": {},
   "outputs": [
    {
     "data": {
      "text/html": [
       "<pre style=\"word-wrap: normal;white-space: pre;background: #fff0;line-height: 1.1;font-family: &quot;Courier New&quot;,Courier,monospace\">        ┌───┐     ┌───┐┌─┐   \n",
       "q124_0: ┤ H ├──■──┤ Z ├┤M├───\n",
       "        └───┘┌─┴─┐├───┤└╥┘┌─┐\n",
       "q124_1: ─────┤ X ├┤ X ├─╫─┤M├\n",
       "             └───┘└───┘ ║ └╥┘\n",
       " c10: 2/════════════════╩══╩═\n",
       "                        0  1 </pre>"
      ],
      "text/plain": [
       "        ┌───┐     ┌───┐┌─┐   \n",
       "q124_0: ┤ H ├──■──┤ Z ├┤M├───\n",
       "        └───┘┌─┴─┐├───┤└╥┘┌─┐\n",
       "q124_1: ─────┤ X ├┤ X ├─╫─┤M├\n",
       "             └───┘└───┘ ║ └╥┘\n",
       " c10: 2/════════════════╩══╩═\n",
       "                        0  1 "
      ]
     },
     "execution_count": 65,
     "metadata": {},
     "output_type": "execute_result"
    }
   ],
   "source": [
    "\n",
    "qc4.measure(q4, c4)\n",
    "qc4.draw()"
   ]
  },
  {
   "cell_type": "code",
   "execution_count": 66,
   "metadata": {},
   "outputs": [
    {
     "data": {
      "image/png": "[encoded data removed]",
      "text/plain": [
       "<Figure size 504x360 with 1 Axes>"
      ]
     },
     "execution_count": 66,
     "metadata": {},
     "output_type": "execute_result"
    }
   ],
   "source": [
    "job = execute(qc, backend, shots=number_of_shots)\n",
    "\n",
    "result = job.result()\n",
    "plot_histogram([result.get_counts(qc4)])"
   ]
  },
  {
   "cell_type": "code",
   "execution_count": 70,
   "metadata": {},
   "outputs": [
    {
     "data": {
      "text/plain": [
       "<qiskit.circuit.instructionset.InstructionSet at 0x160915b0>"
      ]
     },
     "execution_count": 70,
     "metadata": {},
     "output_type": "execute_result"
    }
   ],
   "source": [
    "q5 = QuantumRegister(2)\n",
    "c5 = ClassicalRegister(2)\n",
    "qc5 = QuantumCircuit(q5, c5)\n",
    "qc5.u3(2*np.arccos(np.sqrt((3+np.sqrt(5))/6)),0,0,0) \n",
    "qc5.cx(0,1)#b"
   ]
  },
  {
   "cell_type": "code",
   "execution_count": 73,
   "metadata": {},
   "outputs": [
    {
     "data": {
      "text/plain": [
       "array([[ 0.8660254 +2.30666574e-18j, -0.38729833+6.03892931e-18j,\n",
       "        -0.12909944-9.77119288e-18j,  0.28867513-2.55813151e-17j],\n",
       "       [ 0.28867513-9.77119288e-18j,  0.12909944-2.55813151e-17j,\n",
       "        -0.38729833+4.13914373e-17j, -0.8660254 +1.08364190e-16j],\n",
       "       [ 0.28867513-9.77119288e-18j,  0.12909944-2.55813151e-17j,\n",
       "         0.90369611-2.30666574e-18j, -0.28867513-6.03892931e-18j],\n",
       "       [-0.28867513+4.13914373e-17j, -0.90369611+1.08364190e-16j,\n",
       "         0.12909944+9.77119288e-18j, -0.28867513+2.55813151e-17j]])"
      ]
     },
     "execution_count": 73,
     "metadata": {},
     "output_type": "execute_result"
    }
   ],
   "source": [
    "qc5.u3(2*np.arccos(np.sqrt(1/2.0+1/np.sqrt(5))),0,pi,0)\n",
    "qc5.u3(2*np.arccos(np.sqrt(1/2.0+1/np.sqrt(5))),0,0 ,1)\n",
    "job = execute(qc5, unitary_backend)\n",
    "job.result().get_unitary(qc5, decimals=3) #first column is the resulting state"
   ]
  },
  {
   "cell_type": "code",
   "execution_count": 74,
   "metadata": {},
   "outputs": [
    {
     "data": {
      "text/html": [
       "<pre style=\"word-wrap: normal;white-space: pre;background: #fff0;line-height: 1.1;font-family: &quot;Courier New&quot;,Courier,monospace\">        ┌─────────────────┐     ┌──────────────────┐┌─┐   \n",
       "q139_0: ┤ U3(0.72973,0,0) ├──■──┤ U3(0.46365,0,pi) ├┤M├───\n",
       "        └─────────────────┘┌─┴─┐├─────────────────┬┘└╥┘┌─┐\n",
       "q139_1: ───────────────────┤ X ├┤ U3(0.46365,0,0) ├──╫─┤M├\n",
       "                           └───┘└─────────────────┘  ║ └╥┘\n",
       " c14: 2/═════════════════════════════════════════════╩══╩═\n",
       "                                                     0  1 </pre>"
      ],
      "text/plain": [
       "        ┌─────────────────┐     ┌──────────────────┐┌─┐   \n",
       "q139_0: ┤ U3(0.72973,0,0) ├──■──┤ U3(0.46365,0,pi) ├┤M├───\n",
       "        └─────────────────┘┌─┴─┐├─────────────────┬┘└╥┘┌─┐\n",
       "q139_1: ───────────────────┤ X ├┤ U3(0.46365,0,0) ├──╫─┤M├\n",
       "                           └───┘└─────────────────┘  ║ └╥┘\n",
       " c14: 2/═════════════════════════════════════════════╩══╩═\n",
       "                                                     0  1 "
      ]
     },
     "execution_count": 74,
     "metadata": {},
     "output_type": "execute_result"
    }
   ],
   "source": [
    "qc5.measure(q5, c5)\n",
    "qc5.draw()"
   ]
  },
  {
   "cell_type": "code",
   "execution_count": 77,
   "metadata": {},
   "outputs": [
    {
     "data": {
      "image/png": "[encoded data removed]",
      "text/plain": [
       "<Figure size 504x360 with 1 Axes>"
      ]
     },
     "execution_count": 77,
     "metadata": {},
     "output_type": "execute_result"
    }
   ],
   "source": [
    "job = execute(qc5, backend, shots=number_of_shots)\n",
    "\n",
    "result = job.result()\n",
    "plot_histogram([result.get_counts(qc5)])"
   ]
  },
  {
   "cell_type": "code",
   "execution_count": null,
   "metadata": {},
   "outputs": [],
   "source": []
  }
 ],
 "metadata": {
  "kernelspec": {
   "display_name": "Python 3",
   "language": "python",
   "name": "python3"
  },
  "language_info": {
   "codemirror_mode": {
    "name": "ipython",
    "version": 3
   },
   "file_extension": ".py",
   "mimetype": "text/x-python",
   "name": "python",
   "nbconvert_exporter": "python",
   "pygments_lexer": "ipython3",
   "version": "3.8.3"
  }
 },
 "nbformat": 4,
 "nbformat_minor": 4
}
