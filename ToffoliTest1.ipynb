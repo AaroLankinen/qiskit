{
 "cells": [
  {
   "cell_type": "markdown",
   "metadata": {},
   "source": [
    "## Testing CCNOT (Toffoli) gate using IBMQ"
   ]
  },
  {
   "cell_type": "markdown",
   "metadata": {},
   "source": [
    "#### Load libraries"
   ]
  },
  {
   "cell_type": "code",
   "execution_count": 1,
   "metadata": {},
   "outputs": [
    {
     "name": "stdout",
     "output_type": "stream",
     "text": [
      "Collecting qiskit\n",
      "  Downloading https://files.pythonhosted.org/packages/98/dd/adde118b934bcf9affc21509641cc0bbc7bb53846ac34982e3db2f4de1ba/qiskit-0.14.1.tar.gz\n",
      "Collecting qiskit-terra==0.11.1 (from qiskit)\n",
      "\u001b[?25l  Downloading https://files.pythonhosted.org/packages/01/05/547cc9d88c833504a3f6bd0b20d3fed9c582c569b4dc24b96d3a3487f0b3/qiskit_terra-0.11.1-cp36-cp36m-manylinux1_x86_64.whl (2.7MB)\n",
      "\u001b[K     |████████████████████████████████| 2.7MB 9.0MB/s eta 0:00:01\n",
      "\u001b[?25hCollecting qiskit-aer==0.3.4 (from qiskit)\n",
      "\u001b[?25l  Downloading https://files.pythonhosted.org/packages/bf/31/b7064395c744e759a1c20ca81e806752f9859bb604fef254a599d66a521d/qiskit_aer-0.3.4-cp36-cp36m-manylinux2010_x86_64.whl (18.2MB)\n",
      "\u001b[K     |████████████████████████████████| 18.2MB 11.5MB/s eta 0:00:01\n",
      "\u001b[?25hCollecting qiskit-ibmq-provider==0.4.5 (from qiskit)\n",
      "\u001b[?25l  Downloading https://files.pythonhosted.org/packages/6b/40/7de3f293563f98f760dab79169bf83612fe80b2c351ff4a6481da142cc02/qiskit_ibmq_provider-0.4.5-py3-none-any.whl (91kB)\n",
      "\u001b[K     |████████████████████████████████| 92kB 25.1MB/s eta 0:00:01\n",
      "\u001b[?25hCollecting qiskit-ignis==0.2.0 (from qiskit)\n",
      "\u001b[?25l  Downloading https://files.pythonhosted.org/packages/78/f2/f4f89c65d2c13f473092f7e800519836611ddeeaab8d4591a70555b26a37/qiskit_ignis-0.2.0-py3-none-any.whl (100kB)\n",
      "\u001b[K     |████████████████████████████████| 102kB 21.6MB/s ta 0:00:01\n",
      "\u001b[?25hCollecting qiskit-aqua==0.6.2 (from qiskit)\n",
      "\u001b[?25l  Downloading https://files.pythonhosted.org/packages/c8/53/8b846cf538d7ed58665662c165a8666735d5f7a603223ca27e7696b1fd3a/qiskit_aqua-0.6.2-py3-none-any.whl (1.4MB)\n",
      "\u001b[K     |████████████████████████████████| 1.4MB 41.7MB/s eta 0:00:01\n",
      "\u001b[?25hRequirement already satisfied: scipy>=1.0 in /home/jupyterlab/conda/envs/python/lib/python3.6/site-packages (from qiskit-terra==0.11.1->qiskit) (1.2.1)\n",
      "Collecting marshmallow<4,>=3 (from qiskit-terra==0.11.1->qiskit)\n",
      "\u001b[?25l  Downloading https://files.pythonhosted.org/packages/6e/76/01224f14737627166b94eb3bf0e334372c014edca781e39db320ce977755/marshmallow-3.3.0-py2.py3-none-any.whl (45kB)\n",
      "\u001b[K     |████████████████████████████████| 51kB 20.0MB/s eta 0:00:01\n",
      "\u001b[?25hRequirement already satisfied: jsonschema>=2.6 in /home/jupyterlab/conda/envs/python/lib/python3.6/site-packages (from qiskit-terra==0.11.1->qiskit) (3.1.1)\n",
      "Collecting ply>=3.10 (from qiskit-terra==0.11.1->qiskit)\n",
      "\u001b[?25l  Downloading https://files.pythonhosted.org/packages/a3/58/35da89ee790598a0700ea49b2a66594140f44dec458c07e8e3d4979137fc/ply-3.11-py2.py3-none-any.whl (49kB)\n",
      "\u001b[K     |████████████████████████████████| 51kB 20.1MB/s eta 0:00:01\n",
      "\u001b[?25hCollecting psutil>=5 (from qiskit-terra==0.11.1->qiskit)\n",
      "\u001b[?25l  Downloading https://files.pythonhosted.org/packages/73/93/4f8213fbe66fc20cb904f35e6e04e20b47b85bee39845cc66a0bcf5ccdcb/psutil-5.6.7.tar.gz (448kB)\n",
      "\u001b[K     |████████████████████████████████| 450kB 41.1MB/s eta 0:00:01\n",
      "\u001b[?25hCollecting sympy>=1.3 (from qiskit-terra==0.11.1->qiskit)\n",
      "\u001b[?25l  Downloading https://files.pythonhosted.org/packages/ce/5b/acc12e3c0d0be685601fc2b2d20ed18dc0bf461380e763afc9d0a548deb0/sympy-1.5.1-py2.py3-none-any.whl (5.6MB)\n",
      "\u001b[K     |████████████████████████████████| 5.6MB 18.5MB/s eta 0:00:01\n",
      "\u001b[?25hCollecting marshmallow-polyfield<6,>=5.7 (from qiskit-terra==0.11.1->qiskit)\n",
      "  Downloading https://files.pythonhosted.org/packages/d7/6c/416e7e529d03362bb57bb4be16a0bb1ada6325b12adf3e31fec4c10ef1b1/marshmallow-polyfield-5.7.tar.gz\n",
      "Collecting networkx>=2.2; python_version > \"3.5\" (from qiskit-terra==0.11.1->qiskit)\n",
      "\u001b[?25l  Downloading https://files.pythonhosted.org/packages/41/8f/dd6a8e85946def36e4f2c69c84219af0fa5e832b018c970e92f2ad337e45/networkx-2.4-py3-none-any.whl (1.6MB)\n",
      "\u001b[K     |████████████████████████████████| 1.6MB 39.3MB/s eta 0:00:01\n",
      "\u001b[?25hRequirement already satisfied: numpy>=1.13 in /home/jupyterlab/conda/envs/python/lib/python3.6/site-packages (from qiskit-terra==0.11.1->qiskit) (1.16.2)\n",
      "Collecting dill>=0.3 (from qiskit-terra==0.11.1->qiskit)\n",
      "\u001b[?25l  Downloading https://files.pythonhosted.org/packages/c7/11/345f3173809cea7f1a193bfbf02403fff250a3360e0e118a1630985e547d/dill-0.3.1.1.tar.gz (151kB)\n",
      "\u001b[K     |████████████████████████████████| 153kB 45.3MB/s eta 0:00:01\n",
      "\u001b[?25hCollecting nest-asyncio!=1.1.0,>=1.0.0 (from qiskit-ibmq-provider==0.4.5->qiskit)\n",
      "  Downloading https://files.pythonhosted.org/packages/88/51/1543cc12c3270874411b248e3e23f18ec8af5b2f2d82b6241c5ea17c2648/nest_asyncio-1.2.2-py3-none-any.whl\n",
      "Requirement already satisfied: requests>=2.19 in /home/jupyterlab/conda/envs/python/lib/python3.6/site-packages (from qiskit-ibmq-provider==0.4.5->qiskit) (2.22.0)\n",
      "Collecting websockets<8,>=7 (from qiskit-ibmq-provider==0.4.5->qiskit)\n",
      "\u001b[?25l  Downloading https://files.pythonhosted.org/packages/43/71/8bfa882b9c502c36e5c9ef6732969533670d2b039cbf95a82ced8f762b80/websockets-7.0-cp36-cp36m-manylinux1_x86_64.whl (63kB)\n",
      "\u001b[K     |████████████████████████████████| 71kB 26.4MB/s eta 0:00:01\n",
      "\u001b[?25hCollecting requests-ntlm>=1.1.0 (from qiskit-ibmq-provider==0.4.5->qiskit)\n",
      "  Downloading https://files.pythonhosted.org/packages/03/4b/8b9a1afde8072c4d5710d9fa91433d504325821b038e00237dc8d6d833dc/requests_ntlm-1.1.0-py2.py3-none-any.whl\n",
      "Requirement already satisfied: setuptools>=40.1.0 in /home/jupyterlab/conda/envs/python/lib/python3.6/site-packages (from qiskit-ignis==0.2.0->qiskit) (41.6.0.post20191101)\n",
      "Requirement already satisfied: scikit-learn>=0.20.0 in /home/jupyterlab/conda/envs/python/lib/python3.6/site-packages (from qiskit-aqua==0.6.2->qiskit) (0.20.1)\n",
      "Collecting docplex (from qiskit-aqua==0.6.2->qiskit)\n",
      "\u001b[?25l  Downloading https://files.pythonhosted.org/packages/1c/06/de7833f2e70d51286611a2676f130f0978d2c16f65047cb965d0af579d08/docplex-2.12.182.tar.gz (565kB)\n",
      "\u001b[K     |████████████████████████████████| 573kB 43.6MB/s eta 0:00:01\n",
      "\u001b[?25hRequirement already satisfied: h5py in /home/jupyterlab/conda/envs/python/lib/python3.6/site-packages (from qiskit-aqua==0.6.2->qiskit) (2.8.0)\n",
      "Collecting pyscf; sys_platform != \"win32\" (from qiskit-aqua==0.6.2->qiskit)\n",
      "\u001b[?25l  Downloading https://files.pythonhosted.org/packages/22/37/c9ed47f2b3f92a4f6955ab5454bf364cee6c05edb40e35b31b21b56d39f4/pyscf-1.7.0-cp36-cp36m-manylinux1_x86_64.whl (24.3MB)\n",
      "\u001b[K     |████████████████████████████████| 24.3MB 13.6MB/s eta 0:00:01K     |█████████████▏                  | 10.0MB 13.6MB/s eta 0:00:02�█████▍               | 12.4MB 13.6MB/s eta 0:00:01     |██████████████████████▋         | 17.2MB 13.6MB/s eta 0:00:01\n",
      "\u001b[?25hCollecting fastdtw (from qiskit-aqua==0.6.2->qiskit)\n",
      "\u001b[?25l  Downloading https://files.pythonhosted.org/packages/99/43/30f2d8db076f216b15c10db663b46e22d1750b1ebacd7af6e62b83d6ab98/fastdtw-0.3.4.tar.gz (133kB)\n",
      "\u001b[K     |████████████████████████████████| 143kB 43.4MB/s eta 0:00:01\n",
      "\u001b[?25hCollecting quandl (from qiskit-aqua==0.6.2->qiskit)\n",
      "  Downloading https://files.pythonhosted.org/packages/07/ab/8cd479fba8a9b197a43a0d55dd534b066fb8e5a0a04b5c0384cbc5d663aa/Quandl-3.5.0-py2.py3-none-any.whl\n",
      "Collecting cvxopt (from qiskit-aqua==0.6.2->qiskit)\n",
      "\u001b[?25l  Downloading https://files.pythonhosted.org/packages/9b/99/e95f164a0c94725921b784814a239479035db8459162bf1335ce764d64ed/cvxopt-1.2.4-cp36-cp36m-manylinux1_x86_64.whl (11.6MB)\n",
      "\u001b[K     |████████████████████████████████| 11.6MB 20.3MB/s eta 0:00:01\n",
      "\u001b[?25hCollecting dlx (from qiskit-aqua==0.6.2->qiskit)\n",
      "  Downloading https://files.pythonhosted.org/packages/54/c0/b8fb5bb727e983b6f5251433ef941b48f38c65bb0bd6ec509e9185bcd406/dlx-1.0.4.tar.gz\n",
      "Requirement already satisfied: attrs>=17.4.0 in /home/jupyterlab/conda/envs/python/lib/python3.6/site-packages (from jsonschema>=2.6->qiskit-terra==0.11.1->qiskit) (19.3.0)\n",
      "Requirement already satisfied: pyrsistent>=0.14.0 in /home/jupyterlab/conda/envs/python/lib/python3.6/site-packages (from jsonschema>=2.6->qiskit-terra==0.11.1->qiskit) (0.15.5)\n",
      "Requirement already satisfied: importlib-metadata in /home/jupyterlab/conda/envs/python/lib/python3.6/site-packages (from jsonschema>=2.6->qiskit-terra==0.11.1->qiskit) (0.23)\n",
      "Requirement already satisfied: six>=1.11.0 in /home/jupyterlab/conda/envs/python/lib/python3.6/site-packages (from jsonschema>=2.6->qiskit-terra==0.11.1->qiskit) (1.13.0)\n",
      "Collecting mpmath>=0.19 (from sympy>=1.3->qiskit-terra==0.11.1->qiskit)\n",
      "\u001b[?25l  Downloading https://files.pythonhosted.org/packages/ca/63/3384ebb3b51af9610086b23ea976e6d27d6d97bf140a76a365bd77a3eb32/mpmath-1.1.0.tar.gz (512kB)\n",
      "\u001b[K     |████████████████████████████████| 522kB 42.6MB/s eta 0:00:01\n",
      "\u001b[?25hRequirement already satisfied: decorator>=4.3.0 in /home/jupyterlab/conda/envs/python/lib/python3.6/site-packages (from networkx>=2.2; python_version > \"3.5\"->qiskit-terra==0.11.1->qiskit) (4.4.1)\n",
      "Requirement already satisfied: urllib3!=1.25.0,!=1.25.1,<1.26,>=1.21.1 in /home/jupyterlab/conda/envs/python/lib/python3.6/site-packages (from requests>=2.19->qiskit-ibmq-provider==0.4.5->qiskit) (1.25.7)\n",
      "Requirement already satisfied: chardet<3.1.0,>=3.0.2 in /home/jupyterlab/conda/envs/python/lib/python3.6/site-packages (from requests>=2.19->qiskit-ibmq-provider==0.4.5->qiskit) (3.0.4)\n",
      "Requirement already satisfied: idna<2.9,>=2.5 in /home/jupyterlab/conda/envs/python/lib/python3.6/site-packages (from requests>=2.19->qiskit-ibmq-provider==0.4.5->qiskit) (2.8)\n",
      "Requirement already satisfied: certifi>=2017.4.17 in /home/jupyterlab/conda/envs/python/lib/python3.6/site-packages (from requests>=2.19->qiskit-ibmq-provider==0.4.5->qiskit) (2019.9.11)\n",
      "Collecting ntlm-auth>=1.0.2 (from requests-ntlm>=1.1.0->qiskit-ibmq-provider==0.4.5->qiskit)\n",
      "  Downloading https://files.pythonhosted.org/packages/50/09/5e397eb18685b14fd8b209e26cdb4fa6451c82c1bcc651fef05fa73e7b27/ntlm_auth-1.4.0-py2.py3-none-any.whl\n",
      "Requirement already satisfied: cryptography>=1.3 in /home/jupyterlab/conda/envs/python/lib/python3.6/site-packages (from requests-ntlm>=1.1.0->qiskit-ibmq-provider==0.4.5->qiskit) (2.8)\n",
      "Collecting docloud>=1.0.375 (from docplex->qiskit-aqua==0.6.2->qiskit)\n",
      "  Downloading https://files.pythonhosted.org/packages/89/1c/fcb7ea86ae5cb7137a22f00bcaa785de2d102bd4a2b16383ec4a877a835b/docloud-1.0.375.tar.gz\n",
      "Requirement already satisfied: pandas>=0.14 in /home/jupyterlab/conda/envs/python/lib/python3.6/site-packages (from quandl->qiskit-aqua==0.6.2->qiskit) (0.25.3)\n",
      "Requirement already satisfied: more-itertools in /home/jupyterlab/conda/envs/python/lib/python3.6/site-packages (from quandl->qiskit-aqua==0.6.2->qiskit) (7.2.0)\n",
      "Requirement already satisfied: python-dateutil in /home/jupyterlab/conda/envs/python/lib/python3.6/site-packages (from quandl->qiskit-aqua==0.6.2->qiskit) (2.8.1)\n",
      "Collecting inflection>=0.3.1 (from quandl->qiskit-aqua==0.6.2->qiskit)\n",
      "  Downloading https://files.pythonhosted.org/packages/d5/35/a6eb45b4e2356fe688b21570864d4aa0d0a880ce387defe9c589112077f8/inflection-0.3.1.tar.gz\n",
      "Requirement already satisfied: zipp>=0.5 in /home/jupyterlab/conda/envs/python/lib/python3.6/site-packages (from importlib-metadata->jsonschema>=2.6->qiskit-terra==0.11.1->qiskit) (0.6.0)\n",
      "Requirement already satisfied: cffi!=1.11.3,>=1.8 in /home/jupyterlab/conda/envs/python/lib/python3.6/site-packages (from cryptography>=1.3->requests-ntlm>=1.1.0->qiskit-ibmq-provider==0.4.5->qiskit) (1.13.2)\n",
      "Requirement already satisfied: pytz>=2017.2 in /home/jupyterlab/conda/envs/python/lib/python3.6/site-packages (from pandas>=0.14->quandl->qiskit-aqua==0.6.2->qiskit) (2019.3)\n",
      "Requirement already satisfied: pycparser in /home/jupyterlab/conda/envs/python/lib/python3.6/site-packages (from cffi!=1.11.3,>=1.8->cryptography>=1.3->requests-ntlm>=1.1.0->qiskit-ibmq-provider==0.4.5->qiskit) (2.19)\n",
      "Building wheels for collected packages: qiskit, psutil, marshmallow-polyfield, dill, docplex, fastdtw, dlx, mpmath, docloud, inflection\n",
      "  Building wheel for qiskit (setup.py) ... \u001b[?25ldone\n",
      "\u001b[?25h  Stored in directory: /home/jupyterlab/.cache/pip/wheels/e0/24/da/606a51151901c45c9a39dbd38b51c2155bf9e6b8a4bee31309\n",
      "  Building wheel for psutil (setup.py) ... \u001b[?25ldone\n",
      "\u001b[?25h  Stored in directory: /home/jupyterlab/.cache/pip/wheels/52/41/b0/bf50409fe2b1d3b79afa3eed71b54b3e30fe5b695db2c7ba2e\n",
      "  Building wheel for marshmallow-polyfield (setup.py) ... \u001b[?25ldone\n",
      "\u001b[?25h  Stored in directory: /home/jupyterlab/.cache/pip/wheels/68/f5/09/1dcfa8613b095bb326caadfb4b111d7fc945875948b75f5c14\n",
      "  Building wheel for dill (setup.py) ... \u001b[?25ldone\n",
      "\u001b[?25h  Stored in directory: /home/jupyterlab/.cache/pip/wheels/59/b1/91/f02e76c732915c4015ab4010f3015469866c1eb9b14058d8e7\n",
      "  Building wheel for docplex (setup.py) ... \u001b[?25ldone\n",
      "\u001b[?25h  Stored in directory: /home/jupyterlab/.cache/pip/wheels/9b/ef/71/204f676be3eae44c121c5b779077bd06f573d86cc6524aecc8\n",
      "  Building wheel for fastdtw (setup.py) ... \u001b[?25ldone\n",
      "\u001b[?25h  Stored in directory: /home/jupyterlab/.cache/pip/wheels/7e/95/df/935f19af51d6ab63d416c103c0d6eae7048a8c2ecb00a1497f\n",
      "  Building wheel for dlx (setup.py) ... \u001b[?25ldone\n",
      "\u001b[?25h  Stored in directory: /home/jupyterlab/.cache/pip/wheels/bb/ba/15/fdd0deb104df3254912998150ba9245668db06b00af5912d1a\n",
      "  Building wheel for mpmath (setup.py) ... \u001b[?25ldone\n",
      "\u001b[?25h  Stored in directory: /home/jupyterlab/.cache/pip/wheels/63/9d/8e/37c3f6506ed3f152733a699e92d8e0c9f5e5f01dea262f80ad\n",
      "  Building wheel for docloud (setup.py) ... \u001b[?25ldone\n",
      "\u001b[?25h  Stored in directory: /home/jupyterlab/.cache/pip/wheels/4e/24/19/9b0e57545d7543ecec35c5faff78c058bf0c2506369c8b1d31\n",
      "  Building wheel for inflection (setup.py) ... \u001b[?25ldone\n",
      "\u001b[?25h  Stored in directory: /home/jupyterlab/.cache/pip/wheels/9f/5a/d3/6fc3bf6516d2a3eb7e18f9f28b472110b59325f3f258fe9211\n",
      "Successfully built qiskit psutil marshmallow-polyfield dill docplex fastdtw dlx mpmath docloud inflection\n",
      "Installing collected packages: marshmallow, ply, psutil, mpmath, sympy, marshmallow-polyfield, networkx, dill, qiskit-terra, qiskit-aer, nest-asyncio, websockets, ntlm-auth, requests-ntlm, qiskit-ibmq-provider, qiskit-ignis, docloud, docplex, pyscf, fastdtw, inflection, quandl, cvxopt, dlx, qiskit-aqua, qiskit\n",
      "Successfully installed cvxopt-1.2.4 dill-0.3.1.1 dlx-1.0.4 docloud-1.0.375 docplex-2.12.182 fastdtw-0.3.4 inflection-0.3.1 marshmallow-3.3.0 marshmallow-polyfield-5.7 mpmath-1.1.0 nest-asyncio-1.2.2 networkx-2.4 ntlm-auth-1.4.0 ply-3.11 psutil-5.6.7 pyscf-1.7.0 qiskit-0.14.1 qiskit-aer-0.3.4 qiskit-aqua-0.6.2 qiskit-ibmq-provider-0.4.5 qiskit-ignis-0.2.0 qiskit-terra-0.11.1 quandl-3.5.0 requests-ntlm-1.1.0 sympy-1.5.1 websockets-7.0\n"
     ]
    }
   ],
   "source": [
    "!pip install qiskit\n",
    "import qiskit as qk\n",
    "from qiskit import IBMQ,Aer"
   ]
  },
  {
   "cell_type": "markdown",
   "metadata": {},
   "source": [
    "#### Qconfig_IBMQ_experience.py is file where you put the credentials in the form: \n",
    "#### APItoken = '' \n",
    "#### To get the token register at https://quantum-computing.ibm.com/account "
   ]
  },
  {
   "cell_type": "code",
   "execution_count": 2,
   "metadata": {},
   "outputs": [
    {
     "data": {
      "text/plain": [
       "<AccountProvider for IBMQ(hub='ibm-q', group='open', project='main')>"
      ]
     },
     "execution_count": 2,
     "metadata": {},
     "output_type": "execute_result"
    }
   ],
   "source": [
    "import Qconfig_IBMQ_experience\n",
    "IBMQ.save_account(Qconfig_IBMQ_experience.APItoken, overwrite=True)\n",
    "IBMQ.load_account()"
   ]
  },
  {
   "cell_type": "markdown",
   "metadata": {},
   "source": [
    "####   Alternatively you can insert token directly:             "
   ]
  },
  {
   "cell_type": "code",
   "execution_count": 4,
   "metadata": {},
   "outputs": [
    {
     "data": {
      "text/plain": [
       "<AccountProvider for IBMQ(hub='ibm-q', group='open', project='main')>"
      ]
     },
     "execution_count": 4,
     "metadata": {},
     "output_type": "execute_result"
    }
   ],
   "source": [
    "#IBMQ.enable_account(\"your token here\")"
   ]
  },
  {
   "cell_type": "markdown",
   "metadata": {},
   "source": [
    "#### See which backends are available"
   ]
  },
  {
   "cell_type": "code",
   "execution_count": 3,
   "metadata": {},
   "outputs": [
    {
     "data": {
      "text/plain": [
       "[<IBMQSimulator('ibmq_qasm_simulator') from IBMQ(hub='ibm-q', group='open', project='main')>,\n",
       " <IBMQBackend('ibmqx2') from IBMQ(hub='ibm-q', group='open', project='main')>,\n",
       " <IBMQBackend('ibmq_16_melbourne') from IBMQ(hub='ibm-q', group='open', project='main')>,\n",
       " <IBMQBackend('ibmq_vigo') from IBMQ(hub='ibm-q', group='open', project='main')>,\n",
       " <IBMQBackend('ibmq_ourense') from IBMQ(hub='ibm-q', group='open', project='main')>,\n",
       " <IBMQBackend('ibmq_london') from IBMQ(hub='ibm-q', group='open', project='main')>,\n",
       " <IBMQBackend('ibmq_burlington') from IBMQ(hub='ibm-q', group='open', project='main')>,\n",
       " <IBMQBackend('ibmq_essex') from IBMQ(hub='ibm-q', group='open', project='main')>,\n",
       " <IBMQBackend('ibmq_armonk') from IBMQ(hub='ibm-q', group='open', project='main')>]"
      ]
     },
     "execution_count": 3,
     "metadata": {},
     "output_type": "execute_result"
    }
   ],
   "source": [
    "my_provider = IBMQ.get_provider()\n",
    "my_provider.backends()"
   ]
  },
  {
   "cell_type": "markdown",
   "metadata": {},
   "source": [
    "#### Choose the backend you like"
   ]
  },
  {
   "cell_type": "code",
   "execution_count": 16,
   "metadata": {},
   "outputs": [],
   "source": [
    "my_provider = IBMQ.get_provider()\n",
    "backend  = my_provider.get_backend('ibmqx2')\n",
    "backend  = my_provider.get_backend('ibmq_qasm_simulator')"
   ]
  },
  {
   "cell_type": "markdown",
   "metadata": {},
   "source": [
    "### Let's now write the code for quantum circuit: Toffoli (CCNOT) gate \n",
    "#### The CCNOT gate consists of two controlling Qbits and one target Qbit  https://en.wikipedia.org/wiki/Quantum_logic_gate\n",
    "#### See the structure of this circuit here:  https://quantum-computing.ibm.com/composer/062b0e36efb468a2752b39a48327e86c </br>\n",
    "#### This circuit consists of two repeating blocks which we call A and B gates        "
   ]
  },
  {
   "cell_type": "markdown",
   "metadata": {},
   "source": [
    "#### Create 3 Qbits and 3 classical measurement gates"
   ]
  },
  {
   "cell_type": "code",
   "execution_count": 5,
   "metadata": {},
   "outputs": [],
   "source": [
    "qr=qk.QuantumRegister(3)\n",
    "cr=qk.ClassicalRegister(3)\n",
    "qc=qk.QuantumCircuit(qr,cr)"
   ]
  },
  {
   "cell_type": "markdown",
   "metadata": {},
   "source": [
    "### Prepare the state of controlling Qbits\n",
    "####  Let's choose Qbits 1 and 2 as controlling ones and Qbit 0 as the target one. \n",
    "#### Initially all Qbits are in |0> state\n"
   ]
  },
  {
   "cell_type": "code",
   "execution_count": 6,
   "metadata": {},
   "outputs": [
    {
     "data": {
      "text/plain": [
       "<qiskit.circuit.instructionset.InstructionSet at 0x7f2f7d74fcf8>"
      ]
     },
     "execution_count": 6,
     "metadata": {},
     "output_type": "execute_result"
    }
   ],
   "source": [
    "#qc.x(qr[2])\n",
    "qc.x(qr[1])"
   ]
  },
  {
   "cell_type": "markdown",
   "metadata": {},
   "source": [
    "#### Write the A and B gates which are the elements of the Toffoli gate\n"
   ]
  },
  {
   "cell_type": "code",
   "execution_count": 7,
   "metadata": {},
   "outputs": [
    {
     "data": {
      "text/plain": [
       "<qiskit.circuit.instructionset.InstructionSet at 0x7f2f7d66b0f0>"
      ]
     },
     "execution_count": 7,
     "metadata": {},
     "output_type": "execute_result"
    }
   ],
   "source": [
    "# A gate\n",
    "qc.h(qr[0])\n",
    "qc.cx(qr[2],qr[0])\n",
    "qc.h(qr[0])\n",
    "\n",
    "# B gate\n",
    "qc.h(qr[0])\n",
    "qc.tdg(qr[0])\n",
    "qc.cx(qr[2],qr[0])\n",
    "qc.t(qr[0])\n",
    "qc.h(qr[0])\n",
    "\n",
    "# A gate\n",
    "qc.h(qr[0])\n",
    "qc.cx(qr[1],qr[0])\n",
    "qc.h(qr[0])\n",
    "\n",
    "# B gate\n",
    "qc.h(qr[0])\n",
    "qc.tdg(qr[0])\n",
    "qc.cx(qr[2],qr[0])\n",
    "qc.t(qr[0])\n",
    "qc.h(qr[0])"
   ]
  },
  {
   "cell_type": "markdown",
   "metadata": {},
   "source": [
    "#### Create measurement gates in computational basis\n"
   ]
  },
  {
   "cell_type": "code",
   "execution_count": 8,
   "metadata": {},
   "outputs": [
    {
     "data": {
      "text/plain": [
       "<qiskit.circuit.instructionset.InstructionSet at 0x7f2f7d6e8128>"
      ]
     },
     "execution_count": 8,
     "metadata": {},
     "output_type": "execute_result"
    }
   ],
   "source": [
    "measureZ=qk.QuantumCircuit(qr,cr)\n",
    "measureZ.measure(qr,cr)"
   ]
  },
  {
   "cell_type": "markdown",
   "metadata": {},
   "source": [
    "#### Create measurement gates in superposition basis\n"
   ]
  },
  {
   "cell_type": "code",
   "execution_count": 9,
   "metadata": {},
   "outputs": [
    {
     "data": {
      "text/plain": [
       "<qiskit.circuit.instructionset.InstructionSet at 0x7f2f7d6e8198>"
      ]
     },
     "execution_count": 9,
     "metadata": {},
     "output_type": "execute_result"
    }
   ],
   "source": [
    "measureX=qk.QuantumCircuit(qr,cr)\n",
    "measureX.h(qr)\n",
    "measureX.measure(qr,cr)"
   ]
  },
  {
   "cell_type": "markdown",
   "metadata": {},
   "source": [
    "#### Add measurement gates to the cirquit"
   ]
  },
  {
   "cell_type": "code",
   "execution_count": 10,
   "metadata": {},
   "outputs": [],
   "source": [
    "testZ=qc+measureZ\n",
    "testX=qc+measureX"
   ]
  },
  {
   "cell_type": "markdown",
   "metadata": {},
   "source": [
    "### Run the algorithm"
   ]
  },
  {
   "cell_type": "markdown",
   "metadata": {},
   "source": [
    "#### 1) Choose backend: IBM cloud simulator"
   ]
  },
  {
   "cell_type": "code",
   "execution_count": 11,
   "metadata": {},
   "outputs": [],
   "source": [
    "my_provider = IBMQ.get_provider()\n",
    "backend  = my_provider.get_backend('ibmq_qasm_simulator')\n",
    "\n",
    "jobIBM=qk.execute([testZ,testX],backend=backend,shots=1024)\n",
    "result=jobIBM.result()\n"
   ]
  },
  {
   "cell_type": "markdown",
   "metadata": {},
   "source": [
    "Plot results as histogram"
   ]
  },
  {
   "cell_type": "code",
   "execution_count": 12,
   "metadata": {},
   "outputs": [
    {
     "data": {
      "image/png": "[encoded data removed]",
      "text/plain": [
       "<Figure size 504x360 with 1 Axes>"
      ]
     },
     "execution_count": 12,
     "metadata": {},
     "output_type": "execute_result"
    }
   ],
   "source": [
    "from qiskit.tools.visualization import plot_histogram\n",
    "plot_histogram(result.get_counts(testZ)) \n"
   ]
  },
  {
   "cell_type": "markdown",
   "metadata": {},
   "source": [
    "<span style=\"color:blue\"> **As the initial state is 010 it should not change by CCNOT. </br>\n",
    "    As we see simulator gives the correct result** </span>"
   ]
  },
  {
   "cell_type": "markdown",
   "metadata": {},
   "source": [
    "#### 2) Choose backend: Local qiskit simulator"
   ]
  },
  {
   "cell_type": "code",
   "execution_count": 13,
   "metadata": {},
   "outputs": [],
   "source": [
    "backend=Aer.get_backend('qasm_simulator')\n",
    "\n",
    "jobIBM=qk.execute([testZ,testX],backend=backend,shots=1024)\n",
    "result=jobIBM.result()"
   ]
  },
  {
   "cell_type": "markdown",
   "metadata": {},
   "source": [
    "Plot results as histogram"
   ]
  },
  {
   "cell_type": "code",
   "execution_count": 14,
   "metadata": {},
   "outputs": [
    {
     "data": {
      "image/png": "[encoded data removed]",
      "text/plain": [
       "<Figure size 504x360 with 1 Axes>"
      ]
     },
     "execution_count": 14,
     "metadata": {},
     "output_type": "execute_result"
    }
   ],
   "source": [
    "from qiskit.tools.visualization import plot_histogram\n",
    "plot_histogram(result.get_counts(testZ)) \n"
   ]
  },
  {
   "cell_type": "markdown",
   "metadata": {},
   "source": [
    "#### 3) Choose backend: ibmqx2 chip"
   ]
  },
  {
   "cell_type": "code",
   "execution_count": 16,
   "metadata": {},
   "outputs": [],
   "source": [
    "my_provider = IBMQ.get_provider()\n",
    "backend  = my_provider.get_backend('ibmqx2')\n",
    "\n",
    "jobIBM=qk.execute([testZ,testX],backend=backend,shots=1024)\n",
    "result=jobIBM.result()"
   ]
  },
  {
   "cell_type": "markdown",
   "metadata": {},
   "source": [
    "Plot results as histogram"
   ]
  },
  {
   "cell_type": "code",
   "execution_count": 17,
   "metadata": {},
   "outputs": [
    {
     "data": {
      "image/png": "[encoded data removed]",
      "text/plain": [
       "<Figure size 504x360 with 1 Axes>"
      ]
     },
     "execution_count": 17,
     "metadata": {},
     "output_type": "execute_result"
    }
   ],
   "source": [
    "from qiskit.tools.visualization import plot_histogram\n",
    "plot_histogram(result.get_counts(testZ)) "
   ]
  },
  {
   "cell_type": "markdown",
   "metadata": {},
   "source": [
    "#### As the initial state is 010 it should not change by CCNOT. \n",
    "####    As we see real experiment gives this result with probability 0.854"
   ]
  },
  {
   "cell_type": "markdown",
   "metadata": {},
   "source": [
    "### Let's try another input state, e.g. 011"
   ]
  },
  {
   "cell_type": "code",
   "execution_count": 30,
   "metadata": {},
   "outputs": [],
   "source": [
    "qr=qk.QuantumRegister(3)\n",
    "cr=qk.ClassicalRegister(3)\n",
    "qc=qk.QuantumCircuit(qr,cr)\n",
    "\n",
    "qc.x(qr[2])\n",
    "qc.x(qr[1])\n",
    "\n",
    "# A gate\n",
    "qc.h(qr[0])\n",
    "qc.cx(qr[2],qr[0])\n",
    "qc.h(qr[0])\n",
    "\n",
    "# B gate\n",
    "qc.h(qr[0])\n",
    "qc.tdg(qr[0])\n",
    "qc.cx(qr[2],qr[0])\n",
    "qc.t(qr[0])\n",
    "qc.h(qr[0])\n",
    "\n",
    "# A gate\n",
    "qc.h(qr[0])\n",
    "qc.cx(qr[1],qr[0])\n",
    "qc.h(qr[0])\n",
    "\n",
    "# B gate\n",
    "qc.h(qr[0])\n",
    "qc.tdg(qr[0])\n",
    "qc.cx(qr[2],qr[0])\n",
    "qc.t(qr[0])\n",
    "qc.h(qr[0])\n",
    "\n",
    "measureZ=qk.QuantumCircuit(qr,cr)\n",
    "measureZ.measure(qr,cr)\n",
    "testZ=qc+measureZ\n"
   ]
  },
  {
   "cell_type": "markdown",
   "metadata": {},
   "source": [
    "#### Choose backend: Local qiskit simulator "
   ]
  },
  {
   "cell_type": "code",
   "execution_count": 32,
   "metadata": {},
   "outputs": [
    {
     "data": {
      "image/png": "[encoded data removed]",
      "text/plain": [
       "<Figure size 504x360 with 1 Axes>"
      ]
     },
     "execution_count": 32,
     "metadata": {},
     "output_type": "execute_result"
    }
   ],
   "source": [
    "backend=Aer.get_backend('qasm_simulator')\n",
    "\n",
    "jobIBM=qk.execute([testZ],backend=backend,shots=1024)\n",
    "result=jobIBM.result()\n",
    "from qiskit.tools.visualization import plot_histogram\n",
    "plot_histogram(result.get_counts(testZ)) "
   ]
  },
  {
   "cell_type": "markdown",
   "metadata": {},
   "source": [
    "#### Choose backend: ibmqx2 chip"
   ]
  },
  {
   "cell_type": "code",
   "execution_count": 33,
   "metadata": {},
   "outputs": [],
   "source": [
    "my_provider = IBMQ.get_provider()\n",
    "backend  = my_provider.get_backend('ibmqx2')\n",
    "\n",
    "jobIBM=qk.execute([testZ],backend=backend,shots=1024)\n",
    "result=jobIBM.result()"
   ]
  },
  {
   "cell_type": "code",
   "execution_count": 34,
   "metadata": {},
   "outputs": [
    {
     "data": {
      "image/png": "[encoded data removed]",
      "text/plain": [
       "<Figure size 504x360 with 1 Axes>"
      ]
     },
     "execution_count": 34,
     "metadata": {},
     "output_type": "execute_result"
    }
   ],
   "source": [
    "from qiskit.tools.visualization import plot_histogram\n",
    "plot_histogram(result.get_counts(testZ)) "
   ]
  },
  {
   "cell_type": "code",
   "execution_count": null,
   "metadata": {},
   "outputs": [],
   "source": []
  }
 ],
 "metadata": {
  "kernelspec": {
   "display_name": "Python",
   "language": "python",
   "name": "conda-env-python-py"
  },
  "language_info": {
   "codemirror_mode": {
    "name": "ipython",
    "version": 3
   },
   "file_extension": ".py",
   "mimetype": "text/x-python",
   "name": "python",
   "nbconvert_exporter": "python",
   "pygments_lexer": "ipython3",
   "version": "3.6.7"
  }
 },
 "nbformat": 4,
 "nbformat_minor": 4
}
