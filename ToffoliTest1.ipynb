{
 "cells": [
  {
   "cell_type": "markdown",
   "metadata": {},
   "source": [
    "## Testing CCNOT (Toffoli) gate using IBMQ"
   ]
  },
  {
   "cell_type": "markdown",
   "metadata": {},
   "source": [
    "#### Load libraries"
   ]
  },
  {
   "cell_type": "code",
   "execution_count": 1,
   "metadata": {},
   "outputs": [
    {
     "name": "stdout",
     "output_type": "stream",
     "text": [
      "Requirement already satisfied: qiskit in c:\\users\\mike\\anaconda3\\lib\\site-packages (0.20.0)\n",
      "Requirement already satisfied: qiskit-ignis==0.4.0 in c:\\users\\mike\\anaconda3\\lib\\site-packages (from qiskit) (0.4.0)\n",
      "Requirement already satisfied: qiskit-aqua==0.7.5 in c:\\users\\mike\\anaconda3\\lib\\site-packages (from qiskit) (0.7.5)\n",
      "Requirement already satisfied: qiskit-aer==0.6.1 in c:\\users\\mike\\anaconda3\\lib\\site-packages (from qiskit) (0.6.1)\n",
      "Requirement already satisfied: qiskit-ibmq-provider==0.8.0 in c:\\users\\mike\\anaconda3\\lib\\site-packages (from qiskit) (0.8.0)\n",
      "Requirement already satisfied: qiskit-terra==0.15.1 in c:\\users\\mike\\anaconda3\\lib\\site-packages (from qiskit) (0.15.1)\n",
      "Requirement already satisfied: setuptools>=40.1.0 in c:\\users\\mike\\anaconda3\\lib\\site-packages (from qiskit-ignis==0.4.0->qiskit) (49.2.0.post20200714)\n",
      "Requirement already satisfied: numpy>=1.13 in c:\\users\\mike\\anaconda3\\lib\\site-packages (from qiskit-ignis==0.4.0->qiskit) (1.18.5)\n",
      "Requirement already satisfied: scikit-learn>=0.17 in c:\\users\\mike\\anaconda3\\lib\\site-packages (from qiskit-ignis==0.4.0->qiskit) (0.23.1)\n",
      "Requirement already satisfied: scipy!=0.19.1,>=0.19 in c:\\users\\mike\\anaconda3\\lib\\site-packages (from qiskit-ignis==0.4.0->qiskit) (1.5.0)\n",
      "Requirement already satisfied: docplex in c:\\users\\mike\\anaconda3\\lib\\site-packages (from qiskit-aqua==0.7.5->qiskit) (2.15.194)\n",
      "Requirement already satisfied: quandl in c:\\users\\mike\\anaconda3\\lib\\site-packages (from qiskit-aqua==0.7.5->qiskit) (3.5.2)\n",
      "Requirement already satisfied: psutil>=5 in c:\\users\\mike\\anaconda3\\lib\\site-packages (from qiskit-aqua==0.7.5->qiskit) (5.7.0)\n",
      "Requirement already satisfied: yfinance in c:\\users\\mike\\anaconda3\\lib\\site-packages (from qiskit-aqua==0.7.5->qiskit) (0.1.54)\n",
      "Requirement already satisfied: h5py in c:\\users\\mike\\anaconda3\\lib\\site-packages (from qiskit-aqua==0.7.5->qiskit) (2.10.0)\n",
      "Requirement already satisfied: sympy>=1.3 in c:\\users\\mike\\anaconda3\\lib\\site-packages (from qiskit-aqua==0.7.5->qiskit) (1.6.1)\n",
      "Requirement already satisfied: dlx in c:\\users\\mike\\anaconda3\\lib\\site-packages (from qiskit-aqua==0.7.5->qiskit) (1.0.4)\n",
      "Requirement already satisfied: networkx>=2.2 in c:\\users\\mike\\anaconda3\\lib\\site-packages (from qiskit-aqua==0.7.5->qiskit) (2.4)\n",
      "Requirement already satisfied: fastdtw in c:\\users\\mike\\anaconda3\\lib\\site-packages (from qiskit-aqua==0.7.5->qiskit) (0.3.4)\n",
      "Requirement already satisfied: pandas in c:\\users\\mike\\anaconda3\\lib\\site-packages (from qiskit-aqua==0.7.5->qiskit) (1.0.5)\n",
      "Requirement already satisfied: pybind11>=2.4 in c:\\users\\mike\\anaconda3\\lib\\site-packages (from qiskit-aer==0.6.1->qiskit) (2.5.0)\n",
      "Requirement already satisfied: cython>=0.27.1 in c:\\users\\mike\\anaconda3\\lib\\site-packages (from qiskit-aer==0.6.1->qiskit) (0.29.21)\n",
      "Requirement already satisfied: requests-ntlm>=1.1.0 in c:\\users\\mike\\anaconda3\\lib\\site-packages (from qiskit-ibmq-provider==0.8.0->qiskit) (1.1.0)\n",
      "Requirement already satisfied: python-dateutil>=2.8.0 in c:\\users\\mike\\anaconda3\\lib\\site-packages (from qiskit-ibmq-provider==0.8.0->qiskit) (2.8.1)\n",
      "Requirement already satisfied: urllib3>=1.21.1 in c:\\users\\mike\\anaconda3\\lib\\site-packages (from qiskit-ibmq-provider==0.8.0->qiskit) (1.25.9)\n",
      "Requirement already satisfied: nest-asyncio!=1.1.0,>=1.0.0 in c:\\users\\mike\\anaconda3\\lib\\site-packages (from qiskit-ibmq-provider==0.8.0->qiskit) (1.4.0)\n",
      "Requirement already satisfied: websockets>=8; python_version > \"3.6\" in c:\\users\\mike\\anaconda3\\lib\\site-packages (from qiskit-ibmq-provider==0.8.0->qiskit) (8.1)\n",
      "Requirement already satisfied: requests>=2.19 in c:\\users\\mike\\anaconda3\\lib\\site-packages (from qiskit-ibmq-provider==0.8.0->qiskit) (2.24.0)\n",
      "Requirement already satisfied: jsonschema>=2.6 in c:\\users\\mike\\anaconda3\\lib\\site-packages (from qiskit-terra==0.15.1->qiskit) (3.2.0)\n",
      "Requirement already satisfied: retworkx>=0.4.0 in c:\\users\\mike\\anaconda3\\lib\\site-packages (from qiskit-terra==0.15.1->qiskit) (0.4.0)\n",
      "Requirement already satisfied: ply>=3.10 in c:\\users\\mike\\anaconda3\\lib\\site-packages (from qiskit-terra==0.15.1->qiskit) (3.11)\n",
      "Requirement already satisfied: dill>=0.3 in c:\\users\\mike\\anaconda3\\lib\\site-packages (from qiskit-terra==0.15.1->qiskit) (0.3.2)\n",
      "Requirement already satisfied: python-constraint>=1.4 in c:\\users\\mike\\anaconda3\\lib\\site-packages (from qiskit-terra==0.15.1->qiskit) (1.4.0)\n",
      "Requirement already satisfied: fastjsonschema>=2.10 in c:\\users\\mike\\anaconda3\\lib\\site-packages (from qiskit-terra==0.15.1->qiskit) (2.14.5)\n",
      "Requirement already satisfied: joblib>=0.11 in c:\\users\\mike\\anaconda3\\lib\\site-packages (from scikit-learn>=0.17->qiskit-ignis==0.4.0->qiskit) (0.16.0)\n",
      "Requirement already satisfied: threadpoolctl>=2.0.0 in c:\\users\\mike\\anaconda3\\lib\\site-packages (from scikit-learn>=0.17->qiskit-ignis==0.4.0->qiskit) (2.1.0)\n",
      "Requirement already satisfied: six in c:\\users\\mike\\anaconda3\\lib\\site-packages (from docplex->qiskit-aqua==0.7.5->qiskit) (1.15.0)\n",
      "Requirement already satisfied: inflection>=0.3.1 in c:\\users\\mike\\anaconda3\\lib\\site-packages (from quandl->qiskit-aqua==0.7.5->qiskit) (0.5.1)\n",
      "Requirement already satisfied: more-itertools in c:\\users\\mike\\anaconda3\\lib\\site-packages (from quandl->qiskit-aqua==0.7.5->qiskit) (8.4.0)\n",
      "Requirement already satisfied: multitasking>=0.0.7 in c:\\users\\mike\\anaconda3\\lib\\site-packages (from yfinance->qiskit-aqua==0.7.5->qiskit) (0.0.9)\n",
      "Requirement already satisfied: mpmath>=0.19 in c:\\users\\mike\\anaconda3\\lib\\site-packages (from sympy>=1.3->qiskit-aqua==0.7.5->qiskit) (1.1.0)\n",
      "Requirement already satisfied: decorator>=4.3.0 in c:\\users\\mike\\anaconda3\\lib\\site-packages (from networkx>=2.2->qiskit-aqua==0.7.5->qiskit) (4.4.2)\n",
      "Requirement already satisfied: pytz>=2017.2 in c:\\users\\mike\\anaconda3\\lib\\site-packages (from pandas->qiskit-aqua==0.7.5->qiskit) (2020.1)\n",
      "Requirement already satisfied: ntlm-auth>=1.0.2 in c:\\users\\mike\\anaconda3\\lib\\site-packages (from requests-ntlm>=1.1.0->qiskit-ibmq-provider==0.8.0->qiskit) (1.5.0)\n",
      "Requirement already satisfied: cryptography>=1.3 in c:\\users\\mike\\anaconda3\\lib\\site-packages (from requests-ntlm>=1.1.0->qiskit-ibmq-provider==0.8.0->qiskit) (2.9.2)\n",
      "Requirement already satisfied: certifi>=2017.4.17 in c:\\users\\mike\\anaconda3\\lib\\site-packages (from requests>=2.19->qiskit-ibmq-provider==0.8.0->qiskit) (2020.6.20)\n",
      "Requirement already satisfied: chardet<4,>=3.0.2 in c:\\users\\mike\\anaconda3\\lib\\site-packages (from requests>=2.19->qiskit-ibmq-provider==0.8.0->qiskit) (3.0.4)\n",
      "Requirement already satisfied: idna<3,>=2.5 in c:\\users\\mike\\anaconda3\\lib\\site-packages (from requests>=2.19->qiskit-ibmq-provider==0.8.0->qiskit) (2.10)\n",
      "Requirement already satisfied: pyrsistent>=0.14.0 in c:\\users\\mike\\anaconda3\\lib\\site-packages (from jsonschema>=2.6->qiskit-terra==0.15.1->qiskit) (0.16.0)\n",
      "Requirement already satisfied: attrs>=17.4.0 in c:\\users\\mike\\anaconda3\\lib\\site-packages (from jsonschema>=2.6->qiskit-terra==0.15.1->qiskit) (19.3.0)\n",
      "Requirement already satisfied: cffi!=1.11.3,>=1.8 in c:\\users\\mike\\anaconda3\\lib\\site-packages (from cryptography>=1.3->requests-ntlm>=1.1.0->qiskit-ibmq-provider==0.8.0->qiskit) (1.14.0)\n",
      "Requirement already satisfied: pycparser in c:\\users\\mike\\anaconda3\\lib\\site-packages (from cffi!=1.11.3,>=1.8->cryptography>=1.3->requests-ntlm>=1.1.0->qiskit-ibmq-provider==0.8.0->qiskit) (2.20)\n"
     ]
    }
   ],
   "source": [
    "!pip install qiskit\n",
    "import qiskit as qk\n",
    "from qiskit import IBMQ,Aer"
   ]
  },
  {
   "cell_type": "markdown",
   "metadata": {},
   "source": [
    "#### Qconfig_IBMQ_experience.py is file where you put the credentials in the form: \n",
    "#### APItoken = '' \n",
    "#### To get the token register at https://quantum-computing.ibm.com/account "
   ]
  },
  {
   "cell_type": "code",
   "execution_count": 2,
   "metadata": {},
   "outputs": [
    {
     "name": "stderr",
     "output_type": "stream",
     "text": [
      "C:\\Users\\Mike\\anaconda3\\lib\\site-packages\\qiskit\\providers\\ibmq\\ibmqfactory.py:192: UserWarning: Timestamps in IBMQ backend properties, jobs, and job results are all now in local time instead of UTC.\n",
      "  warnings.warn('Timestamps in IBMQ backend properties, jobs, and job results '\n"
     ]
    },
    {
     "data": {
      "text/plain": [
       "<AccountProvider for IBMQ(hub='ibm-q', group='open', project='main')>"
      ]
     },
     "execution_count": 2,
     "metadata": {},
     "output_type": "execute_result"
    }
   ],
   "source": [
    "import Qconfig_IBMQ_experience\n",
    "IBMQ.save_account(Qconfig_IBMQ_experience.APItoken, overwrite=True)\n",
    "IBMQ.load_account()"
   ]
  },
  {
   "cell_type": "markdown",
   "metadata": {},
   "source": [
    "####   Alternatively you can insert token directly:             "
   ]
  },
  {
   "cell_type": "code",
   "execution_count": 4,
   "metadata": {},
   "outputs": [
    {
     "data": {
      "text/plain": [
       "<AccountProvider for IBMQ(hub='ibm-q', group='open', project='main')>"
      ]
     },
     "execution_count": 4,
     "metadata": {},
     "output_type": "execute_result"
    }
   ],
   "source": [
    "#IBMQ.enable_account(\"your token here\")"
   ]
  },
  {
   "cell_type": "markdown",
   "metadata": {},
   "source": [
    "#### See which backends are available"
   ]
  },
  {
   "cell_type": "code",
   "execution_count": 4,
   "metadata": {},
   "outputs": [
    {
     "data": {
      "text/plain": [
       "[<IBMQSimulator('ibmq_qasm_simulator') from IBMQ(hub='ibm-q', group='open', project='main')>,\n",
       " <IBMQBackend('ibmqx2') from IBMQ(hub='ibm-q', group='open', project='main')>,\n",
       " <IBMQBackend('ibmq_16_melbourne') from IBMQ(hub='ibm-q', group='open', project='main')>,\n",
       " <IBMQBackend('ibmq_vigo') from IBMQ(hub='ibm-q', group='open', project='main')>,\n",
       " <IBMQBackend('ibmq_ourense') from IBMQ(hub='ibm-q', group='open', project='main')>,\n",
       " <IBMQBackend('ibmq_valencia') from IBMQ(hub='ibm-q', group='open', project='main')>,\n",
       " <IBMQBackend('ibmq_london') from IBMQ(hub='ibm-q', group='open', project='main')>,\n",
       " <IBMQBackend('ibmq_burlington') from IBMQ(hub='ibm-q', group='open', project='main')>,\n",
       " <IBMQBackend('ibmq_essex') from IBMQ(hub='ibm-q', group='open', project='main')>,\n",
       " <IBMQBackend('ibmq_armonk') from IBMQ(hub='ibm-q', group='open', project='main')>,\n",
       " <IBMQBackend('ibmq_santiago') from IBMQ(hub='ibm-q', group='open', project='main')>]"
      ]
     },
     "execution_count": 4,
     "metadata": {},
     "output_type": "execute_result"
    }
   ],
   "source": [
    "my_provider = IBMQ.get_provider()\n",
    "my_provider.backends()"
   ]
  },
  {
   "cell_type": "markdown",
   "metadata": {},
   "source": [
    "#### Choose the backend you like"
   ]
  },
  {
   "cell_type": "code",
   "execution_count": 6,
   "metadata": {},
   "outputs": [],
   "source": [
    "my_provider = IBMQ.get_provider()\n",
    "backend  = my_provider.get_backend('ibmqx2')\n",
    "#backend  = my_provider.get_backend('ibmq_qasm_simulator')"
   ]
  },
  {
   "cell_type": "markdown",
   "metadata": {},
   "source": [
    "### Let's now write the code for quantum circuit: Toffoli (CCNOT) gate \n",
    "#### The CCNOT gate consists of two controlling Qbits and one target Qbit  https://en.wikipedia.org/wiki/Quantum_logic_gate\n",
    "#### This circuit consists of two repeating blocks which we call A and B gates        "
   ]
  },
  {
   "cell_type": "markdown",
   "metadata": {},
   "source": [
    "#### Create 3 Qbits and 3 classical measurement gates"
   ]
  },
  {
   "cell_type": "code",
   "execution_count": 3,
   "metadata": {},
   "outputs": [],
   "source": [
    "qr=qk.QuantumRegister(3)\n",
    "cr=qk.ClassicalRegister(3)\n",
    "qc=qk.QuantumCircuit(qr,cr)"
   ]
  },
  {
   "cell_type": "markdown",
   "metadata": {},
   "source": [
    "### Prepare the state of controlling Qbits\n",
    "####  Let's choose Qbits 1 and 2 as controlling ones and Qbit 0 as the target one. \n",
    "#### Initially all Qbits are in |0> state\n"
   ]
  },
  {
   "cell_type": "code",
   "execution_count": 4,
   "metadata": {},
   "outputs": [
    {
     "data": {
      "text/plain": [
       "<qiskit.circuit.instructionset.InstructionSet at 0x2ad78f28ac0>"
      ]
     },
     "execution_count": 4,
     "metadata": {},
     "output_type": "execute_result"
    }
   ],
   "source": [
    "#qc.x(qr[2])\n",
    "qc.x(qr[1])"
   ]
  },
  {
   "cell_type": "markdown",
   "metadata": {},
   "source": [
    "#### Write the A and B gates which are the elements of the Toffoli gate\n"
   ]
  },
  {
   "cell_type": "code",
   "execution_count": 5,
   "metadata": {},
   "outputs": [
    {
     "data": {
      "text/plain": [
       "<qiskit.circuit.instructionset.InstructionSet at 0x2ad07c53580>"
      ]
     },
     "execution_count": 5,
     "metadata": {},
     "output_type": "execute_result"
    }
   ],
   "source": [
    "# A gate\n",
    "qc.h(qr[0])\n",
    "qc.cx(qr[2],qr[0])\n",
    "qc.h(qr[0])\n",
    "\n",
    "# B gate\n",
    "qc.h(qr[0])\n",
    "qc.tdg(qr[0])\n",
    "qc.cx(qr[2],qr[0])\n",
    "qc.t(qr[0])\n",
    "qc.h(qr[0])\n",
    "\n",
    "# A gate\n",
    "qc.h(qr[0])\n",
    "qc.cx(qr[1],qr[0])\n",
    "qc.h(qr[0])\n",
    "\n",
    "# B gate\n",
    "qc.h(qr[0])\n",
    "qc.tdg(qr[0])\n",
    "qc.cx(qr[2],qr[0])\n",
    "qc.t(qr[0])\n",
    "qc.h(qr[0])"
   ]
  },
  {
   "cell_type": "markdown",
   "metadata": {},
   "source": [
    "#### Create measurement gates in computational basis\n"
   ]
  },
  {
   "cell_type": "code",
   "execution_count": 6,
   "metadata": {},
   "outputs": [
    {
     "data": {
      "text/plain": [
       "<qiskit.circuit.instructionset.InstructionSet at 0x2ad78f402b0>"
      ]
     },
     "execution_count": 6,
     "metadata": {},
     "output_type": "execute_result"
    }
   ],
   "source": [
    "measureZ=qk.QuantumCircuit(qr,cr)\n",
    "measureZ.measure(qr,cr)"
   ]
  },
  {
   "cell_type": "markdown",
   "metadata": {},
   "source": [
    "#### Create measurement gates in superposition basis\n"
   ]
  },
  {
   "cell_type": "code",
   "execution_count": 7,
   "metadata": {},
   "outputs": [
    {
     "data": {
      "text/plain": [
       "<qiskit.circuit.instructionset.InstructionSet at 0x2ad78f28ca0>"
      ]
     },
     "execution_count": 7,
     "metadata": {},
     "output_type": "execute_result"
    }
   ],
   "source": [
    "measureX=qk.QuantumCircuit(qr,cr)\n",
    "measureX.h(qr)\n",
    "measureX.measure(qr,cr)"
   ]
  },
  {
   "cell_type": "markdown",
   "metadata": {},
   "source": [
    "#### Add measurement gates to the cirquit"
   ]
  },
  {
   "cell_type": "code",
   "execution_count": 8,
   "metadata": {},
   "outputs": [],
   "source": [
    "testZ=qc+measureZ\n",
    "testX=qc+measureX"
   ]
  },
  {
   "cell_type": "markdown",
   "metadata": {},
   "source": [
    "#### See the structure of this circuit :"
   ]
  },
  {
   "cell_type": "code",
   "execution_count": 9,
   "metadata": {},
   "outputs": [
    {
     "data": {
      "image/png": "[encoded data removed]",
      "text/plain": [
       "<Figure size 1177.16x264.88 with 1 Axes>"
      ]
     },
     "execution_count": 9,
     "metadata": {},
     "output_type": "execute_result"
    }
   ],
   "source": [
    "testZ.draw(output='mpl')"
   ]
  },
  {
   "cell_type": "code",
   "execution_count": 10,
   "metadata": {},
   "outputs": [
    {
     "data": {
      "image/png": "[encoded data removed]",
      "text/plain": [
       "<Figure size 1237.36x264.88 with 1 Axes>"
      ]
     },
     "execution_count": 10,
     "metadata": {},
     "output_type": "execute_result"
    }
   ],
   "source": [
    "testX.draw(output='mpl')"
   ]
  },
  {
   "cell_type": "markdown",
   "metadata": {},
   "source": [
    "### Run the algorithm"
   ]
  },
  {
   "cell_type": "markdown",
   "metadata": {},
   "source": [
    "#### 1) Choose backend: IBM cloud simulator"
   ]
  },
  {
   "cell_type": "code",
   "execution_count": 18,
   "metadata": {},
   "outputs": [],
   "source": [
    "my_provider = IBMQ.get_provider()\n",
    "backend  = my_provider.get_backend('ibmq_qasm_simulator')\n",
    "\n",
    "jobIBM=qk.execute([testZ,testX],backend=backend,shots=1024)\n",
    "result=jobIBM.result()\n"
   ]
  },
  {
   "cell_type": "markdown",
   "metadata": {},
   "source": [
    "Plot results as histogram"
   ]
  },
  {
   "cell_type": "code",
   "execution_count": 19,
   "metadata": {},
   "outputs": [
    {
     "data": {
      "image/png": "[encoded data removed]",
      "text/plain": [
       "<Figure size 504x360 with 1 Axes>"
      ]
     },
     "execution_count": 19,
     "metadata": {},
     "output_type": "execute_result"
    }
   ],
   "source": [
    "from qiskit.tools.visualization import plot_histogram\n",
    "plot_histogram(result.get_counts(testZ)) \n"
   ]
  },
  {
   "cell_type": "markdown",
   "metadata": {},
   "source": [
    "<span style=\"color:blue\"> **As the initial state is 010 it should not change by CCNOT. </br>\n",
    "    As we see simulator gives the correct result** </span>"
   ]
  },
  {
   "cell_type": "markdown",
   "metadata": {},
   "source": [
    "#### 2) Choose backend: Local qiskit simulator"
   ]
  },
  {
   "cell_type": "code",
   "execution_count": 16,
   "metadata": {},
   "outputs": [],
   "source": [
    "backend=Aer.get_backend('qasm_simulator')\n",
    "\n",
    "jobIBM=qk.execute([testZ,testX],backend=backend,shots=1024)\n",
    "result=jobIBM.result()"
   ]
  },
  {
   "cell_type": "markdown",
   "metadata": {},
   "source": [
    "Plot results as histogram"
   ]
  },
  {
   "cell_type": "code",
   "execution_count": 17,
   "metadata": {
    "scrolled": true
   },
   "outputs": [
    {
     "data": {
      "image/png": "[encoded data removed]",
      "text/plain": [
       "<Figure size 504x360 with 1 Axes>"
      ]
     },
     "execution_count": 17,
     "metadata": {},
     "output_type": "execute_result"
    }
   ],
   "source": [
    "from qiskit.tools.visualization import plot_histogram\n",
    "plot_histogram(result.get_counts(testZ)) \n"
   ]
  },
  {
   "cell_type": "markdown",
   "metadata": {},
   "source": [
    "#### 3) Find less buisy device"
   ]
  },
  {
   "cell_type": "code",
   "execution_count": 22,
   "metadata": {},
   "outputs": [
    {
     "data": {
      "text/plain": [
       "<IBMQBackend('ibmq_ourense') from IBMQ(hub='ibm-q', group='open', project='main')>"
      ]
     },
     "execution_count": 22,
     "metadata": {},
     "output_type": "execute_result"
    }
   ],
   "source": [
    "provider = IBMQ.get_provider(hub='ibm-q')\n",
    "provider.backends()\n",
    "\n",
    "from qiskit.providers.ibmq import least_busy\n",
    "\n",
    "small_devices = provider.backends(filters=lambda x: x.configuration().n_qubits == 5\n",
    "                                   and not x.configuration().simulator)\n",
    "least_busy(small_devices)"
   ]
  },
  {
   "cell_type": "code",
   "execution_count": null,
   "metadata": {},
   "outputs": [],
   "source": []
  },
  {
   "cell_type": "markdown",
   "metadata": {},
   "source": [
    "#### 3a) Choose backend: least buisy"
   ]
  },
  {
   "cell_type": "code",
   "execution_count": 23,
   "metadata": {},
   "outputs": [],
   "source": [
    "my_provider = IBMQ.get_provider()\n",
    "backend  = my_provider.get_backend('ibmq_ourense')\n",
    "\n",
    "jobIBM=qk.execute([testZ,testX],backend=backend,shots=1024)\n",
    "result=jobIBM.result()"
   ]
  },
  {
   "cell_type": "markdown",
   "metadata": {},
   "source": [
    "Plot results as histogram"
   ]
  },
  {
   "cell_type": "code",
   "execution_count": 24,
   "metadata": {},
   "outputs": [
    {
     "data": {
      "image/png": "[encoded data removed]",
      "text/plain": [
       "<Figure size 504x360 with 1 Axes>"
      ]
     },
     "execution_count": 24,
     "metadata": {},
     "output_type": "execute_result"
    }
   ],
   "source": [
    "from qiskit.tools.visualization import plot_histogram\n",
    "plot_histogram(result.get_counts(testZ)) "
   ]
  },
  {
   "cell_type": "markdown",
   "metadata": {},
   "source": [
    "#### As the initial state is 010 it should not change by CCNOT. \n",
    "####    As we see real experiment gives this result with probability 0.854"
   ]
  },
  {
   "cell_type": "markdown",
   "metadata": {},
   "source": [
    "### Let's try another input state, e.g. 011"
   ]
  },
  {
   "cell_type": "code",
   "execution_count": 30,
   "metadata": {},
   "outputs": [],
   "source": [
    "qr=qk.QuantumRegister(3)\n",
    "cr=qk.ClassicalRegister(3)\n",
    "qc=qk.QuantumCircuit(qr,cr)\n",
    "\n",
    "qc.x(qr[2])\n",
    "qc.x(qr[1])\n",
    "\n",
    "# A gate\n",
    "qc.h(qr[0])\n",
    "qc.cx(qr[2],qr[0])\n",
    "qc.h(qr[0])\n",
    "\n",
    "# B gate\n",
    "qc.h(qr[0])\n",
    "qc.tdg(qr[0])\n",
    "qc.cx(qr[2],qr[0])\n",
    "qc.t(qr[0])\n",
    "qc.h(qr[0])\n",
    "\n",
    "# A gate\n",
    "qc.h(qr[0])\n",
    "qc.cx(qr[1],qr[0])\n",
    "qc.h(qr[0])\n",
    "\n",
    "# B gate\n",
    "qc.h(qr[0])\n",
    "qc.tdg(qr[0])\n",
    "qc.cx(qr[2],qr[0])\n",
    "qc.t(qr[0])\n",
    "qc.h(qr[0])\n",
    "\n",
    "measureZ=qk.QuantumCircuit(qr,cr)\n",
    "measureZ.measure(qr,cr)\n",
    "testZ=qc+measureZ\n"
   ]
  },
  {
   "cell_type": "markdown",
   "metadata": {},
   "source": [
    "#### Choose backend: Local qiskit simulator "
   ]
  },
  {
   "cell_type": "code",
   "execution_count": 32,
   "metadata": {},
   "outputs": [
    {
     "data": {
      "image/png": "[encoded data removed]",
      "text/plain": [
       "<Figure size 504x360 with 1 Axes>"
      ]
     },
     "execution_count": 32,
     "metadata": {},
     "output_type": "execute_result"
    }
   ],
   "source": [
    "backend=Aer.get_backend('qasm_simulator')\n",
    "\n",
    "jobIBM=qk.execute([testZ],backend=backend,shots=1024)\n",
    "result=jobIBM.result()\n",
    "from qiskit.tools.visualization import plot_histogram\n",
    "plot_histogram(result.get_counts(testZ)) "
   ]
  },
  {
   "cell_type": "markdown",
   "metadata": {},
   "source": [
    "#### Choose backend: ibmqx2 chip"
   ]
  },
  {
   "cell_type": "code",
   "execution_count": 33,
   "metadata": {},
   "outputs": [],
   "source": [
    "my_provider = IBMQ.get_provider()\n",
    "backend  = my_provider.get_backend('ibmqx2')\n",
    "\n",
    "jobIBM=qk.execute([testZ],backend=backend,shots=1024)\n",
    "result=jobIBM.result()"
   ]
  },
  {
   "cell_type": "code",
   "execution_count": 34,
   "metadata": {},
   "outputs": [
    {
     "data": {
      "image/png": "[encoded data removed]",
      "text/plain": [
       "<Figure size 504x360 with 1 Axes>"
      ]
     },
     "execution_count": 34,
     "metadata": {},
     "output_type": "execute_result"
    }
   ],
   "source": [
    "from qiskit.tools.visualization import plot_histogram\n",
    "plot_histogram(result.get_counts(testZ)) "
   ]
  },
  {
   "cell_type": "code",
   "execution_count": 26,
   "metadata": {},
   "outputs": [
    {
     "name": "stderr",
     "output_type": "stream",
     "text": [
      "C:\\Users\\Mike\\anaconda3\\lib\\site-packages\\qiskit\\providers\\ibmq\\ibmqfactory.py:192: UserWarning: Timestamps in IBMQ backend properties, jobs, and job results are all now in local time instead of UTC.\n",
      "  warnings.warn('Timestamps in IBMQ backend properties, jobs, and job results '\n",
      "ibmqfactory.load_account:WARNING:2020-09-04 11:17:00,808: Credentials are already in use. The existing account in the session will be replaced.\n"
     ]
    }
   ],
   "source": [
    "from qiskit import IBMQ\n",
    "import Qconfig_IBMQ_experience\n",
    "IBMQ.save_account(Qconfig_IBMQ_experience.APItoken, overwrite=True)\n",
    "IBMQ.load_account()\n",
    "\n",
    "provider = IBMQ.get_provider(hub='ibm-q', group='open', project='main')\n",
    "backend = provider.get_backend('ibmq_armonk')"
   ]
  },
  {
   "cell_type": "code",
   "execution_count": 27,
   "metadata": {},
   "outputs": [],
   "source": [
    "backend_config = backend.configuration()\n",
    "assert backend_config.open_pulse, \"Backend doesn't support Pulse\""
   ]
  },
  {
   "cell_type": "code",
   "execution_count": 28,
   "metadata": {},
   "outputs": [
    {
     "name": "stdout",
     "output_type": "stream",
     "text": [
      "Sampling time: 0.2222222222222222 ns\n"
     ]
    }
   ],
   "source": [
    "dt = backend_config.dt\n",
    "print(f\"Sampling time: {dt*1e9} ns\") "
   ]
  },
  {
   "cell_type": "code",
   "execution_count": 29,
   "metadata": {},
   "outputs": [],
   "source": [
    "backend_defaults = backend.defaults()"
   ]
  },
  {
   "cell_type": "code",
   "execution_count": null,
   "metadata": {},
   "outputs": [],
   "source": []
  }
 ],
 "metadata": {
  "kernelspec": {
   "display_name": "Python 3",
   "language": "python",
   "name": "python3"
  },
  "language_info": {
   "codemirror_mode": {
    "name": "ipython",
    "version": 3
   },
   "file_extension": ".py",
   "mimetype": "text/x-python",
   "name": "python",
   "nbconvert_exporter": "python",
   "pygments_lexer": "ipython3",
   "version": "3.8.3"
  }
 },
 "nbformat": 4,
 "nbformat_minor": 4
}
